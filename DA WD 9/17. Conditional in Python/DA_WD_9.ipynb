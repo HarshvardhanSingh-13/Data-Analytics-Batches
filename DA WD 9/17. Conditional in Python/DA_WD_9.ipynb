{
  "nbformat": 4,
  "nbformat_minor": 0,
  "metadata": {
    "colab": {
      "provenance": []
    },
    "kernelspec": {
      "name": "python3",
      "display_name": "Python 3"
    },
    "language_info": {
      "name": "python"
    }
  },
  "cells": [
    {
      "cell_type": "markdown",
      "source": [
        "# Questions"
      ],
      "metadata": {
        "id": "0M-yKxiBcnqM"
      }
    },
    {
      "cell_type": "code",
      "execution_count": 2,
      "metadata": {
        "colab": {
          "base_uri": "https://localhost:8080/"
        },
        "id": "YKLhQ8kvb7cR",
        "outputId": "1f523897-9bf7-4e68-d8a3-711a9a607922"
      },
      "outputs": [
        {
          "output_type": "stream",
          "name": "stdout",
          "text": [
            "Hi Harsh your marks is 23\n",
            "Hi Harsh, your marks is 23\n"
          ]
        }
      ],
      "source": [
        "marks = 23\n",
        "name = 'Harsh'\n",
        "\n",
        "print('Hi',name,\"your marks is\",marks)\n",
        "print(f\"Hi {name}, your marks is {marks}\")"
      ]
    },
    {
      "cell_type": "markdown",
      "source": [
        "#### Q) Find the Volume of a cylinder"
      ],
      "metadata": {
        "id": "udNVk5dBdcAn"
      }
    },
    {
      "cell_type": "code",
      "source": [
        "pi = 3.14\n",
        "r = float(input('Give r '))\n",
        "h = float(input('Give  '))\n",
        "\n",
        "vol = (pi*(r**2)*h)\n",
        "print(f\"The Vol of Cylinder is {vol}\")"
      ],
      "metadata": {
        "colab": {
          "base_uri": "https://localhost:8080/"
        },
        "id": "7nGxujgGcmSL",
        "outputId": "1fdb01a2-1704-4653-c998-50d3a79076e0"
      },
      "execution_count": 6,
      "outputs": [
        {
          "output_type": "stream",
          "name": "stdout",
          "text": [
            "Give r 34\n",
            "Give  6\n",
            "The Vol of Cylinder is 21779.04\n"
          ]
        }
      ]
    },
    {
      "cell_type": "markdown",
      "source": [
        "#### Q) Find Compound Interest"
      ],
      "metadata": {
        "id": "viuq1q80dg3v"
      }
    },
    {
      "cell_type": "code",
      "source": [
        "p = float(input('Give p '))\n",
        "r = float(input('Give r '))\n",
        "n = float(input('Give n '))\n",
        "t = float(input('Give t '))\n",
        "\n",
        "CI = p * (1+r/n)**(n*t)\n",
        "\n",
        "print(f'The Compound Interest is {CI}')"
      ],
      "metadata": {
        "colab": {
          "base_uri": "https://localhost:8080/"
        },
        "id": "5AbPoINacl-g",
        "outputId": "32139a4f-db32-4471-b3fc-937c973b4f27"
      },
      "execution_count": 9,
      "outputs": [
        {
          "output_type": "stream",
          "name": "stdout",
          "text": [
            "Give p 1200\n",
            "Give r 7\n",
            "Give n 1\n",
            "Give t 2\n",
            "The Compound Interest is 76800.0\n"
          ]
        }
      ]
    },
    {
      "cell_type": "code",
      "source": [
        "## Comparison Operator\n",
        "\n",
        "'''\n",
        ">\n",
        "<\n",
        ">=\n",
        "<=\n",
        "!=\n",
        "=\n",
        "==\n",
        "\n",
        "'''\n",
        "\n",
        "a = 10\n",
        "b = 12\n",
        "\n",
        "print(a == b)"
      ],
      "metadata": {
        "colab": {
          "base_uri": "https://localhost:8080/"
        },
        "id": "RYGiU1lUkSw3",
        "outputId": "07fc87c7-cdc5-415e-ee0f-f5ad718170c6"
      },
      "execution_count": 14,
      "outputs": [
        {
          "output_type": "stream",
          "name": "stdout",
          "text": [
            "False\n"
          ]
        }
      ]
    },
    {
      "cell_type": "code",
      "source": [
        "## Logical Operator\n",
        "\n",
        "'''\n",
        "AND\n",
        "OR\n",
        "NOT\n",
        "'''\n",
        "\n",
        "print((12>b) or (7<=a))"
      ],
      "metadata": {
        "colab": {
          "base_uri": "https://localhost:8080/"
        },
        "id": "MTe4YgAkkvFd",
        "outputId": "a8cbc745-96b9-46fb-f40d-4ab07549fc2a"
      },
      "execution_count": 17,
      "outputs": [
        {
          "output_type": "stream",
          "name": "stdout",
          "text": [
            "True\n"
          ]
        }
      ]
    },
    {
      "cell_type": "markdown",
      "source": [
        "# Conditional"
      ],
      "metadata": {
        "id": "iiOjlEGgc0fg"
      }
    },
    {
      "cell_type": "code",
      "source": [
        "age = 2\n",
        "\n",
        "if age >= 18:\n",
        "  print('Eligible')\n",
        "elif age < 18:\n",
        "  print('H')\n",
        "else:\n",
        "  print('Not Eligible')"
      ],
      "metadata": {
        "colab": {
          "base_uri": "https://localhost:8080/"
        },
        "id": "aJjJU0Bjc2W8",
        "outputId": "30682aa7-2da5-471d-e1eb-08df9ce4f083"
      },
      "execution_count": 21,
      "outputs": [
        {
          "output_type": "stream",
          "name": "stdout",
          "text": [
            "H\n"
          ]
        }
      ]
    },
    {
      "cell_type": "markdown",
      "source": [
        "#### Take age from the user"
      ],
      "metadata": {
        "id": "YRyVMasym11o"
      }
    },
    {
      "cell_type": "code",
      "source": [
        "# [20-100] - Adult\n",
        "# [13 - 19] - Teenager\n",
        "# [0 - 12] - Child\n",
        "# anything else is invalid age"
      ],
      "metadata": {
        "id": "GzLeVaiYm1gn"
      },
      "execution_count": null,
      "outputs": []
    },
    {
      "cell_type": "code",
      "source": [
        "age = int(input('Give age '))\n",
        "\n",
        "if age >= 20 and age <= 100:\n",
        "  print('Adult')\n",
        "elif age >= 13:\n",
        "  print('Teenager')\n",
        "elif age >= 0:\n",
        "  print('Child')\n",
        "else:\n",
        "  print('Invalid')"
      ],
      "metadata": {
        "colab": {
          "base_uri": "https://localhost:8080/"
        },
        "id": "S2UYgPTPlpL5",
        "outputId": "981d37a2-3c7b-416f-ae47-178b568813f1"
      },
      "execution_count": 27,
      "outputs": [
        {
          "output_type": "stream",
          "name": "stdout",
          "text": [
            "Give age 102\n",
            "Teenager\n"
          ]
        }
      ]
    },
    {
      "cell_type": "code",
      "source": [
        "if True:\n",
        "  print('Hi')\n",
        "  if False:\n",
        "    print('Hey')\n",
        "  else:\n",
        "    print('Hello')\n",
        "    if False:\n",
        "      print('Yo')\n",
        "    else:\n",
        "      print('H')\n",
        "  print('A')"
      ],
      "metadata": {
        "colab": {
          "base_uri": "https://localhost:8080/"
        },
        "id": "X59k8giNq_9h",
        "outputId": "962a92f9-8084-4aa1-dc7b-84af49108609"
      },
      "execution_count": 30,
      "outputs": [
        {
          "output_type": "stream",
          "name": "stdout",
          "text": [
            "Hi\n",
            "Hello\n",
            "H\n"
          ]
        }
      ]
    },
    {
      "cell_type": "code",
      "source": [
        "a = 12\n",
        "b = 10\n",
        "\n",
        "if (a>10 or a<12):\n",
        "  if(b>7 or a<2):\n",
        "    print('H')\n",
        "    if(b>2 and a > b):\n",
        "      print('Hey')\n",
        "    else:\n",
        "      print('hi')"
      ],
      "metadata": {
        "colab": {
          "base_uri": "https://localhost:8080/"
        },
        "id": "PIv14CuIrcb8",
        "outputId": "84ec4a2a-f430-48bb-a3d8-791c968eb085"
      },
      "execution_count": 31,
      "outputs": [
        {
          "output_type": "stream",
          "name": "stdout",
          "text": [
            "H\n",
            "Hey\n"
          ]
        }
      ]
    },
    {
      "cell_type": "markdown",
      "source": [
        "#### Q) Check if the number is +ve, if +ve check if it is odd or even else write -ve"
      ],
      "metadata": {
        "id": "gmXZqToksnY8"
      }
    },
    {
      "cell_type": "code",
      "source": [
        "num = int(input('Give n '))\n",
        "\n",
        "if num > 0:\n",
        "  print('The num is +ve')\n",
        "  if num % 2 == 0:\n",
        "    print('Even')\n",
        "  else:\n",
        "    print('Odd')\n",
        "else:\n",
        "  print('-ve')"
      ],
      "metadata": {
        "colab": {
          "base_uri": "https://localhost:8080/"
        },
        "id": "6EzR-yOIshAr",
        "outputId": "f3709bfc-ed59-4304-aaf1-c62bbee12601"
      },
      "execution_count": 35,
      "outputs": [
        {
          "output_type": "stream",
          "name": "stdout",
          "text": [
            "Give n 23\n",
            "The num is +ve\n",
            "Odd\n"
          ]
        }
      ]
    },
    {
      "cell_type": "markdown",
      "source": [
        "#### Q) Check if the number is divisible by 2 and 5 both"
      ],
      "metadata": {
        "id": "_xz2wrcmuYZ8"
      }
    },
    {
      "cell_type": "code",
      "source": [
        "# [Divisible by 2]\n",
        "# [Divisible by 5]\n",
        "# [Divisible by both 2 and 5]\n",
        "# [Divisible by none]"
      ],
      "metadata": {
        "id": "K6m4L3EQt95q"
      },
      "execution_count": null,
      "outputs": []
    },
    {
      "cell_type": "code",
      "source": [
        "num = int(input('Give Number '))\n",
        "\n",
        "if num%2 == 0:\n",
        "  if num % 5 == 0:\n",
        "    print('Divisble by both')\n",
        "  else:\n",
        "    print('Divisible by 2 and not by 5')\n",
        "\n",
        "elif num % 5 == 0:\n",
        "  print('Divisible by 5 not by 2')\n",
        "\n",
        "else:\n",
        "  print('Divisible by none')"
      ],
      "metadata": {
        "colab": {
          "base_uri": "https://localhost:8080/"
        },
        "id": "j6ad8S4axBLZ",
        "outputId": "3cba9b52-06b6-4c57-93b1-59a419fceff0"
      },
      "execution_count": 39,
      "outputs": [
        {
          "output_type": "stream",
          "name": "stdout",
          "text": [
            "Give Number 13\n",
            "Divisible by none\n"
          ]
        }
      ]
    },
    {
      "cell_type": "code",
      "source": [],
      "metadata": {
        "id": "oLzWMnZNxsYY"
      },
      "execution_count": null,
      "outputs": []
    }
  ]
}