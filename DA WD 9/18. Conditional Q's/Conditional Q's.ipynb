{
  "nbformat": 4,
  "nbformat_minor": 0,
  "metadata": {
    "colab": {
      "provenance": []
    },
    "kernelspec": {
      "name": "python3",
      "display_name": "Python 3"
    },
    "language_info": {
      "name": "python"
    }
  },
  "cells": [
    {
      "cell_type": "markdown",
      "source": [
        "# Questions"
      ],
      "metadata": {
        "id": "0M-yKxiBcnqM"
      }
    },
    {
      "cell_type": "code",
      "execution_count": null,
      "metadata": {
        "colab": {
          "base_uri": "https://localhost:8080/"
        },
        "id": "YKLhQ8kvb7cR",
        "outputId": "1f523897-9bf7-4e68-d8a3-711a9a607922"
      },
      "outputs": [
        {
          "output_type": "stream",
          "name": "stdout",
          "text": [
            "Hi Harsh your marks is 23\n",
            "Hi Harsh, your marks is 23\n"
          ]
        }
      ],
      "source": [
        "marks = 23\n",
        "name = 'Harsh'\n",
        "\n",
        "print('Hi',name,\"your marks is\",marks)\n",
        "print(f\"Hi {name}, your marks is {marks}\")"
      ]
    },
    {
      "cell_type": "markdown",
      "source": [
        "#### Q) Find the Volume of a cylinder"
      ],
      "metadata": {
        "id": "udNVk5dBdcAn"
      }
    },
    {
      "cell_type": "code",
      "source": [
        "pi = 3.14\n",
        "r = float(input('Give r '))\n",
        "h = float(input('Give  '))\n",
        "\n",
        "vol = (pi*(r**2)*h)\n",
        "print(f\"The Vol of Cylinder is {vol}\")"
      ],
      "metadata": {
        "colab": {
          "base_uri": "https://localhost:8080/"
        },
        "id": "7nGxujgGcmSL",
        "outputId": "1fdb01a2-1704-4653-c998-50d3a79076e0"
      },
      "execution_count": null,
      "outputs": [
        {
          "output_type": "stream",
          "name": "stdout",
          "text": [
            "Give r 34\n",
            "Give  6\n",
            "The Vol of Cylinder is 21779.04\n"
          ]
        }
      ]
    },
    {
      "cell_type": "markdown",
      "source": [
        "#### Q) Find Compound Interest"
      ],
      "metadata": {
        "id": "viuq1q80dg3v"
      }
    },
    {
      "cell_type": "code",
      "source": [
        "p = float(input('Give p '))\n",
        "r = float(input('Give r '))\n",
        "n = float(input('Give n '))\n",
        "t = float(input('Give t '))\n",
        "\n",
        "CI = p * (1+r/n)**(n*t)\n",
        "\n",
        "print(f'The Compound Interest is {CI}')"
      ],
      "metadata": {
        "colab": {
          "base_uri": "https://localhost:8080/"
        },
        "id": "5AbPoINacl-g",
        "outputId": "32139a4f-db32-4471-b3fc-937c973b4f27"
      },
      "execution_count": null,
      "outputs": [
        {
          "output_type": "stream",
          "name": "stdout",
          "text": [
            "Give p 1200\n",
            "Give r 7\n",
            "Give n 1\n",
            "Give t 2\n",
            "The Compound Interest is 76800.0\n"
          ]
        }
      ]
    },
    {
      "cell_type": "code",
      "source": [
        "## Comparison Operator\n",
        "\n",
        "'''\n",
        ">\n",
        "<\n",
        ">=\n",
        "<=\n",
        "!=\n",
        "=\n",
        "==\n",
        "\n",
        "'''\n",
        "\n",
        "a = 10\n",
        "b = 12\n",
        "\n",
        "print(a == b)"
      ],
      "metadata": {
        "colab": {
          "base_uri": "https://localhost:8080/"
        },
        "id": "RYGiU1lUkSw3",
        "outputId": "07fc87c7-cdc5-415e-ee0f-f5ad718170c6"
      },
      "execution_count": null,
      "outputs": [
        {
          "output_type": "stream",
          "name": "stdout",
          "text": [
            "False\n"
          ]
        }
      ]
    },
    {
      "cell_type": "code",
      "source": [
        "## Logical Operator\n",
        "\n",
        "'''\n",
        "AND\n",
        "OR\n",
        "NOT\n",
        "'''\n",
        "\n",
        "print((12>b) or (7<=a))"
      ],
      "metadata": {
        "colab": {
          "base_uri": "https://localhost:8080/"
        },
        "id": "MTe4YgAkkvFd",
        "outputId": "a8cbc745-96b9-46fb-f40d-4ab07549fc2a"
      },
      "execution_count": null,
      "outputs": [
        {
          "output_type": "stream",
          "name": "stdout",
          "text": [
            "True\n"
          ]
        }
      ]
    },
    {
      "cell_type": "markdown",
      "source": [
        "# Conditional"
      ],
      "metadata": {
        "id": "iiOjlEGgc0fg"
      }
    },
    {
      "cell_type": "code",
      "source": [
        "age = 2\n",
        "\n",
        "if age >= 18:\n",
        "  print('Eligible')\n",
        "elif age < 18:\n",
        "  print('H')\n",
        "else:\n",
        "  print('Not Eligible')"
      ],
      "metadata": {
        "colab": {
          "base_uri": "https://localhost:8080/"
        },
        "id": "aJjJU0Bjc2W8",
        "outputId": "30682aa7-2da5-471d-e1eb-08df9ce4f083"
      },
      "execution_count": null,
      "outputs": [
        {
          "output_type": "stream",
          "name": "stdout",
          "text": [
            "H\n"
          ]
        }
      ]
    },
    {
      "cell_type": "markdown",
      "source": [
        "#### Take age from the user"
      ],
      "metadata": {
        "id": "YRyVMasym11o"
      }
    },
    {
      "cell_type": "code",
      "source": [
        "# [20-100] - Adult\n",
        "# [13 - 19] - Teenager\n",
        "# [0 - 12] - Child\n",
        "# anything else is invalid age"
      ],
      "metadata": {
        "id": "GzLeVaiYm1gn"
      },
      "execution_count": null,
      "outputs": []
    },
    {
      "cell_type": "code",
      "source": [
        "age = int(input('Give age '))\n",
        "\n",
        "if age >= 20 and age <= 100:\n",
        "  print('Adult')\n",
        "elif age >= 13:\n",
        "  print('Teenager')\n",
        "elif age >= 0:\n",
        "  print('Child')\n",
        "else:\n",
        "  print('Invalid')"
      ],
      "metadata": {
        "colab": {
          "base_uri": "https://localhost:8080/"
        },
        "id": "S2UYgPTPlpL5",
        "outputId": "981d37a2-3c7b-416f-ae47-178b568813f1"
      },
      "execution_count": null,
      "outputs": [
        {
          "output_type": "stream",
          "name": "stdout",
          "text": [
            "Give age 102\n",
            "Teenager\n"
          ]
        }
      ]
    },
    {
      "cell_type": "code",
      "source": [
        "if True:\n",
        "  print('Hi')\n",
        "  if False:\n",
        "    print('Hey')\n",
        "  else:\n",
        "    print('Hello')\n",
        "    if False:\n",
        "      print('Yo')\n",
        "    else:\n",
        "      print('H')\n",
        "  print('A')"
      ],
      "metadata": {
        "colab": {
          "base_uri": "https://localhost:8080/"
        },
        "id": "X59k8giNq_9h",
        "outputId": "962a92f9-8084-4aa1-dc7b-84af49108609"
      },
      "execution_count": null,
      "outputs": [
        {
          "output_type": "stream",
          "name": "stdout",
          "text": [
            "Hi\n",
            "Hello\n",
            "H\n"
          ]
        }
      ]
    },
    {
      "cell_type": "code",
      "source": [
        "a = 12\n",
        "b = 10\n",
        "\n",
        "if (a>10 or a<12):\n",
        "  if(b>7 or a<2):\n",
        "    print('H')\n",
        "    if(b>2 and a > b):\n",
        "      print('Hey')\n",
        "    else:\n",
        "      print('hi')"
      ],
      "metadata": {
        "colab": {
          "base_uri": "https://localhost:8080/"
        },
        "id": "PIv14CuIrcb8",
        "outputId": "84ec4a2a-f430-48bb-a3d8-791c968eb085"
      },
      "execution_count": null,
      "outputs": [
        {
          "output_type": "stream",
          "name": "stdout",
          "text": [
            "H\n",
            "Hey\n"
          ]
        }
      ]
    },
    {
      "cell_type": "markdown",
      "source": [
        "#### Q) Check if the number is +ve, if +ve check if it is odd or even else write -ve"
      ],
      "metadata": {
        "id": "gmXZqToksnY8"
      }
    },
    {
      "cell_type": "code",
      "source": [
        "num = int(input('Give n '))\n",
        "\n",
        "if num > 0:\n",
        "  print('The num is +ve')\n",
        "  if num % 2 == 0:\n",
        "    print('Even')\n",
        "  else:\n",
        "    print('Odd')\n",
        "else:\n",
        "  print('-ve')"
      ],
      "metadata": {
        "colab": {
          "base_uri": "https://localhost:8080/"
        },
        "id": "6EzR-yOIshAr",
        "outputId": "f3709bfc-ed59-4304-aaf1-c62bbee12601"
      },
      "execution_count": null,
      "outputs": [
        {
          "output_type": "stream",
          "name": "stdout",
          "text": [
            "Give n 23\n",
            "The num is +ve\n",
            "Odd\n"
          ]
        }
      ]
    },
    {
      "cell_type": "markdown",
      "source": [
        "#### Q) Check if the number is divisible by 2 and 5 both"
      ],
      "metadata": {
        "id": "_xz2wrcmuYZ8"
      }
    },
    {
      "cell_type": "code",
      "source": [
        "# [Divisible by 2]\n",
        "# [Divisible by 5]\n",
        "# [Divisible by both 2 and 5]\n",
        "# [Divisible by none]"
      ],
      "metadata": {
        "id": "K6m4L3EQt95q"
      },
      "execution_count": null,
      "outputs": []
    },
    {
      "cell_type": "code",
      "source": [
        "num = int(input('Give Number '))\n",
        "\n",
        "if num%2 == 0:\n",
        "  if num % 5 == 0:\n",
        "    print('Divisble by both')\n",
        "  else:\n",
        "    print('Divisible by 2 and not by 5')\n",
        "\n",
        "elif num % 5 == 0:\n",
        "  print('Divisible by 5 not by 2')\n",
        "\n",
        "else:\n",
        "  print('Divisible by none')"
      ],
      "metadata": {
        "colab": {
          "base_uri": "https://localhost:8080/"
        },
        "id": "j6ad8S4axBLZ",
        "outputId": "3cba9b52-06b6-4c57-93b1-59a419fceff0"
      },
      "execution_count": null,
      "outputs": [
        {
          "output_type": "stream",
          "name": "stdout",
          "text": [
            "Give Number 13\n",
            "Divisible by none\n"
          ]
        }
      ]
    },
    {
      "cell_type": "markdown",
      "source": [
        "## Check if the number is divisible by 3 and 7"
      ],
      "metadata": {
        "id": "70hdNR1Yk99k"
      }
    },
    {
      "cell_type": "code",
      "source": [
        "n = int(input('GIve n '))\n",
        "\n",
        "if n%3 == 0:\n",
        "  if n%7 == 0:\n",
        "    print('Divisible by both')\n",
        "  else:\n",
        "    print('Divisible by 3 not 7')\n",
        "elif n%7 == 0:\n",
        "  print('Divisible by 7 and not 3')\n",
        "else:\n",
        "  print('Divisible by none')"
      ],
      "metadata": {
        "id": "oLzWMnZNxsYY",
        "colab": {
          "base_uri": "https://localhost:8080/"
        },
        "outputId": "63aa1781-e086-4c0c-d22d-444d54bc348b"
      },
      "execution_count": 1,
      "outputs": [
        {
          "output_type": "stream",
          "name": "stdout",
          "text": [
            "GIve n12\n",
            "Divisible by 3 not 7\n"
          ]
        }
      ]
    },
    {
      "cell_type": "markdown",
      "source": [
        "## Report Card Generator"
      ],
      "metadata": {
        "id": "N7UZyHbvnOYA"
      }
    },
    {
      "cell_type": "code",
      "source": [
        "'''\n",
        "90 - 100 -A\n",
        "80 - 89 - B\n",
        "70 - 79 - C\n",
        "60 - 69 - D\n",
        "50 - 59 - E\n",
        "\n",
        "else F\n",
        "'''"
      ],
      "metadata": {
        "id": "iyqXCbnHnLOj"
      },
      "execution_count": null,
      "outputs": []
    },
    {
      "cell_type": "code",
      "source": [
        "name = input('Give Name ')\n",
        "marks = int(input('Give Marks '))\n",
        "\n",
        "if marks >= 90 and marks <= 100:\n",
        "  grade = 'A'\n",
        "elif marks >= 80 and marks < 90 :\n",
        "  grade = 'b'\n",
        "elif marks >= 70 and marks < 80 :\n",
        "  grade = 'c'\n",
        "elif marks >= 60 and marks < 70 :\n",
        "  grade = 'd'\n",
        "elif marks >= 50 and marks < 60 :\n",
        "  grade = 'e'\n",
        "else:\n",
        "  grade = 'F'\n",
        "\n",
        "print(f\"Hi {name}, your marks are {marks} and your grade is {grade}\")"
      ],
      "metadata": {
        "colab": {
          "base_uri": "https://localhost:8080/"
        },
        "id": "4LsvvlhErNkK",
        "outputId": "21fea16c-2325-41ab-c296-eb03bd4c0f3e"
      },
      "execution_count": 3,
      "outputs": [
        {
          "output_type": "stream",
          "name": "stdout",
          "text": [
            "Give Name harsh\n",
            "Give Marks 88\n",
            "Hi harsh, your marks are 88 and your grade is b\n"
          ]
        }
      ]
    },
    {
      "cell_type": "code",
      "source": [
        "name = input('Give Name ')\n",
        "marks = int(input('Give Marks '))\n",
        "\n",
        "if marks <= 100:\n",
        "  if marks >= 90:\n",
        "    grade = 'A'\n",
        "  elif marks >= 80:\n",
        "    grade = 'b'\n",
        "  elif marks >= 70:\n",
        "    grade = 'c'\n",
        "  elif marks >= 60:\n",
        "    grade = 'd'\n",
        "  elif marks >= 50:\n",
        "    grade = 'e'\n",
        "  else:\n",
        "    grade = 'F'\n",
        "\n",
        "print(f\"Hi {name}, your marks are {marks} and your grade is {grade}\")"
      ],
      "metadata": {
        "colab": {
          "base_uri": "https://localhost:8080/"
        },
        "id": "vrvpSiJDr0Hv",
        "outputId": "aa9c8e89-5a23-43d9-ef81-a8846827103e"
      },
      "execution_count": 5,
      "outputs": [
        {
          "output_type": "stream",
          "name": "stdout",
          "text": [
            "Give Name Harsh\n",
            "Give Marks 120\n",
            "Invalid Marks\n",
            "Hi Harsh, your marks are 120 and your grade is c\n"
          ]
        }
      ]
    },
    {
      "cell_type": "markdown",
      "source": [
        "## Simple Calculator"
      ],
      "metadata": {
        "id": "konXCvgGtIh3"
      }
    },
    {
      "cell_type": "code",
      "source": [
        "num1 = float(input('GIve Num1 '))\n",
        "num2 = float(input('GIve Num2 '))\n",
        "operator = input('+,-,*,/')\n",
        "\n",
        "if operator == \"+\":\n",
        "  result = num1 + num2\n",
        "elif operator == \"-\":\n",
        "  result = num1 - num2\n",
        "elif operator == \"*\":\n",
        "  result = num1 * num2\n",
        "elif operator == \"/\":\n",
        "  if num2 == 0:\n",
        "    print('Invlid OPeration')\n",
        "  else:\n",
        "    result = num1 / num2\n",
        "else:\n",
        "  print('Invalid OPerator')\n",
        "\n",
        "print(f\"The result is {result}\")"
      ],
      "metadata": {
        "colab": {
          "base_uri": "https://localhost:8080/"
        },
        "id": "yxC4X6V7sQdW",
        "outputId": "8a68cca7-3093-4a4e-d8e9-3ebd8dd42ed3"
      },
      "execution_count": 8,
      "outputs": [
        {
          "output_type": "stream",
          "name": "stdout",
          "text": [
            "GIve Num1 23\n",
            "GIve Num2 0\n",
            "+,-,*,//\n",
            "Invlid OPeration\n",
            "The result is 540.0\n"
          ]
        }
      ]
    },
    {
      "cell_type": "markdown",
      "source": [
        "## Login System"
      ],
      "metadata": {
        "id": "f25cLexMx7Y2"
      }
    },
    {
      "cell_type": "code",
      "source": [
        "stored_us = 'admin'\n",
        "stored_pass = 'pass'\n",
        "\n",
        "u = input('Give username ')\n",
        "pas = input('GIve Pass')\n",
        "\n",
        "if u == stored_us:\n",
        "  if pas == stored_pass:\n",
        "    print('Login Successful!')\n",
        "  else:\n",
        "    print('Invalid Pass')\n",
        "else:\n",
        "  print('Invalid Username')"
      ],
      "metadata": {
        "colab": {
          "base_uri": "https://localhost:8080/"
        },
        "id": "WUYmy_Usxuu3",
        "outputId": "e8603e93-360a-42e8-e554-dc979c42d9d2"
      },
      "execution_count": 11,
      "outputs": [
        {
          "output_type": "stream",
          "name": "stdout",
          "text": [
            "Give username asd\n",
            "GIve Passfd\n",
            "Invalid Username\n"
          ]
        }
      ]
    },
    {
      "cell_type": "markdown",
      "source": [
        "## Employee Bonus Calculator"
      ],
      "metadata": {
        "id": "xHsAMKwjySzE"
      }
    },
    {
      "cell_type": "code",
      "source": [
        "name = input('GIve name')\n",
        "yrs = int(input('Give yrs'))\n",
        "score = float(input('Give score'))\n",
        "salary = float(input('GIve salary'))\n",
        "\n",
        "if score > 4.5 and score < 5:\n",
        "  if yrs > 10:\n",
        "    bonus = 20\n",
        "  elif yrs > 5:\n",
        "    bonus = 10\n",
        "  else:\n",
        "    bonus = 2\n",
        "\n",
        "elif score >= 3.5 and score < 4.5:\n",
        "  if yrs > 10:\n",
        "    bonus = 10\n",
        "  elif yrs > 5:\n",
        "    bonus = 5\n",
        "  else:\n",
        "    bonus = 0\n",
        "\n",
        "else:\n",
        "  bonus = 0\n",
        "\n",
        "new_salary = salary + (bonus*salary)/100\n",
        "\n",
        "print(f\"Hi {name}, your score is {score} and your new salary is {new_salary}\")\n"
      ],
      "metadata": {
        "colab": {
          "base_uri": "https://localhost:8080/"
        },
        "id": "d0FptNKWyYEa",
        "outputId": "f81b1935-b987-456f-a1bf-a3f0823c9d8b"
      },
      "execution_count": 12,
      "outputs": [
        {
          "output_type": "stream",
          "name": "stdout",
          "text": [
            "GIve nameHarsh\n",
            "Give yrs11\n",
            "Give score4.6\n",
            "GIve salary400000\n",
            "Hi Harsh, your score is 4.6 and your new salary is 480000.0\n"
          ]
        }
      ]
    },
    {
      "cell_type": "markdown",
      "source": [
        "# Loops"
      ],
      "metadata": {
        "id": "VA7L5jsv5kIZ"
      }
    },
    {
      "cell_type": "code",
      "source": [
        "range(5)"
      ],
      "metadata": {
        "colab": {
          "base_uri": "https://localhost:8080/"
        },
        "id": "35wbrHkR5GJ9",
        "outputId": "14e53fd9-7a15-4012-eda2-e09760561424"
      },
      "execution_count": 13,
      "outputs": [
        {
          "output_type": "execute_result",
          "data": {
            "text/plain": [
              "range(0, 5)"
            ]
          },
          "metadata": {},
          "execution_count": 13
        }
      ]
    },
    {
      "cell_type": "code",
      "source": [
        "for i in range(5):\n",
        "  print(i)"
      ],
      "metadata": {
        "colab": {
          "base_uri": "https://localhost:8080/"
        },
        "id": "KwBelQh_55vu",
        "outputId": "59ff41bb-bbbc-491d-b20f-fb00bad721c7"
      },
      "execution_count": 14,
      "outputs": [
        {
          "output_type": "stream",
          "name": "stdout",
          "text": [
            "0\n",
            "1\n",
            "2\n",
            "3\n",
            "4\n"
          ]
        }
      ]
    },
    {
      "cell_type": "code",
      "source": [
        "for i in range(1,5):\n",
        "  print(i)"
      ],
      "metadata": {
        "colab": {
          "base_uri": "https://localhost:8080/"
        },
        "id": "OpG1rrPw6QB0",
        "outputId": "b277d2a9-aeb9-47c8-ddf9-c7ca769e4cbd"
      },
      "execution_count": 15,
      "outputs": [
        {
          "output_type": "stream",
          "name": "stdout",
          "text": [
            "1\n",
            "2\n",
            "3\n",
            "4\n"
          ]
        }
      ]
    },
    {
      "cell_type": "code",
      "source": [
        "for i in range(1,5,2):\n",
        "  print(i)"
      ],
      "metadata": {
        "colab": {
          "base_uri": "https://localhost:8080/"
        },
        "id": "CFmROUyL6YL6",
        "outputId": "22706798-3ffc-46ec-e7a9-c566473a80cc"
      },
      "execution_count": 16,
      "outputs": [
        {
          "output_type": "stream",
          "name": "stdout",
          "text": [
            "1\n",
            "3\n"
          ]
        }
      ]
    }
  ]
}