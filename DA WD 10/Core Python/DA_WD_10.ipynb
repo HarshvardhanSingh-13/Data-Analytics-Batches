{
  "nbformat": 4,
  "nbformat_minor": 0,
  "metadata": {
    "colab": {
      "provenance": []
    },
    "kernelspec": {
      "name": "python3",
      "display_name": "Python 3"
    },
    "language_info": {
      "name": "python"
    }
  },
  "cells": [
    {
      "cell_type": "code",
      "execution_count": null,
      "metadata": {
        "colab": {
          "base_uri": "https://localhost:8080/"
        },
        "id": "NYVCLsCWJgpL",
        "outputId": "d04b2b62-8160-4483-d3c0-7f270a8c06f7"
      },
      "outputs": [
        {
          "output_type": "stream",
          "name": "stdout",
          "text": [
            "Hello\n"
          ]
        }
      ],
      "source": [
        "print(\"Hello\")"
      ]
    },
    {
      "cell_type": "code",
      "source": [
        "print(123)"
      ],
      "metadata": {
        "colab": {
          "base_uri": "https://localhost:8080/"
        },
        "id": "f0acdOMuKlA4",
        "outputId": "b8869669-e362-450f-bb11-ac43e359fb7c"
      },
      "execution_count": null,
      "outputs": [
        {
          "output_type": "stream",
          "name": "stdout",
          "text": [
            "123\n"
          ]
        }
      ]
    },
    {
      "cell_type": "code",
      "source": [
        "print(type(True))"
      ],
      "metadata": {
        "colab": {
          "base_uri": "https://localhost:8080/"
        },
        "id": "HbnxC8A3KNQk",
        "outputId": "d9b0d5b7-7185-4275-9a9f-bfa9c5b8c21b"
      },
      "execution_count": null,
      "outputs": [
        {
          "output_type": "stream",
          "name": "stdout",
          "text": [
            "<class 'bool'>\n"
          ]
        }
      ]
    },
    {
      "cell_type": "markdown",
      "source": [
        "## Variables"
      ],
      "metadata": {
        "id": "xO6WEiz5K-4D"
      }
    },
    {
      "cell_type": "code",
      "source": [
        "a = 12"
      ],
      "metadata": {
        "id": "KOu5xX7tK3GZ"
      },
      "execution_count": null,
      "outputs": []
    },
    {
      "cell_type": "code",
      "source": [
        "print(type(a))"
      ],
      "metadata": {
        "colab": {
          "base_uri": "https://localhost:8080/"
        },
        "id": "bNVUFmWwLOo4",
        "outputId": "bda3cc6f-3a57-4293-8555-81f863a4e194"
      },
      "execution_count": null,
      "outputs": [
        {
          "output_type": "stream",
          "name": "stdout",
          "text": [
            "<class 'int'>\n"
          ]
        }
      ]
    },
    {
      "cell_type": "code",
      "source": [
        "_1 = 12\n",
        "print(_1)"
      ],
      "metadata": {
        "colab": {
          "base_uri": "https://localhost:8080/"
        },
        "id": "3J1NL7GwTVY-",
        "outputId": "f635f0b9-65a9-498b-d228-fa816af64531"
      },
      "execution_count": null,
      "outputs": [
        {
          "output_type": "stream",
          "name": "stdout",
          "text": [
            "12\n"
          ]
        }
      ]
    },
    {
      "cell_type": "code",
      "source": [
        "a = 'Harsh'"
      ],
      "metadata": {
        "id": "qj1JzcPrLSOh"
      },
      "execution_count": null,
      "outputs": []
    },
    {
      "cell_type": "code",
      "source": [
        "print(a)"
      ],
      "metadata": {
        "colab": {
          "base_uri": "https://localhost:8080/"
        },
        "id": "j4edanXnLmIz",
        "outputId": "3916abe4-0d7a-4eae-abe1-97f88b8984e4"
      },
      "execution_count": null,
      "outputs": [
        {
          "output_type": "stream",
          "name": "stdout",
          "text": [
            "Harsh\n"
          ]
        }
      ]
    },
    {
      "cell_type": "code",
      "source": [
        "_a_12 = \"harsh\""
      ],
      "metadata": {
        "id": "uaSTx7-5Lm49"
      },
      "execution_count": null,
      "outputs": []
    },
    {
      "cell_type": "code",
      "source": [
        "name = 'Vikas'\n",
        "age = 25\n",
        "\n",
        "# print('Hey',name,\"your age is\",age)\n",
        "print(f\"Hey {name} your age is {age}\")"
      ],
      "metadata": {
        "colab": {
          "base_uri": "https://localhost:8080/"
        },
        "id": "t3kgAFpaMLNx",
        "outputId": "733de365-ea7d-46d9-d20e-d7fcb266b1da"
      },
      "execution_count": null,
      "outputs": [
        {
          "output_type": "stream",
          "name": "stdout",
          "text": [
            "Hey Vikas your age is 25\n"
          ]
        }
      ]
    },
    {
      "cell_type": "code",
      "source": [
        "a = 'Hey'\n",
        "b = 23\n",
        "print(a, \"your age is\",b)\n",
        "print(f\"hi how are you {a} your age is {b}\")"
      ],
      "metadata": {
        "colab": {
          "base_uri": "https://localhost:8080/"
        },
        "id": "X5HTSTeWOf6X",
        "outputId": "14ef6086-9b19-4234-950e-2afc3847d587"
      },
      "execution_count": null,
      "outputs": [
        {
          "output_type": "stream",
          "name": "stdout",
          "text": [
            "Hey your age is 23\n",
            "hi how are you Hey your age is 23\n"
          ]
        }
      ]
    },
    {
      "cell_type": "code",
      "source": [
        "name = input(\"Hey, Give me your name ?\")\n",
        "age = input('Hey, Give me your age')\n",
        "\n",
        "print(f\"Hey {name} your age is {age}\")"
      ],
      "metadata": {
        "colab": {
          "base_uri": "https://localhost:8080/"
        },
        "id": "mU1JKajFNK-U",
        "outputId": "7f41e218-fa6a-444a-9b4c-509962858333"
      },
      "execution_count": null,
      "outputs": [
        {
          "output_type": "stream",
          "name": "stdout",
          "text": [
            "Hey, Give me your name ?hsaod\n",
            "Hey, Give me your age34\n",
            "Hey hsaod your age is 34\n"
          ]
        }
      ]
    },
    {
      "cell_type": "code",
      "source": [
        "## Type Casting\n",
        "\n",
        "a = 10\n",
        "print(type(a))\n",
        "a = str(a)\n",
        "print(type(a))"
      ],
      "metadata": {
        "colab": {
          "base_uri": "https://localhost:8080/"
        },
        "id": "YFD0tAIKORjL",
        "outputId": "1fcdcb4a-ad51-4cf0-fa21-ac30a4253305"
      },
      "execution_count": null,
      "outputs": [
        {
          "output_type": "stream",
          "name": "stdout",
          "text": [
            "<class 'int'>\n",
            "<class 'str'>\n"
          ]
        }
      ]
    },
    {
      "cell_type": "code",
      "source": [
        "a = 'harsh'\n",
        "a = int(a)\n",
        "print(type(a))"
      ],
      "metadata": {
        "colab": {
          "base_uri": "https://localhost:8080/",
          "height": 176
        },
        "id": "Q1oArIQEPnEE",
        "outputId": "3aaa3fbd-8b0e-4331-c0fe-b736b97f37cd"
      },
      "execution_count": null,
      "outputs": [
        {
          "output_type": "error",
          "ename": "ValueError",
          "evalue": "invalid literal for int() with base 10: 'harsh'",
          "traceback": [
            "\u001b[0;31m---------------------------------------------------------------------------\u001b[0m",
            "\u001b[0;31mValueError\u001b[0m                                Traceback (most recent call last)",
            "\u001b[0;32m/tmp/ipython-input-29-3575584774.py\u001b[0m in \u001b[0;36m<cell line: 0>\u001b[0;34m()\u001b[0m\n\u001b[1;32m      1\u001b[0m \u001b[0ma\u001b[0m \u001b[0;34m=\u001b[0m \u001b[0;34m'harsh'\u001b[0m\u001b[0;34m\u001b[0m\u001b[0;34m\u001b[0m\u001b[0m\n\u001b[0;32m----> 2\u001b[0;31m \u001b[0ma\u001b[0m \u001b[0;34m=\u001b[0m \u001b[0mint\u001b[0m\u001b[0;34m(\u001b[0m\u001b[0ma\u001b[0m\u001b[0;34m)\u001b[0m\u001b[0;34m\u001b[0m\u001b[0;34m\u001b[0m\u001b[0m\n\u001b[0m\u001b[1;32m      3\u001b[0m \u001b[0mprint\u001b[0m\u001b[0;34m(\u001b[0m\u001b[0mtype\u001b[0m\u001b[0;34m(\u001b[0m\u001b[0ma\u001b[0m\u001b[0;34m)\u001b[0m\u001b[0;34m)\u001b[0m\u001b[0;34m\u001b[0m\u001b[0;34m\u001b[0m\u001b[0m\n",
            "\u001b[0;31mValueError\u001b[0m: invalid literal for int() with base 10: 'harsh'"
          ]
        }
      ]
    },
    {
      "cell_type": "code",
      "source": [
        "## Find Simple Interest\n",
        "\n",
        "name = input('GIve name ')\n",
        "p = int(input('Give p '))\n",
        "r = int(input('Give r '))\n",
        "t = int(input('Give t '))\n",
        "\n",
        "SI = (p*r*t)/100\n",
        "\n",
        "\n",
        "print(f\"Hi {name} your SI is {SI}\")"
      ],
      "metadata": {
        "colab": {
          "base_uri": "https://localhost:8080/"
        },
        "id": "QDJfX98QQWMa",
        "outputId": "43640908-54ca-42f5-96a4-e50daaed5397"
      },
      "execution_count": null,
      "outputs": [
        {
          "output_type": "stream",
          "name": "stdout",
          "text": [
            "GIve name iasd\n",
            "Give p 2356\n",
            "Give r 3\n",
            "Give t 5\n",
            "Hi iasd your SI is 353.4\n"
          ]
        }
      ]
    },
    {
      "cell_type": "code",
      "source": [
        "## Find Volume of Cylinder\n"
      ],
      "metadata": {
        "id": "_-08cLLETSm8"
      },
      "execution_count": null,
      "outputs": []
    },
    {
      "cell_type": "code",
      "source": [
        "## Find Compound Interest\n",
        "\n",
        "p = int(input('Give p '))\n",
        "r = int(input('Give r '))\n",
        "n = int(input('Give n'))\n",
        "t = int(input('Give t '))\n",
        "\n",
        "CI = p*((1+r/n))**(n*t)\n",
        "\n",
        "print(CI)"
      ],
      "metadata": {
        "colab": {
          "base_uri": "https://localhost:8080/"
        },
        "id": "aTkqIAhJU-Gr",
        "outputId": "691ee90f-8743-4658-e887-1aa3c21a3c63"
      },
      "execution_count": null,
      "outputs": [
        {
          "output_type": "stream",
          "name": "stdout",
          "text": [
            "Give p 34\n",
            "Give r 3\n",
            "Give n4\n",
            "Give t 5\n",
            "2467401.876964512\n"
          ]
        }
      ]
    },
    {
      "cell_type": "code",
      "source": [
        "print('Harsh'+str(5))"
      ],
      "metadata": {
        "colab": {
          "base_uri": "https://localhost:8080/"
        },
        "id": "RT7kUeTwY0WH",
        "outputId": "7012373f-4b24-446d-cfc0-fdfdfb30c6be"
      },
      "execution_count": null,
      "outputs": [
        {
          "output_type": "stream",
          "name": "stdout",
          "text": [
            "Harsh5\n"
          ]
        }
      ]
    },
    {
      "cell_type": "markdown",
      "source": [
        "# Conditional Statements"
      ],
      "metadata": {
        "id": "9crSYnVKZPhM"
      }
    },
    {
      "cell_type": "code",
      "source": [
        "age = 12\n",
        "\n",
        "if age>=18:\n",
        "  print('Eligible')\n",
        "else:\n",
        "  print('NE')"
      ],
      "metadata": {
        "colab": {
          "base_uri": "https://localhost:8080/"
        },
        "id": "KXWYDNIJZRag",
        "outputId": "25407c0e-d257-48f3-91a6-c1820c846619"
      },
      "execution_count": null,
      "outputs": [
        {
          "output_type": "stream",
          "name": "stdout",
          "text": [
            "NE\n"
          ]
        }
      ]
    },
    {
      "cell_type": "code",
      "source": [
        "if True:\n",
        "  print('Hey')"
      ],
      "metadata": {
        "colab": {
          "base_uri": "https://localhost:8080/"
        },
        "id": "xRLKoxn9Zstc",
        "outputId": "cc6aec99-9537-467f-8c36-033139c3bd23"
      },
      "execution_count": null,
      "outputs": [
        {
          "output_type": "stream",
          "name": "stdout",
          "text": [
            "Hey\n"
          ]
        }
      ]
    },
    {
      "cell_type": "code",
      "source": [
        "if True and False:\n",
        "  print('Hey')\n",
        "else:\n",
        "  print('Hi')"
      ],
      "metadata": {
        "id": "YpuRlKtcaKsT"
      },
      "execution_count": null,
      "outputs": []
    },
    {
      "cell_type": "code",
      "source": [
        "if False:\n",
        "  print('Hi')"
      ],
      "metadata": {
        "id": "JzRzdtoYbU5X"
      },
      "execution_count": null,
      "outputs": []
    },
    {
      "cell_type": "code",
      "source": [
        "if True and True:\n",
        "  print('Hi')\n",
        "  if True and (True or False):\n",
        "    print('Hello')\n",
        "    if True:\n",
        "      print(\"Yo\")\n",
        "    else:\n",
        "      print('H')\n",
        "  else:\n",
        "    print('1')"
      ],
      "metadata": {
        "colab": {
          "base_uri": "https://localhost:8080/"
        },
        "id": "2ssr9oQAamQu",
        "outputId": "dff459e9-df4c-4e9f-88b9-a1857c01400f"
      },
      "execution_count": null,
      "outputs": [
        {
          "output_type": "stream",
          "name": "stdout",
          "text": [
            "Hi\n",
            "Hello\n",
            "Yo\n"
          ]
        }
      ]
    },
    {
      "cell_type": "code",
      "source": [
        "age = 20\n",
        "\n",
        "if age >= 18:\n",
        "  print('El')\n",
        "elif age < 18 and age > 0:\n",
        "  print('minor')\n",
        "else:\n",
        "  print('invalid')"
      ],
      "metadata": {
        "colab": {
          "base_uri": "https://localhost:8080/"
        },
        "id": "luOYkYh1cb39",
        "outputId": "65e1941a-7eab-4988-9111-4c75e1d8e4fc"
      },
      "execution_count": null,
      "outputs": [
        {
          "output_type": "stream",
          "name": "stdout",
          "text": [
            "El\n"
          ]
        }
      ]
    },
    {
      "cell_type": "code",
      "source": [
        "# [18 to 100] -> Eligible\n",
        "# [13 - 17] -> Minor\n",
        "# [1 - 12] -> Child\n",
        "# else -> Invalid age"
      ],
      "metadata": {
        "id": "QqHJyAQwdMN5"
      },
      "execution_count": null,
      "outputs": []
    },
    {
      "cell_type": "code",
      "source": [
        "age = 11\n",
        "\n",
        "if age >= 18 and age < 100:\n",
        "  print('El')\n",
        "elif age >= 13 and age <= 17:\n",
        "  print('Minor')\n",
        "elif age > 1 and age <= 12:\n",
        "  print('Child')\n",
        "else:\n",
        "  print(\"invalid \")"
      ],
      "metadata": {
        "colab": {
          "base_uri": "https://localhost:8080/"
        },
        "id": "VDce9q28f6Ti",
        "outputId": "40f74d80-4ac8-40f4-b898-d51d59dfdbfa"
      },
      "execution_count": null,
      "outputs": [
        {
          "output_type": "stream",
          "name": "stdout",
          "text": [
            "Child\n"
          ]
        }
      ]
    },
    {
      "cell_type": "code",
      "source": [
        "age = -1\n",
        "\n",
        "if age < 0:\n",
        "  print('Invalid')\n",
        "\n",
        "elif age < 100:\n",
        "  if age >= 18:\n",
        "    print('El')\n",
        "  elif age >= 13:\n",
        "    print('Minor')\n",
        "  elif age >= 0:\n",
        "    print('Child')\n",
        "\n",
        "else:\n",
        "  print('Invalid')"
      ],
      "metadata": {
        "id": "cL-keHw2Zj4K"
      },
      "execution_count": null,
      "outputs": []
    },
    {
      "cell_type": "markdown",
      "source": [
        "## Find if the number taken from user is odd or even"
      ],
      "metadata": {
        "id": "cYvM8VDNUxO4"
      }
    },
    {
      "cell_type": "code",
      "source": [
        "num = 12\n",
        "\n",
        "if num % 2 == 0:\n",
        "  print('Even')\n",
        "else:\n",
        "  print('Odd')"
      ],
      "metadata": {
        "id": "C5K0ocv7gLxi",
        "colab": {
          "base_uri": "https://localhost:8080/"
        },
        "outputId": "1af5ceb9-ddda-41f7-9b67-f023d43c0b9c"
      },
      "execution_count": null,
      "outputs": [
        {
          "output_type": "stream",
          "name": "stdout",
          "text": [
            "Even\n"
          ]
        }
      ]
    },
    {
      "cell_type": "markdown",
      "source": [
        "## FInd if a number is +ve or -ve, if it is +ve then tell me if it is odd or even"
      ],
      "metadata": {
        "id": "3EzkA4x3XnOS"
      }
    },
    {
      "cell_type": "code",
      "source": [
        "num = 45\n",
        "\n",
        "if num >= 0:\n",
        "  print('Number is +ve')\n",
        "  if num % 2 == 0:\n",
        "    print('Even')\n",
        "  else:\n",
        "    print('Odd')\n",
        "else:\n",
        "  print('-ve')"
      ],
      "metadata": {
        "colab": {
          "base_uri": "https://localhost:8080/"
        },
        "id": "uN62MG-yXIwp",
        "outputId": "837e46a4-9470-4a64-f4e4-72a9f2a71a03"
      },
      "execution_count": null,
      "outputs": [
        {
          "output_type": "stream",
          "name": "stdout",
          "text": [
            "Number is +ve\n",
            "Odd\n"
          ]
        }
      ]
    },
    {
      "cell_type": "markdown",
      "source": [
        "## Login System"
      ],
      "metadata": {
        "id": "ngInwR53b2xz"
      }
    },
    {
      "cell_type": "code",
      "source": [
        "stored_user = 'Admin12'\n",
        "stored_pass = 'abc@123#'\n",
        "\n",
        "us = input('Give username')\n",
        "pas = input('Give Pass')\n",
        "\n",
        "if us == stored_user:\n",
        "  if pas == stored_pass:\n",
        "    print('Login Successful')\n",
        "  else:\n",
        "    print(\"Incorrect Passward\")\n",
        "else:\n",
        "  print('Incorrect User')"
      ],
      "metadata": {
        "colab": {
          "base_uri": "https://localhost:8080/"
        },
        "id": "3TBYtHaiZSNN",
        "outputId": "e532cb0d-22f7-4f81-b22b-e3ea9e775d90"
      },
      "execution_count": null,
      "outputs": [
        {
          "output_type": "stream",
          "name": "stdout",
          "text": [
            "Give usernamef4\n",
            "Give Passfd\n",
            "Incorrect User\n"
          ]
        }
      ]
    },
    {
      "cell_type": "markdown",
      "source": [
        "## Find if the number is divisible by 3 and 5"
      ],
      "metadata": {
        "id": "EQLjmc1nhkjH"
      }
    },
    {
      "cell_type": "code",
      "source": [],
      "metadata": {
        "id": "5v_tFBjCgFwe"
      },
      "execution_count": null,
      "outputs": []
    },
    {
      "cell_type": "markdown",
      "source": [
        "## Create Simple Calculator"
      ],
      "metadata": {
        "id": "O1_oyNFxi47h"
      }
    },
    {
      "cell_type": "code",
      "source": [
        "num1 = int(input('Give n1 '))\n",
        "num2 = int(input('Give n2 '))\n",
        "o = input(\"Give +,-,/,*\")\n",
        "\n",
        "if o == \"+\":\n",
        "  print(num1 + num2)\n",
        "elif o == '-':\n",
        "  print(num1 - num2)\n",
        "elif o == '*':\n",
        "  print(num1 * num2)\n",
        "elif o == '/':\n",
        "  if num2 == 0:\n",
        "    print(\"Invalid\")\n",
        "  else:\n",
        "    print(num1/num2)\n",
        "else:\n",
        "  print('Invalid Operator')"
      ],
      "metadata": {
        "colab": {
          "base_uri": "https://localhost:8080/"
        },
        "id": "waTUAdTWi7ms",
        "outputId": "aa126d8f-128c-442b-eb69-3d2027d46229"
      },
      "execution_count": null,
      "outputs": [
        {
          "output_type": "stream",
          "name": "stdout",
          "text": [
            "Give n1 456\n",
            "Give n2 0\n",
            "Give +,-,/,*/\n",
            "Invalid\n"
          ]
        }
      ]
    },
    {
      "cell_type": "markdown",
      "source": [
        "## Report Card Generator"
      ],
      "metadata": {
        "id": "cTVa2wDkptI7"
      }
    },
    {
      "cell_type": "code",
      "source": [
        "'''\n",
        "100 - 90 -> a\n",
        "80 - 89 -> b\n",
        "70 - 79 -> c\n",
        "d\n",
        "fail\n",
        "\n",
        "'''"
      ],
      "metadata": {
        "id": "bKaZZmfBpACx"
      },
      "execution_count": null,
      "outputs": []
    },
    {
      "cell_type": "code",
      "source": [
        "number = int(input(\"enter the marks\"))\n",
        "if(number<100 and number>=90):\n",
        "  print(\"you have secured a grade A\")\n",
        "elif(number<90 and number>=80):\n",
        "  print(\"you have secured a grade B\")\n",
        "elif(number<80 and number>=70):\n",
        "  print(\"you have secured a grade C\")\n",
        "elif(number<70 and number>=60):\n",
        "  print(\"you have secured a grade D\")\n",
        "else:\n",
        "  print('Fail')"
      ],
      "metadata": {
        "colab": {
          "base_uri": "https://localhost:8080/"
        },
        "id": "lRaKCnSrr78f",
        "outputId": "85e06ea2-c114-4968-98b3-81cfc5457487"
      },
      "execution_count": null,
      "outputs": [
        {
          "output_type": "stream",
          "name": "stdout",
          "text": [
            "enter the marks33\n",
            "Fail\n"
          ]
        }
      ]
    },
    {
      "cell_type": "code",
      "source": [
        "'''\n",
        "Employee Bonus Calculator\n",
        "\n",
        "(salary)\n",
        "(rating)\n",
        "(yrs of exp)\n",
        "\n",
        "(5 - 4) ->\n",
        "# Years of Experince ->\n",
        "-> > 10 yrs -> 30% Bonus\n",
        "-> (5 to 10) -> 20% Bonus\n",
        "-> Less than 5 -> 10% Bonus\n",
        "\n",
        "(less than 4) ->\n",
        "# Years of Experince ->\n",
        "-> > 10 yrs -> 20% Bonus\n",
        "-> (5 to 10) -> 10% Bonus\n",
        "-> Less than 5 -> 5% Bonus\n",
        "\n",
        "\n",
        "(old salary, bonus % and new salary)\n",
        "\n",
        "'''"
      ],
      "metadata": {
        "id": "4FFY6--MsYOh"
      },
      "execution_count": null,
      "outputs": []
    },
    {
      "cell_type": "code",
      "source": [
        "salary = 20000\n",
        "yrs = 7\n",
        "rating = 4.2\n",
        "\n",
        "if rating > 4:\n",
        "  if yrs > 10:\n",
        "    b = 30\n",
        "  elif yrs > 5 and yrs < 10:\n",
        "    b = 20\n",
        "  elif yrs < 5:\n",
        "    b = 10\n",
        "\n",
        "elif rating < 4:\n",
        "  if yrs > 10:\n",
        "    b = 20\n",
        "  elif yrs > 5 and yrs < 10:\n",
        "    b = 10\n",
        "  elif yrs < 5:\n",
        "    b = 5\n",
        "\n",
        "new_salary = salary + (b*salary)/100\n",
        "\n",
        "print(f\"Hi your salary was {salary} bonus is {b} new salary is {new_salary}\")"
      ],
      "metadata": {
        "colab": {
          "base_uri": "https://localhost:8080/"
        },
        "id": "C0KRrZUUIOM4",
        "outputId": "88a054bd-15f9-41e8-cb2c-295c3c70c705"
      },
      "execution_count": null,
      "outputs": [
        {
          "output_type": "stream",
          "name": "stdout",
          "text": [
            "Hi your salary was 20000 bonus is 20 new salary is 24000.0\n"
          ]
        }
      ]
    },
    {
      "cell_type": "markdown",
      "source": [
        "# Loops"
      ],
      "metadata": {
        "id": "VP_jF7o7JLPA"
      }
    },
    {
      "cell_type": "code",
      "source": [
        "range(5)"
      ],
      "metadata": {
        "colab": {
          "base_uri": "https://localhost:8080/"
        },
        "id": "grUOID7RIUSQ",
        "outputId": "44ef1fad-8489-411b-e9ed-13f05dc658c8"
      },
      "execution_count": null,
      "outputs": [
        {
          "output_type": "execute_result",
          "data": {
            "text/plain": [
              "range(0, 5)"
            ]
          },
          "metadata": {},
          "execution_count": 3
        }
      ]
    },
    {
      "cell_type": "code",
      "source": [
        "range(20)"
      ],
      "metadata": {
        "colab": {
          "base_uri": "https://localhost:8080/"
        },
        "id": "HAEIObpSJq0d",
        "outputId": "7bbb3ae2-63f3-4ef7-9e5e-0a08e61804a6"
      },
      "execution_count": null,
      "outputs": [
        {
          "output_type": "execute_result",
          "data": {
            "text/plain": [
              "range(0, 20)"
            ]
          },
          "metadata": {},
          "execution_count": 4
        }
      ]
    },
    {
      "cell_type": "code",
      "source": [
        "for i in range(5):\n",
        "  print(i)"
      ],
      "metadata": {
        "colab": {
          "base_uri": "https://localhost:8080/"
        },
        "id": "b2e6ZN2aJsVw",
        "outputId": "db621ad2-51ee-4dab-b1bf-e99d23255fe0"
      },
      "execution_count": null,
      "outputs": [
        {
          "output_type": "stream",
          "name": "stdout",
          "text": [
            "0\n",
            "1\n",
            "2\n",
            "3\n",
            "4\n"
          ]
        }
      ]
    },
    {
      "cell_type": "code",
      "source": [
        "for i in range(1,6):\n",
        "  print(i)"
      ],
      "metadata": {
        "colab": {
          "base_uri": "https://localhost:8080/"
        },
        "id": "qi7A5YTGKZGB",
        "outputId": "c39c1652-a3dd-4129-d3ef-c4e4ba5ad856"
      },
      "execution_count": null,
      "outputs": [
        {
          "output_type": "stream",
          "name": "stdout",
          "text": [
            "1\n",
            "2\n",
            "3\n",
            "4\n",
            "5\n"
          ]
        }
      ]
    },
    {
      "cell_type": "code",
      "source": [
        "for i in range(1,10,2):\n",
        "  print(i)"
      ],
      "metadata": {
        "colab": {
          "base_uri": "https://localhost:8080/"
        },
        "id": "XAYg_UZ8KrO9",
        "outputId": "5b680cef-5b4c-4f0d-c87e-0598f997c49e"
      },
      "execution_count": null,
      "outputs": [
        {
          "output_type": "stream",
          "name": "stdout",
          "text": [
            "1\n",
            "3\n",
            "5\n",
            "7\n",
            "9\n"
          ]
        }
      ]
    },
    {
      "cell_type": "code",
      "source": [
        "for i in range(2,12,3):\n",
        "  print(i)"
      ],
      "metadata": {
        "colab": {
          "base_uri": "https://localhost:8080/"
        },
        "id": "u5lHqFAdKyle",
        "outputId": "3f18e615-414a-4972-9a1d-443570310779"
      },
      "execution_count": null,
      "outputs": [
        {
          "output_type": "stream",
          "name": "stdout",
          "text": [
            "2\n",
            "5\n",
            "8\n",
            "11\n"
          ]
        }
      ]
    },
    {
      "cell_type": "code",
      "source": [
        "for i in range(5,55,5):\n",
        "  print(i)"
      ],
      "metadata": {
        "colab": {
          "base_uri": "https://localhost:8080/"
        },
        "id": "0PQIP9tkK_7e",
        "outputId": "eaeec322-570a-4303-8395-19a7c6c95f03"
      },
      "execution_count": null,
      "outputs": [
        {
          "output_type": "stream",
          "name": "stdout",
          "text": [
            "5\n",
            "10\n",
            "15\n",
            "20\n",
            "25\n",
            "30\n",
            "35\n",
            "40\n",
            "45\n",
            "50\n"
          ]
        }
      ]
    },
    {
      "cell_type": "code",
      "source": [
        "for i in range(10,0,-1):\n",
        "  print(i)"
      ],
      "metadata": {
        "colab": {
          "base_uri": "https://localhost:8080/"
        },
        "id": "bibNIbWmLVxh",
        "outputId": "d34f4666-5e32-4391-a5ea-45b09f9ce50d"
      },
      "execution_count": null,
      "outputs": [
        {
          "output_type": "stream",
          "name": "stdout",
          "text": [
            "10\n",
            "9\n",
            "8\n",
            "7\n",
            "6\n",
            "5\n",
            "4\n",
            "3\n",
            "2\n",
            "1\n"
          ]
        }
      ]
    },
    {
      "cell_type": "code",
      "source": [
        "## Q)\n",
        "\n",
        "num ->\n",
        "\n"
      ],
      "metadata": {
        "id": "ZhvlnF3zL-eP"
      },
      "execution_count": null,
      "outputs": []
    },
    {
      "cell_type": "code",
      "source": [
        "num = int(input(\"GIve number\"))\n",
        "\n",
        "for i in range(10,0,-1):\n",
        "  print(f\"{num} x {i} = {num*i}\")"
      ],
      "metadata": {
        "colab": {
          "base_uri": "https://localhost:8080/"
        },
        "id": "IZulE2bSMVko",
        "outputId": "d8aff238-1e56-45bf-d8f7-c46bb5f8ebbf"
      },
      "execution_count": null,
      "outputs": [
        {
          "output_type": "stream",
          "name": "stdout",
          "text": [
            "GIve number5\n",
            "5 x 10 = 50\n",
            "5 x 9 = 45\n",
            "5 x 8 = 40\n",
            "5 x 7 = 35\n",
            "5 x 6 = 30\n",
            "5 x 5 = 25\n",
            "5 x 4 = 20\n",
            "5 x 3 = 15\n",
            "5 x 2 = 10\n",
            "5 x 1 = 5\n"
          ]
        }
      ]
    },
    {
      "cell_type": "markdown",
      "source": [
        "#### Q) Find the numbers between 1 and 200 that are divisible by 3 and 5"
      ],
      "metadata": {
        "id": "clqENKhMOcNG"
      }
    },
    {
      "cell_type": "code",
      "source": [
        "for i in range(1,201):\n",
        "  if (i % 3 == 0) and (i % 5 == 0):\n",
        "    print(i)"
      ],
      "metadata": {
        "colab": {
          "base_uri": "https://localhost:8080/"
        },
        "id": "YwkqUxCkON_U",
        "outputId": "8d52b337-f3cf-473a-d529-765120f42e04"
      },
      "execution_count": null,
      "outputs": [
        {
          "output_type": "stream",
          "name": "stdout",
          "text": [
            "15\n",
            "30\n",
            "45\n",
            "60\n",
            "75\n",
            "90\n",
            "105\n",
            "120\n",
            "135\n",
            "150\n",
            "165\n",
            "180\n",
            "195\n"
          ]
        }
      ]
    },
    {
      "cell_type": "markdown",
      "source": [
        "#### Q) Count the number of values between 1 and 10000 that are divisible by 3, 5 and 7"
      ],
      "metadata": {
        "id": "C4tDKGJvQCKq"
      }
    },
    {
      "cell_type": "code",
      "source": [
        "count = 0\n",
        "\n",
        "for i in range(1,10001):\n",
        "  if (i % 3 == 0) and (i % 5 == 0) and (i % 7 == 0):\n",
        "    count = count + 1\n",
        "    # count += 1\n",
        "print(count)"
      ],
      "metadata": {
        "colab": {
          "base_uri": "https://localhost:8080/"
        },
        "id": "DLgZcuejP6rq",
        "outputId": "385079d1-9006-4a64-8527-7da80e014c18"
      },
      "execution_count": null,
      "outputs": [
        {
          "output_type": "stream",
          "name": "stdout",
          "text": [
            "95\n"
          ]
        }
      ]
    },
    {
      "cell_type": "markdown",
      "source": [
        "#### Q) FInd the sum of first n natural numbers"
      ],
      "metadata": {
        "id": "bJF6KRgQSxRC"
      }
    },
    {
      "cell_type": "code",
      "source": [
        "n = 10\n",
        "sum = 0\n",
        "\n",
        "for i in range(1,n+1):\n",
        "  sum = sum + i\n",
        "\n",
        "print(sum)"
      ],
      "metadata": {
        "colab": {
          "base_uri": "https://localhost:8080/"
        },
        "id": "TjZMbagUShFk",
        "outputId": "f4cb8fbf-367c-488b-d409-f5ce189d0ddb"
      },
      "execution_count": null,
      "outputs": [
        {
          "output_type": "stream",
          "name": "stdout",
          "text": [
            "55\n"
          ]
        }
      ]
    },
    {
      "cell_type": "markdown",
      "source": [
        "#### Q) Find the first 10 numbers between 1 and 10000 that are divisible by 3,5 and 7"
      ],
      "metadata": {
        "id": "bT4TWoZFV9Jf"
      }
    },
    {
      "cell_type": "code",
      "source": [
        "count = 0\n",
        "for i in range(1,10001):\n",
        "  if (i % 3 == 0) and (i % 5 == 0) and (i % 7 == 0):\n",
        "    print(i)\n",
        "    count = count + 1\n",
        "    if count == 10:\n",
        "      break"
      ],
      "metadata": {
        "colab": {
          "base_uri": "https://localhost:8080/"
        },
        "id": "R5pGYzOGU8kS",
        "outputId": "1ebe4f0d-fcd2-4ebf-f426-f1eae35256aa"
      },
      "execution_count": null,
      "outputs": [
        {
          "output_type": "stream",
          "name": "stdout",
          "text": [
            "105\n",
            "210\n",
            "315\n",
            "420\n",
            "525\n",
            "630\n",
            "735\n",
            "840\n",
            "945\n",
            "1050\n"
          ]
        }
      ]
    },
    {
      "cell_type": "code",
      "source": [
        "name = 'Harshvardhan SIngh'\n",
        "\n",
        "for i in name:\n",
        "  print(i, end= \"-\")"
      ],
      "metadata": {
        "colab": {
          "base_uri": "https://localhost:8080/"
        },
        "id": "n8SBGmPjV2fF",
        "outputId": "811ac21e-2b2b-4ec1-a8f6-562f392f95ad"
      },
      "execution_count": null,
      "outputs": [
        {
          "output_type": "stream",
          "name": "stdout",
          "text": [
            "H-a-r-s-h-v-a-r-d-h-a-n- -S-I-n-g-h-"
          ]
        }
      ]
    },
    {
      "cell_type": "markdown",
      "source": [
        "#### From a given string tell me the count of vowels used"
      ],
      "metadata": {
        "id": "lOYSyGlyY_kI"
      }
    },
    {
      "cell_type": "code",
      "source": [
        "s = input(\"Give sometihing \")\n",
        "count = 0\n",
        "for i in s:\n",
        "  if (i == \"a\") or (i == 'e') or (i == 'i') or (i == 'o') or (i == 'u'):\n",
        "    print(i)\n",
        "    count = count + 1\n",
        "\n",
        "print(count)"
      ],
      "metadata": {
        "colab": {
          "base_uri": "https://localhost:8080/"
        },
        "id": "jZx0rz2ZYzDx",
        "outputId": "3142a317-c3da-4d56-f665-4228c634f586"
      },
      "execution_count": null,
      "outputs": [
        {
          "output_type": "stream",
          "name": "stdout",
          "text": [
            "Give sometihing adfsga\n",
            "a\n",
            "a\n",
            "2\n"
          ]
        }
      ]
    },
    {
      "cell_type": "code",
      "source": [
        "count = 0\n",
        "s = input(\"Give sometihing \")\n",
        "v = 'aeiouAEIOU'\n",
        "\n",
        "for i in s:\n",
        "  if i in v:\n",
        "    count = count + 1\n",
        "\n",
        "print(count)"
      ],
      "metadata": {
        "colab": {
          "base_uri": "https://localhost:8080/"
        },
        "id": "hBkdLtG9cBvU",
        "outputId": "c918965a-20b8-4a53-8f17-d599e99134c4"
      },
      "execution_count": null,
      "outputs": [
        {
          "output_type": "stream",
          "name": "stdout",
          "text": [
            "Give sometihing fbbbb\n",
            "0\n"
          ]
        }
      ]
    },
    {
      "cell_type": "code",
      "source": [
        "a = 0\n",
        "\n",
        "while a < 11:\n",
        "  print(a)\n",
        "  a += 1"
      ],
      "metadata": {
        "colab": {
          "base_uri": "https://localhost:8080/"
        },
        "id": "4k6LuGbpF1Ql",
        "outputId": "63cc40ca-d159-4213-d8ee-ae02765dbbcf"
      },
      "execution_count": null,
      "outputs": [
        {
          "output_type": "stream",
          "name": "stdout",
          "text": [
            "0\n",
            "1\n",
            "2\n",
            "3\n",
            "4\n",
            "5\n",
            "6\n",
            "7\n",
            "8\n",
            "9\n",
            "10\n"
          ]
        }
      ]
    },
    {
      "cell_type": "markdown",
      "source": [
        "## Q) Find the sum and count of first 20 odd numbers between 1 and 15000"
      ],
      "metadata": {
        "id": "_h3WcI6HGQNF"
      }
    },
    {
      "cell_type": "code",
      "source": [
        "counter = 0\n",
        "sum = 0\n",
        "\n",
        "for i in range(1,15001,2):\n",
        "  counter += 1\n",
        "  sum += i\n",
        "\n",
        "  if counter == 20:\n",
        "    break\n",
        "\n",
        "print(f\"Count is {counter} and sum is {sum}\")"
      ],
      "metadata": {
        "colab": {
          "base_uri": "https://localhost:8080/"
        },
        "id": "QalWDmUKGIxw",
        "outputId": "dce1521c-099e-43a5-dfdf-caad4312a83e"
      },
      "execution_count": null,
      "outputs": [
        {
          "output_type": "stream",
          "name": "stdout",
          "text": [
            "Count is 20 and sum is 400\n"
          ]
        }
      ]
    },
    {
      "cell_type": "code",
      "source": [
        "## Nested Loops\n",
        "\n",
        "for i in range(1,7):\n",
        "  for j in range(1,7):\n",
        "    for k in range(1,7):\n",
        "      print(i,j,k)\n",
        "\n",
        "  print(\"-\"*20)\n"
      ],
      "metadata": {
        "colab": {
          "base_uri": "https://localhost:8080/"
        },
        "id": "gOaG5JczIzsT",
        "outputId": "eeaf1745-bba8-4f3b-c7fe-f193be68a2a5"
      },
      "execution_count": null,
      "outputs": [
        {
          "output_type": "stream",
          "name": "stdout",
          "text": [
            "1 1 1\n",
            "1 1 2\n",
            "1 1 3\n",
            "1 1 4\n",
            "1 1 5\n",
            "1 1 6\n",
            "1 2 1\n",
            "1 2 2\n",
            "1 2 3\n",
            "1 2 4\n",
            "1 2 5\n",
            "1 2 6\n",
            "1 3 1\n",
            "1 3 2\n",
            "1 3 3\n",
            "1 3 4\n",
            "1 3 5\n",
            "1 3 6\n",
            "1 4 1\n",
            "1 4 2\n",
            "1 4 3\n",
            "1 4 4\n",
            "1 4 5\n",
            "1 4 6\n",
            "1 5 1\n",
            "1 5 2\n",
            "1 5 3\n",
            "1 5 4\n",
            "1 5 5\n",
            "1 5 6\n",
            "1 6 1\n",
            "1 6 2\n",
            "1 6 3\n",
            "1 6 4\n",
            "1 6 5\n",
            "1 6 6\n",
            "--------------------\n",
            "2 1 1\n",
            "2 1 2\n",
            "2 1 3\n",
            "2 1 4\n",
            "2 1 5\n",
            "2 1 6\n",
            "2 2 1\n",
            "2 2 2\n",
            "2 2 3\n",
            "2 2 4\n",
            "2 2 5\n",
            "2 2 6\n",
            "2 3 1\n",
            "2 3 2\n",
            "2 3 3\n",
            "2 3 4\n",
            "2 3 5\n",
            "2 3 6\n",
            "2 4 1\n",
            "2 4 2\n",
            "2 4 3\n",
            "2 4 4\n",
            "2 4 5\n",
            "2 4 6\n",
            "2 5 1\n",
            "2 5 2\n",
            "2 5 3\n",
            "2 5 4\n",
            "2 5 5\n",
            "2 5 6\n",
            "2 6 1\n",
            "2 6 2\n",
            "2 6 3\n",
            "2 6 4\n",
            "2 6 5\n",
            "2 6 6\n",
            "--------------------\n",
            "3 1 1\n",
            "3 1 2\n",
            "3 1 3\n",
            "3 1 4\n",
            "3 1 5\n",
            "3 1 6\n",
            "3 2 1\n",
            "3 2 2\n",
            "3 2 3\n",
            "3 2 4\n",
            "3 2 5\n",
            "3 2 6\n",
            "3 3 1\n",
            "3 3 2\n",
            "3 3 3\n",
            "3 3 4\n",
            "3 3 5\n",
            "3 3 6\n",
            "3 4 1\n",
            "3 4 2\n",
            "3 4 3\n",
            "3 4 4\n",
            "3 4 5\n",
            "3 4 6\n",
            "3 5 1\n",
            "3 5 2\n",
            "3 5 3\n",
            "3 5 4\n",
            "3 5 5\n",
            "3 5 6\n",
            "3 6 1\n",
            "3 6 2\n",
            "3 6 3\n",
            "3 6 4\n",
            "3 6 5\n",
            "3 6 6\n",
            "--------------------\n",
            "4 1 1\n",
            "4 1 2\n",
            "4 1 3\n",
            "4 1 4\n",
            "4 1 5\n",
            "4 1 6\n",
            "4 2 1\n",
            "4 2 2\n",
            "4 2 3\n",
            "4 2 4\n",
            "4 2 5\n",
            "4 2 6\n",
            "4 3 1\n",
            "4 3 2\n",
            "4 3 3\n",
            "4 3 4\n",
            "4 3 5\n",
            "4 3 6\n",
            "4 4 1\n",
            "4 4 2\n",
            "4 4 3\n",
            "4 4 4\n",
            "4 4 5\n",
            "4 4 6\n",
            "4 5 1\n",
            "4 5 2\n",
            "4 5 3\n",
            "4 5 4\n",
            "4 5 5\n",
            "4 5 6\n",
            "4 6 1\n",
            "4 6 2\n",
            "4 6 3\n",
            "4 6 4\n",
            "4 6 5\n",
            "4 6 6\n",
            "--------------------\n",
            "5 1 1\n",
            "5 1 2\n",
            "5 1 3\n",
            "5 1 4\n",
            "5 1 5\n",
            "5 1 6\n",
            "5 2 1\n",
            "5 2 2\n",
            "5 2 3\n",
            "5 2 4\n",
            "5 2 5\n",
            "5 2 6\n",
            "5 3 1\n",
            "5 3 2\n",
            "5 3 3\n",
            "5 3 4\n",
            "5 3 5\n",
            "5 3 6\n",
            "5 4 1\n",
            "5 4 2\n",
            "5 4 3\n",
            "5 4 4\n",
            "5 4 5\n",
            "5 4 6\n",
            "5 5 1\n",
            "5 5 2\n",
            "5 5 3\n",
            "5 5 4\n",
            "5 5 5\n",
            "5 5 6\n",
            "5 6 1\n",
            "5 6 2\n",
            "5 6 3\n",
            "5 6 4\n",
            "5 6 5\n",
            "5 6 6\n",
            "--------------------\n",
            "6 1 1\n",
            "6 1 2\n",
            "6 1 3\n",
            "6 1 4\n",
            "6 1 5\n",
            "6 1 6\n",
            "6 2 1\n",
            "6 2 2\n",
            "6 2 3\n",
            "6 2 4\n",
            "6 2 5\n",
            "6 2 6\n",
            "6 3 1\n",
            "6 3 2\n",
            "6 3 3\n",
            "6 3 4\n",
            "6 3 5\n",
            "6 3 6\n",
            "6 4 1\n",
            "6 4 2\n",
            "6 4 3\n",
            "6 4 4\n",
            "6 4 5\n",
            "6 4 6\n",
            "6 5 1\n",
            "6 5 2\n",
            "6 5 3\n",
            "6 5 4\n",
            "6 5 5\n",
            "6 5 6\n",
            "6 6 1\n",
            "6 6 2\n",
            "6 6 3\n",
            "6 6 4\n",
            "6 6 5\n",
            "6 6 6\n",
            "--------------------\n"
          ]
        }
      ]
    },
    {
      "cell_type": "markdown",
      "source": [
        "# Pattern Printing"
      ],
      "metadata": {
        "id": "jhyJH5CdLOOZ"
      }
    },
    {
      "cell_type": "code",
      "source": [
        "'''\n",
        "\n",
        "*\n",
        "**\n",
        "***\n",
        "****\n",
        "*****\n",
        "\n",
        "'''"
      ],
      "metadata": {
        "id": "v81Z0XE0JOs0"
      },
      "execution_count": null,
      "outputs": []
    },
    {
      "cell_type": "code",
      "source": [
        "num = 10\n",
        "\n",
        "for i in range(1,num+1):\n",
        "  print(\"*\"*i)"
      ],
      "metadata": {
        "colab": {
          "base_uri": "https://localhost:8080/"
        },
        "id": "hbd0u-iRMz27",
        "outputId": "10b4ba42-957a-4ec9-f92e-73e91a57ea58"
      },
      "execution_count": null,
      "outputs": [
        {
          "output_type": "stream",
          "name": "stdout",
          "text": [
            "*\n",
            "**\n",
            "***\n",
            "****\n",
            "*****\n",
            "******\n",
            "*******\n",
            "********\n",
            "*********\n",
            "**********\n"
          ]
        }
      ]
    },
    {
      "cell_type": "code",
      "source": [
        "'''\n",
        "\n",
        "*******\n",
        "******\n",
        "*****\n",
        "****\n",
        "***\n",
        "**\n",
        "*\n",
        "\n",
        "'''"
      ],
      "metadata": {
        "id": "TUOb5nZOM9z-"
      },
      "execution_count": null,
      "outputs": []
    },
    {
      "cell_type": "code",
      "source": [
        "for i in range(7,0,-1):\n",
        "  print(\"* \"*i)"
      ],
      "metadata": {
        "colab": {
          "base_uri": "https://localhost:8080/"
        },
        "id": "tFAl5N4LOgkE",
        "outputId": "94bb2714-f1e3-44c8-ddb3-b52b00474a60"
      },
      "execution_count": null,
      "outputs": [
        {
          "output_type": "stream",
          "name": "stdout",
          "text": [
            "* * * * * * * \n",
            "* * * * * * \n",
            "* * * * * \n",
            "* * * * \n",
            "* * * \n",
            "* * \n",
            "* \n"
          ]
        }
      ]
    },
    {
      "cell_type": "code",
      "source": [
        "'''\n",
        "num = 5\n",
        "\n",
        "*****\n",
        "*****\n",
        "*****\n",
        "*****\n",
        "*****\n",
        "\n",
        "'''"
      ],
      "metadata": {
        "id": "sl2XI-rEOksi"
      },
      "execution_count": null,
      "outputs": []
    },
    {
      "cell_type": "code",
      "source": [
        "num = 6\n",
        "for i in range(1,num+1):\n",
        "  print(num*\" *\")"
      ],
      "metadata": {
        "colab": {
          "base_uri": "https://localhost:8080/"
        },
        "id": "YfawutNHQjLH",
        "outputId": "08768376-a8f8-4d4e-b8e2-2771dbb9e5a3"
      },
      "execution_count": null,
      "outputs": [
        {
          "output_type": "stream",
          "name": "stdout",
          "text": [
            " * * * * * *\n",
            " * * * * * *\n",
            " * * * * * *\n",
            " * * * * * *\n",
            " * * * * * *\n",
            " * * * * * *\n"
          ]
        }
      ]
    },
    {
      "cell_type": "code",
      "source": [
        "'''\n",
        "\n",
        "num = 5\n",
        "\n",
        "1\n",
        "22\n",
        "333\n",
        "4444\n",
        "55555\n",
        "\n",
        "\n",
        "'''"
      ],
      "metadata": {
        "id": "MuG1UZZXQ1cY"
      },
      "execution_count": null,
      "outputs": []
    },
    {
      "cell_type": "code",
      "source": [
        "num = 5\n",
        "\n",
        "for i in range(1,num+1):\n",
        "  print(str(i)*i)"
      ],
      "metadata": {
        "colab": {
          "base_uri": "https://localhost:8080/"
        },
        "id": "TsTa6i8FTa1j",
        "outputId": "95ff7ffb-8fdf-46bd-a57c-9cc3ddbe63dd"
      },
      "execution_count": null,
      "outputs": [
        {
          "output_type": "stream",
          "name": "stdout",
          "text": [
            "1\n",
            "22\n",
            "333\n",
            "4444\n",
            "55555\n"
          ]
        }
      ]
    },
    {
      "cell_type": "code",
      "source": [
        "'''\n",
        "num = 7\n",
        "\n",
        "\n",
        "*******\n",
        "*     *\n",
        "*     *\n",
        "*     *\n",
        "*     *\n",
        "*     *\n",
        "*******\n",
        "\n",
        "'''\n"
      ],
      "metadata": {
        "id": "TO4_-a4hTfAD"
      },
      "execution_count": null,
      "outputs": []
    },
    {
      "cell_type": "code",
      "source": [
        "num = 5\n",
        "\n",
        "print(num * \"* \")\n",
        "\n",
        "for i in range(1,num-1):\n",
        "  print(\"*\"+ (num-2)*\"  \"+\" *\")\n",
        "\n",
        "print(num * \"* \")"
      ],
      "metadata": {
        "colab": {
          "base_uri": "https://localhost:8080/"
        },
        "id": "_ViXPiDhY-6C",
        "outputId": "679062d8-40c6-445d-d15c-f687da8507cb"
      },
      "execution_count": null,
      "outputs": [
        {
          "output_type": "stream",
          "name": "stdout",
          "text": [
            "* * * * * \n",
            "*       *\n",
            "*       *\n",
            "*       *\n",
            "* * * * * \n"
          ]
        }
      ]
    },
    {
      "cell_type": "code",
      "source": [
        "'''\n",
        "Num = 5\n",
        "\n",
        "*\n",
        "**\n",
        "* *\n",
        "*  *\n",
        "*****\n",
        "\n",
        "\n",
        "'''"
      ],
      "metadata": {
        "id": "bn3wMaueZDIu"
      },
      "execution_count": null,
      "outputs": []
    },
    {
      "cell_type": "code",
      "source": [
        "num = 10\n",
        "\n",
        "print(\"* \")\n",
        "\n",
        "for i in range(1,num-1):\n",
        "  print(\"*\"+ \"  \"*(i-1)+\" *\")\n",
        "\n",
        "print(num * \"* \")"
      ],
      "metadata": {
        "colab": {
          "base_uri": "https://localhost:8080/"
        },
        "id": "vyecs7OfdilR",
        "outputId": "dad68720-cab5-4288-8061-e5ee8321fa2f"
      },
      "execution_count": null,
      "outputs": [
        {
          "output_type": "stream",
          "name": "stdout",
          "text": [
            "* \n",
            "* *\n",
            "*   *\n",
            "*     *\n",
            "*       *\n",
            "*         *\n",
            "*           *\n",
            "*             *\n",
            "*               *\n",
            "* * * * * * * * * * \n"
          ]
        }
      ]
    },
    {
      "cell_type": "code",
      "source": [
        "'''\n",
        "\n",
        "num = 5\n",
        "\n",
        "\n",
        "    *\n",
        "   **\n",
        "  ***\n",
        " ****\n",
        "*****\n",
        "*****\n",
        " ****\n",
        "  ***\n",
        "   **\n",
        "    *\n",
        "\n",
        "\n",
        "'''"
      ],
      "metadata": {
        "id": "YjUIp2d_dupY"
      },
      "execution_count": null,
      "outputs": []
    },
    {
      "cell_type": "code",
      "source": [
        "num = 7\n",
        "\n",
        "for i in range(1,num+1):\n",
        "  print(\" \"*(num-i)+\"*\"*i)\n",
        "\n",
        "for i in range(num,0,-1):\n",
        "  print(\" \"*(num-i)+\"*\"*i)"
      ],
      "metadata": {
        "colab": {
          "base_uri": "https://localhost:8080/"
        },
        "id": "VH4Cb_TcSq7K",
        "outputId": "f7b8cbb1-a224-497c-defa-6c3561488b4b"
      },
      "execution_count": null,
      "outputs": [
        {
          "output_type": "stream",
          "name": "stdout",
          "text": [
            "      *\n",
            "     **\n",
            "    ***\n",
            "   ****\n",
            "  *****\n",
            " ******\n",
            "*******\n",
            "*******\n",
            " ******\n",
            "  *****\n",
            "   ****\n",
            "    ***\n",
            "     **\n",
            "      *\n"
          ]
        }
      ]
    },
    {
      "cell_type": "markdown",
      "source": [
        "# Data Structures"
      ],
      "metadata": {
        "id": "K15Dg6_4TS2d"
      }
    },
    {
      "cell_type": "markdown",
      "source": [
        "## List"
      ],
      "metadata": {
        "id": "65iQw4naTZmB"
      }
    },
    {
      "cell_type": "code",
      "source": [
        "lst = []\n",
        "print(lst)\n",
        "print(type(lst))"
      ],
      "metadata": {
        "colab": {
          "base_uri": "https://localhost:8080/"
        },
        "id": "6PE7Q21DS8e2",
        "outputId": "cbbca442-f68a-438c-f245-773fb306807a"
      },
      "execution_count": null,
      "outputs": [
        {
          "output_type": "stream",
          "name": "stdout",
          "text": [
            "[]\n",
            "<class 'list'>\n"
          ]
        }
      ]
    },
    {
      "cell_type": "code",
      "source": [
        "roll_number = [1,2,3,4,5,6,7]\n",
        "print(roll_number)\n",
        "physics_marks = [24,65,65,74,35,78,45]"
      ],
      "metadata": {
        "colab": {
          "base_uri": "https://localhost:8080/"
        },
        "id": "f_Paz0MJUQri",
        "outputId": "ec34317d-65aa-489e-bdc9-5e8be81c4fa4"
      },
      "execution_count": null,
      "outputs": [
        {
          "output_type": "stream",
          "name": "stdout",
          "text": [
            "[1, 2, 3, 4, 5, 6, 7]\n"
          ]
        }
      ]
    },
    {
      "cell_type": "code",
      "source": [
        "lst[2] = 'Amit'"
      ],
      "metadata": {
        "id": "J5DVRTTZ-wsf"
      },
      "execution_count": null,
      "outputs": []
    },
    {
      "cell_type": "code",
      "source": [
        "print(lst)"
      ],
      "metadata": {
        "colab": {
          "base_uri": "https://localhost:8080/"
        },
        "id": "QahEXwpo-5RE",
        "outputId": "73ef9b33-9e63-48da-bad5-09dee0c83bf8"
      },
      "execution_count": null,
      "outputs": [
        {
          "output_type": "stream",
          "name": "stdout",
          "text": [
            "[12, 45.57, 'Amit', True]\n"
          ]
        }
      ]
    },
    {
      "cell_type": "code",
      "source": [
        "lst = [12,45.57,\"Harsh\",True]\n",
        "print(lst)"
      ],
      "metadata": {
        "colab": {
          "base_uri": "https://localhost:8080/"
        },
        "id": "_i4duagGUaHn",
        "outputId": "d11a03af-4d65-4ec9-d56f-e2a308f8872a"
      },
      "execution_count": null,
      "outputs": [
        {
          "output_type": "stream",
          "name": "stdout",
          "text": [
            "[12, 45.57, 'Harsh', True]\n"
          ]
        }
      ]
    },
    {
      "cell_type": "code",
      "source": [
        "print(lst[-6])"
      ],
      "metadata": {
        "colab": {
          "base_uri": "https://localhost:8080/",
          "height": 141
        },
        "id": "i4437mBcUqVF",
        "outputId": "a33b77b1-5280-4261-ec93-c3969e10e6a9"
      },
      "execution_count": null,
      "outputs": [
        {
          "output_type": "error",
          "ename": "IndexError",
          "evalue": "list index out of range",
          "traceback": [
            "\u001b[0;31m---------------------------------------------------------------------------\u001b[0m",
            "\u001b[0;31mIndexError\u001b[0m                                Traceback (most recent call last)",
            "\u001b[0;32m/tmp/ipython-input-13-1815033927.py\u001b[0m in \u001b[0;36m<cell line: 0>\u001b[0;34m()\u001b[0m\n\u001b[0;32m----> 1\u001b[0;31m \u001b[0mprint\u001b[0m\u001b[0;34m(\u001b[0m\u001b[0mlst\u001b[0m\u001b[0;34m[\u001b[0m\u001b[0;34m-\u001b[0m\u001b[0;36m6\u001b[0m\u001b[0;34m]\u001b[0m\u001b[0;34m)\u001b[0m\u001b[0;34m\u001b[0m\u001b[0;34m\u001b[0m\u001b[0m\n\u001b[0m",
            "\u001b[0;31mIndexError\u001b[0m: list index out of range"
          ]
        }
      ]
    },
    {
      "cell_type": "code",
      "source": [
        "print(lst)"
      ],
      "metadata": {
        "colab": {
          "base_uri": "https://localhost:8080/"
        },
        "id": "fAEsn0gUU38Z",
        "outputId": "5012156b-94a8-4e34-c83e-04474a766358"
      },
      "execution_count": null,
      "outputs": [
        {
          "output_type": "stream",
          "name": "stdout",
          "text": [
            "[12, 45.57, 'Harsh', True]\n"
          ]
        }
      ]
    },
    {
      "cell_type": "code",
      "source": [
        "lst.append(467)\n",
        "print(lst)"
      ],
      "metadata": {
        "colab": {
          "base_uri": "https://localhost:8080/"
        },
        "id": "NG_xE7toVRrA",
        "outputId": "fd9457be-6b9d-4f4b-c623-6d7b660a9cf9"
      },
      "execution_count": null,
      "outputs": [
        {
          "output_type": "stream",
          "name": "stdout",
          "text": [
            "[12, 45.57, 'Harsh', True, 467, 467, 467]\n"
          ]
        }
      ]
    },
    {
      "cell_type": "code",
      "source": [
        "lst = []\n",
        "\n",
        "for i in range(1,6):\n",
        "  lst.append(i)\n",
        "\n",
        "print(lst)"
      ],
      "metadata": {
        "colab": {
          "base_uri": "https://localhost:8080/"
        },
        "id": "Hp-SChFfWwCB",
        "outputId": "a2bf8fe3-6a68-4e4e-c0d3-2272efdbfac2"
      },
      "execution_count": null,
      "outputs": [
        {
          "output_type": "stream",
          "name": "stdout",
          "text": [
            "[1, 2, 3, 4, 5]\n"
          ]
        }
      ]
    },
    {
      "cell_type": "markdown",
      "source": [
        "### Q) In a list store the first 1000 natural numbers"
      ],
      "metadata": {
        "id": "TwfbrDXCWeiV"
      }
    },
    {
      "cell_type": "code",
      "source": [
        "lst = []\n",
        "\n",
        "for i in range(1,1001):\n",
        "  lst.append(i)\n",
        "\n",
        "print(lst)"
      ],
      "metadata": {
        "colab": {
          "base_uri": "https://localhost:8080/"
        },
        "id": "BuHm9YwLVZtf",
        "outputId": "1a9be7ee-5578-4f6e-c9c9-53de001a1077"
      },
      "execution_count": null,
      "outputs": [
        {
          "output_type": "stream",
          "name": "stdout",
          "text": [
            "[1, 2, 3, 4, 5, 6, 7, 8, 9, 10, 11, 12, 13, 14, 15, 16, 17, 18, 19, 20, 21, 22, 23, 24, 25, 26, 27, 28, 29, 30, 31, 32, 33, 34, 35, 36, 37, 38, 39, 40, 41, 42, 43, 44, 45, 46, 47, 48, 49, 50, 51, 52, 53, 54, 55, 56, 57, 58, 59, 60, 61, 62, 63, 64, 65, 66, 67, 68, 69, 70, 71, 72, 73, 74, 75, 76, 77, 78, 79, 80, 81, 82, 83, 84, 85, 86, 87, 88, 89, 90, 91, 92, 93, 94, 95, 96, 97, 98, 99, 100, 101, 102, 103, 104, 105, 106, 107, 108, 109, 110, 111, 112, 113, 114, 115, 116, 117, 118, 119, 120, 121, 122, 123, 124, 125, 126, 127, 128, 129, 130, 131, 132, 133, 134, 135, 136, 137, 138, 139, 140, 141, 142, 143, 144, 145, 146, 147, 148, 149, 150, 151, 152, 153, 154, 155, 156, 157, 158, 159, 160, 161, 162, 163, 164, 165, 166, 167, 168, 169, 170, 171, 172, 173, 174, 175, 176, 177, 178, 179, 180, 181, 182, 183, 184, 185, 186, 187, 188, 189, 190, 191, 192, 193, 194, 195, 196, 197, 198, 199, 200, 201, 202, 203, 204, 205, 206, 207, 208, 209, 210, 211, 212, 213, 214, 215, 216, 217, 218, 219, 220, 221, 222, 223, 224, 225, 226, 227, 228, 229, 230, 231, 232, 233, 234, 235, 236, 237, 238, 239, 240, 241, 242, 243, 244, 245, 246, 247, 248, 249, 250, 251, 252, 253, 254, 255, 256, 257, 258, 259, 260, 261, 262, 263, 264, 265, 266, 267, 268, 269, 270, 271, 272, 273, 274, 275, 276, 277, 278, 279, 280, 281, 282, 283, 284, 285, 286, 287, 288, 289, 290, 291, 292, 293, 294, 295, 296, 297, 298, 299, 300, 301, 302, 303, 304, 305, 306, 307, 308, 309, 310, 311, 312, 313, 314, 315, 316, 317, 318, 319, 320, 321, 322, 323, 324, 325, 326, 327, 328, 329, 330, 331, 332, 333, 334, 335, 336, 337, 338, 339, 340, 341, 342, 343, 344, 345, 346, 347, 348, 349, 350, 351, 352, 353, 354, 355, 356, 357, 358, 359, 360, 361, 362, 363, 364, 365, 366, 367, 368, 369, 370, 371, 372, 373, 374, 375, 376, 377, 378, 379, 380, 381, 382, 383, 384, 385, 386, 387, 388, 389, 390, 391, 392, 393, 394, 395, 396, 397, 398, 399, 400, 401, 402, 403, 404, 405, 406, 407, 408, 409, 410, 411, 412, 413, 414, 415, 416, 417, 418, 419, 420, 421, 422, 423, 424, 425, 426, 427, 428, 429, 430, 431, 432, 433, 434, 435, 436, 437, 438, 439, 440, 441, 442, 443, 444, 445, 446, 447, 448, 449, 450, 451, 452, 453, 454, 455, 456, 457, 458, 459, 460, 461, 462, 463, 464, 465, 466, 467, 468, 469, 470, 471, 472, 473, 474, 475, 476, 477, 478, 479, 480, 481, 482, 483, 484, 485, 486, 487, 488, 489, 490, 491, 492, 493, 494, 495, 496, 497, 498, 499, 500, 501, 502, 503, 504, 505, 506, 507, 508, 509, 510, 511, 512, 513, 514, 515, 516, 517, 518, 519, 520, 521, 522, 523, 524, 525, 526, 527, 528, 529, 530, 531, 532, 533, 534, 535, 536, 537, 538, 539, 540, 541, 542, 543, 544, 545, 546, 547, 548, 549, 550, 551, 552, 553, 554, 555, 556, 557, 558, 559, 560, 561, 562, 563, 564, 565, 566, 567, 568, 569, 570, 571, 572, 573, 574, 575, 576, 577, 578, 579, 580, 581, 582, 583, 584, 585, 586, 587, 588, 589, 590, 591, 592, 593, 594, 595, 596, 597, 598, 599, 600, 601, 602, 603, 604, 605, 606, 607, 608, 609, 610, 611, 612, 613, 614, 615, 616, 617, 618, 619, 620, 621, 622, 623, 624, 625, 626, 627, 628, 629, 630, 631, 632, 633, 634, 635, 636, 637, 638, 639, 640, 641, 642, 643, 644, 645, 646, 647, 648, 649, 650, 651, 652, 653, 654, 655, 656, 657, 658, 659, 660, 661, 662, 663, 664, 665, 666, 667, 668, 669, 670, 671, 672, 673, 674, 675, 676, 677, 678, 679, 680, 681, 682, 683, 684, 685, 686, 687, 688, 689, 690, 691, 692, 693, 694, 695, 696, 697, 698, 699, 700, 701, 702, 703, 704, 705, 706, 707, 708, 709, 710, 711, 712, 713, 714, 715, 716, 717, 718, 719, 720, 721, 722, 723, 724, 725, 726, 727, 728, 729, 730, 731, 732, 733, 734, 735, 736, 737, 738, 739, 740, 741, 742, 743, 744, 745, 746, 747, 748, 749, 750, 751, 752, 753, 754, 755, 756, 757, 758, 759, 760, 761, 762, 763, 764, 765, 766, 767, 768, 769, 770, 771, 772, 773, 774, 775, 776, 777, 778, 779, 780, 781, 782, 783, 784, 785, 786, 787, 788, 789, 790, 791, 792, 793, 794, 795, 796, 797, 798, 799, 800, 801, 802, 803, 804, 805, 806, 807, 808, 809, 810, 811, 812, 813, 814, 815, 816, 817, 818, 819, 820, 821, 822, 823, 824, 825, 826, 827, 828, 829, 830, 831, 832, 833, 834, 835, 836, 837, 838, 839, 840, 841, 842, 843, 844, 845, 846, 847, 848, 849, 850, 851, 852, 853, 854, 855, 856, 857, 858, 859, 860, 861, 862, 863, 864, 865, 866, 867, 868, 869, 870, 871, 872, 873, 874, 875, 876, 877, 878, 879, 880, 881, 882, 883, 884, 885, 886, 887, 888, 889, 890, 891, 892, 893, 894, 895, 896, 897, 898, 899, 900, 901, 902, 903, 904, 905, 906, 907, 908, 909, 910, 911, 912, 913, 914, 915, 916, 917, 918, 919, 920, 921, 922, 923, 924, 925, 926, 927, 928, 929, 930, 931, 932, 933, 934, 935, 936, 937, 938, 939, 940, 941, 942, 943, 944, 945, 946, 947, 948, 949, 950, 951, 952, 953, 954, 955, 956, 957, 958, 959, 960, 961, 962, 963, 964, 965, 966, 967, 968, 969, 970, 971, 972, 973, 974, 975, 976, 977, 978, 979, 980, 981, 982, 983, 984, 985, 986, 987, 988, 989, 990, 991, 992, 993, 994, 995, 996, 997, 998, 999, 1000]\n"
          ]
        }
      ]
    },
    {
      "cell_type": "markdown",
      "source": [
        "### Q) In a list store the square of the first 1000 natural numbers"
      ],
      "metadata": {
        "id": "rALQRR3yWj81"
      }
    },
    {
      "cell_type": "code",
      "source": [
        "lst = []\n",
        "\n",
        "for i in range(1,1001):\n",
        "  lst.append(i**2)\n",
        "\n",
        "print(lst)"
      ],
      "metadata": {
        "colab": {
          "base_uri": "https://localhost:8080/"
        },
        "id": "E9IuWL6gVpIY",
        "outputId": "ac5d0869-acc2-431d-8d6b-395d08c37eb4"
      },
      "execution_count": null,
      "outputs": [
        {
          "output_type": "stream",
          "name": "stdout",
          "text": [
            "[1, 4, 9, 16, 25, 36, 49, 64, 81, 100, 121, 144, 169, 196, 225, 256, 289, 324, 361, 400, 441, 484, 529, 576, 625, 676, 729, 784, 841, 900, 961, 1024, 1089, 1156, 1225, 1296, 1369, 1444, 1521, 1600, 1681, 1764, 1849, 1936, 2025, 2116, 2209, 2304, 2401, 2500, 2601, 2704, 2809, 2916, 3025, 3136, 3249, 3364, 3481, 3600, 3721, 3844, 3969, 4096, 4225, 4356, 4489, 4624, 4761, 4900, 5041, 5184, 5329, 5476, 5625, 5776, 5929, 6084, 6241, 6400, 6561, 6724, 6889, 7056, 7225, 7396, 7569, 7744, 7921, 8100, 8281, 8464, 8649, 8836, 9025, 9216, 9409, 9604, 9801, 10000, 10201, 10404, 10609, 10816, 11025, 11236, 11449, 11664, 11881, 12100, 12321, 12544, 12769, 12996, 13225, 13456, 13689, 13924, 14161, 14400, 14641, 14884, 15129, 15376, 15625, 15876, 16129, 16384, 16641, 16900, 17161, 17424, 17689, 17956, 18225, 18496, 18769, 19044, 19321, 19600, 19881, 20164, 20449, 20736, 21025, 21316, 21609, 21904, 22201, 22500, 22801, 23104, 23409, 23716, 24025, 24336, 24649, 24964, 25281, 25600, 25921, 26244, 26569, 26896, 27225, 27556, 27889, 28224, 28561, 28900, 29241, 29584, 29929, 30276, 30625, 30976, 31329, 31684, 32041, 32400, 32761, 33124, 33489, 33856, 34225, 34596, 34969, 35344, 35721, 36100, 36481, 36864, 37249, 37636, 38025, 38416, 38809, 39204, 39601, 40000, 40401, 40804, 41209, 41616, 42025, 42436, 42849, 43264, 43681, 44100, 44521, 44944, 45369, 45796, 46225, 46656, 47089, 47524, 47961, 48400, 48841, 49284, 49729, 50176, 50625, 51076, 51529, 51984, 52441, 52900, 53361, 53824, 54289, 54756, 55225, 55696, 56169, 56644, 57121, 57600, 58081, 58564, 59049, 59536, 60025, 60516, 61009, 61504, 62001, 62500, 63001, 63504, 64009, 64516, 65025, 65536, 66049, 66564, 67081, 67600, 68121, 68644, 69169, 69696, 70225, 70756, 71289, 71824, 72361, 72900, 73441, 73984, 74529, 75076, 75625, 76176, 76729, 77284, 77841, 78400, 78961, 79524, 80089, 80656, 81225, 81796, 82369, 82944, 83521, 84100, 84681, 85264, 85849, 86436, 87025, 87616, 88209, 88804, 89401, 90000, 90601, 91204, 91809, 92416, 93025, 93636, 94249, 94864, 95481, 96100, 96721, 97344, 97969, 98596, 99225, 99856, 100489, 101124, 101761, 102400, 103041, 103684, 104329, 104976, 105625, 106276, 106929, 107584, 108241, 108900, 109561, 110224, 110889, 111556, 112225, 112896, 113569, 114244, 114921, 115600, 116281, 116964, 117649, 118336, 119025, 119716, 120409, 121104, 121801, 122500, 123201, 123904, 124609, 125316, 126025, 126736, 127449, 128164, 128881, 129600, 130321, 131044, 131769, 132496, 133225, 133956, 134689, 135424, 136161, 136900, 137641, 138384, 139129, 139876, 140625, 141376, 142129, 142884, 143641, 144400, 145161, 145924, 146689, 147456, 148225, 148996, 149769, 150544, 151321, 152100, 152881, 153664, 154449, 155236, 156025, 156816, 157609, 158404, 159201, 160000, 160801, 161604, 162409, 163216, 164025, 164836, 165649, 166464, 167281, 168100, 168921, 169744, 170569, 171396, 172225, 173056, 173889, 174724, 175561, 176400, 177241, 178084, 178929, 179776, 180625, 181476, 182329, 183184, 184041, 184900, 185761, 186624, 187489, 188356, 189225, 190096, 190969, 191844, 192721, 193600, 194481, 195364, 196249, 197136, 198025, 198916, 199809, 200704, 201601, 202500, 203401, 204304, 205209, 206116, 207025, 207936, 208849, 209764, 210681, 211600, 212521, 213444, 214369, 215296, 216225, 217156, 218089, 219024, 219961, 220900, 221841, 222784, 223729, 224676, 225625, 226576, 227529, 228484, 229441, 230400, 231361, 232324, 233289, 234256, 235225, 236196, 237169, 238144, 239121, 240100, 241081, 242064, 243049, 244036, 245025, 246016, 247009, 248004, 249001, 250000, 251001, 252004, 253009, 254016, 255025, 256036, 257049, 258064, 259081, 260100, 261121, 262144, 263169, 264196, 265225, 266256, 267289, 268324, 269361, 270400, 271441, 272484, 273529, 274576, 275625, 276676, 277729, 278784, 279841, 280900, 281961, 283024, 284089, 285156, 286225, 287296, 288369, 289444, 290521, 291600, 292681, 293764, 294849, 295936, 297025, 298116, 299209, 300304, 301401, 302500, 303601, 304704, 305809, 306916, 308025, 309136, 310249, 311364, 312481, 313600, 314721, 315844, 316969, 318096, 319225, 320356, 321489, 322624, 323761, 324900, 326041, 327184, 328329, 329476, 330625, 331776, 332929, 334084, 335241, 336400, 337561, 338724, 339889, 341056, 342225, 343396, 344569, 345744, 346921, 348100, 349281, 350464, 351649, 352836, 354025, 355216, 356409, 357604, 358801, 360000, 361201, 362404, 363609, 364816, 366025, 367236, 368449, 369664, 370881, 372100, 373321, 374544, 375769, 376996, 378225, 379456, 380689, 381924, 383161, 384400, 385641, 386884, 388129, 389376, 390625, 391876, 393129, 394384, 395641, 396900, 398161, 399424, 400689, 401956, 403225, 404496, 405769, 407044, 408321, 409600, 410881, 412164, 413449, 414736, 416025, 417316, 418609, 419904, 421201, 422500, 423801, 425104, 426409, 427716, 429025, 430336, 431649, 432964, 434281, 435600, 436921, 438244, 439569, 440896, 442225, 443556, 444889, 446224, 447561, 448900, 450241, 451584, 452929, 454276, 455625, 456976, 458329, 459684, 461041, 462400, 463761, 465124, 466489, 467856, 469225, 470596, 471969, 473344, 474721, 476100, 477481, 478864, 480249, 481636, 483025, 484416, 485809, 487204, 488601, 490000, 491401, 492804, 494209, 495616, 497025, 498436, 499849, 501264, 502681, 504100, 505521, 506944, 508369, 509796, 511225, 512656, 514089, 515524, 516961, 518400, 519841, 521284, 522729, 524176, 525625, 527076, 528529, 529984, 531441, 532900, 534361, 535824, 537289, 538756, 540225, 541696, 543169, 544644, 546121, 547600, 549081, 550564, 552049, 553536, 555025, 556516, 558009, 559504, 561001, 562500, 564001, 565504, 567009, 568516, 570025, 571536, 573049, 574564, 576081, 577600, 579121, 580644, 582169, 583696, 585225, 586756, 588289, 589824, 591361, 592900, 594441, 595984, 597529, 599076, 600625, 602176, 603729, 605284, 606841, 608400, 609961, 611524, 613089, 614656, 616225, 617796, 619369, 620944, 622521, 624100, 625681, 627264, 628849, 630436, 632025, 633616, 635209, 636804, 638401, 640000, 641601, 643204, 644809, 646416, 648025, 649636, 651249, 652864, 654481, 656100, 657721, 659344, 660969, 662596, 664225, 665856, 667489, 669124, 670761, 672400, 674041, 675684, 677329, 678976, 680625, 682276, 683929, 685584, 687241, 688900, 690561, 692224, 693889, 695556, 697225, 698896, 700569, 702244, 703921, 705600, 707281, 708964, 710649, 712336, 714025, 715716, 717409, 719104, 720801, 722500, 724201, 725904, 727609, 729316, 731025, 732736, 734449, 736164, 737881, 739600, 741321, 743044, 744769, 746496, 748225, 749956, 751689, 753424, 755161, 756900, 758641, 760384, 762129, 763876, 765625, 767376, 769129, 770884, 772641, 774400, 776161, 777924, 779689, 781456, 783225, 784996, 786769, 788544, 790321, 792100, 793881, 795664, 797449, 799236, 801025, 802816, 804609, 806404, 808201, 810000, 811801, 813604, 815409, 817216, 819025, 820836, 822649, 824464, 826281, 828100, 829921, 831744, 833569, 835396, 837225, 839056, 840889, 842724, 844561, 846400, 848241, 850084, 851929, 853776, 855625, 857476, 859329, 861184, 863041, 864900, 866761, 868624, 870489, 872356, 874225, 876096, 877969, 879844, 881721, 883600, 885481, 887364, 889249, 891136, 893025, 894916, 896809, 898704, 900601, 902500, 904401, 906304, 908209, 910116, 912025, 913936, 915849, 917764, 919681, 921600, 923521, 925444, 927369, 929296, 931225, 933156, 935089, 937024, 938961, 940900, 942841, 944784, 946729, 948676, 950625, 952576, 954529, 956484, 958441, 960400, 962361, 964324, 966289, 968256, 970225, 972196, 974169, 976144, 978121, 980100, 982081, 984064, 986049, 988036, 990025, 992016, 994009, 996004, 998001, 1000000]\n"
          ]
        }
      ]
    },
    {
      "cell_type": "markdown",
      "source": [
        "### Q) In a list store the numbers between 1 and 1000 only if the number is divisible by 7"
      ],
      "metadata": {
        "id": "CcrotI_2YdmD"
      }
    },
    {
      "cell_type": "code",
      "source": [
        "lst = []\n",
        "\n",
        "for i in range(1,1001):\n",
        "  if i % 7 ==0:\n",
        "    lst.append(i)\n",
        "\n",
        "print(lst)"
      ],
      "metadata": {
        "colab": {
          "base_uri": "https://localhost:8080/"
        },
        "id": "gt69ISc2YaZR",
        "outputId": "5ead7776-da2e-453c-82e2-74db4f668892"
      },
      "execution_count": null,
      "outputs": [
        {
          "output_type": "stream",
          "name": "stdout",
          "text": [
            "[7, 14, 21, 28, 35, 42, 49, 56, 63, 70, 77, 84, 91, 98, 105, 112, 119, 126, 133, 140, 147, 154, 161, 168, 175, 182, 189, 196, 203, 210, 217, 224, 231, 238, 245, 252, 259, 266, 273, 280, 287, 294, 301, 308, 315, 322, 329, 336, 343, 350, 357, 364, 371, 378, 385, 392, 399, 406, 413, 420, 427, 434, 441, 448, 455, 462, 469, 476, 483, 490, 497, 504, 511, 518, 525, 532, 539, 546, 553, 560, 567, 574, 581, 588, 595, 602, 609, 616, 623, 630, 637, 644, 651, 658, 665, 672, 679, 686, 693, 700, 707, 714, 721, 728, 735, 742, 749, 756, 763, 770, 777, 784, 791, 798, 805, 812, 819, 826, 833, 840, 847, 854, 861, 868, 875, 882, 889, 896, 903, 910, 917, 924, 931, 938, 945, 952, 959, 966, 973, 980, 987, 994]\n"
          ]
        }
      ]
    },
    {
      "cell_type": "markdown",
      "source": [
        "### Q) In a list store the square of the numbers between 1 and 500 only if the number is divisible by 3 and 5 both"
      ],
      "metadata": {
        "id": "uwQx7EsKY54F"
      }
    },
    {
      "cell_type": "code",
      "source": [
        "lst = []\n",
        "\n",
        "for i in range(1,501):\n",
        "  if (i % 3 ==0) and (i % 5 ==0):\n",
        "    lst.append(i**2)\n",
        "\n",
        "print(lst)"
      ],
      "metadata": {
        "colab": {
          "base_uri": "https://localhost:8080/"
        },
        "id": "DhMg624HZCiD",
        "outputId": "9434948e-042b-4857-ccbb-a9a40e12f75f"
      },
      "execution_count": null,
      "outputs": [
        {
          "output_type": "stream",
          "name": "stdout",
          "text": [
            "[225, 900, 2025, 3600, 5625, 8100, 11025, 14400, 18225, 22500, 27225, 32400, 38025, 44100, 50625, 57600, 65025, 72900, 81225, 90000, 99225, 108900, 119025, 129600, 140625, 152100, 164025, 176400, 189225, 202500, 216225, 230400, 245025]\n"
          ]
        }
      ]
    },
    {
      "cell_type": "code",
      "source": [
        "print(lst)"
      ],
      "metadata": {
        "colab": {
          "base_uri": "https://localhost:8080/"
        },
        "id": "NDi0y0VTbsHb",
        "outputId": "4fb0c37c-7bc7-4f96-9b32-393aa4b8e6a4"
      },
      "execution_count": null,
      "outputs": [
        {
          "output_type": "stream",
          "name": "stdout",
          "text": [
            "[225, 900, 2025, 3600, 5625, 8100, 11025, 14400, 18225, 22500, 27225, 32400, 38025, 44100, 50625, 57600, 65025, 72900, 81225, 90000, 99225, 108900, 119025, 129600, 140625, 152100, 164025, 176400, 189225, 202500, 216225, 230400, 245025]\n"
          ]
        }
      ]
    },
    {
      "cell_type": "code",
      "source": [
        "lst = [1,2,4,5,6]"
      ],
      "metadata": {
        "id": "g-6uqxa_bxwx"
      },
      "execution_count": null,
      "outputs": []
    },
    {
      "cell_type": "code",
      "source": [
        "print(lst)"
      ],
      "metadata": {
        "colab": {
          "base_uri": "https://localhost:8080/"
        },
        "id": "6cM95Rr8b2B5",
        "outputId": "3f856653-c5ad-4904-8de0-36e6fb9ce41f"
      },
      "execution_count": null,
      "outputs": [
        {
          "output_type": "stream",
          "name": "stdout",
          "text": [
            "[1, 2, 4, 5, 6]\n"
          ]
        }
      ]
    },
    {
      "cell_type": "code",
      "source": [
        "lst[3] = 'Harsh'\n",
        "print(lst)"
      ],
      "metadata": {
        "colab": {
          "base_uri": "https://localhost:8080/"
        },
        "id": "8_pNAw-gb3_f",
        "outputId": "66cbee74-f4e9-4d1b-e1cf-e7d30bbee89c"
      },
      "execution_count": null,
      "outputs": [
        {
          "output_type": "stream",
          "name": "stdout",
          "text": [
            "[1, 2, 4, 'Harsh', 6]\n"
          ]
        }
      ]
    },
    {
      "cell_type": "code",
      "source": [
        "name = ['Harsh','Vikas','Vinit','Rohit','Vimal']"
      ],
      "metadata": {
        "id": "PAu0vijIb5ZX"
      },
      "execution_count": null,
      "outputs": []
    },
    {
      "cell_type": "markdown",
      "source": [
        "### Q) In this above list tell me if the name Vinit exists, if yes print Present Else print Not Present"
      ],
      "metadata": {
        "id": "J2viSljocNY6"
      }
    },
    {
      "cell_type": "code",
      "source": [
        "flag = False\n",
        "\n",
        "for i in name:\n",
        "  if i == 'Vinit':\n",
        "    flag = True\n",
        "\n",
        "if flag:\n",
        "  print('Present')\n",
        "else:\n",
        "  print('Not present')"
      ],
      "metadata": {
        "colab": {
          "base_uri": "https://localhost:8080/"
        },
        "id": "9j51AlSycMGN",
        "outputId": "74127682-316a-4bb4-8998-b9a7433d95b6"
      },
      "execution_count": null,
      "outputs": [
        {
          "output_type": "stream",
          "name": "stdout",
          "text": [
            "Present\n"
          ]
        }
      ]
    },
    {
      "cell_type": "code",
      "source": [
        "city[1:4:2]"
      ],
      "metadata": {
        "colab": {
          "base_uri": "https://localhost:8080/"
        },
        "id": "gT8dMCBB_L2Z",
        "outputId": "a4a6d437-a197-44be-b38b-bfa86fff9181"
      },
      "execution_count": null,
      "outputs": [
        {
          "output_type": "execute_result",
          "data": {
            "text/plain": [
              "['Noida', 'Bangalore']"
            ]
          },
          "metadata": {},
          "execution_count": 6
        }
      ]
    },
    {
      "cell_type": "code",
      "source": [
        "city[::-2]"
      ],
      "metadata": {
        "colab": {
          "base_uri": "https://localhost:8080/"
        },
        "id": "5b0jMQYf_dxe",
        "outputId": "69824741-7e7d-4ef5-cc04-7c88e9ebde13"
      },
      "execution_count": null,
      "outputs": [
        {
          "output_type": "execute_result",
          "data": {
            "text/plain": [
              "['Pune', 'Kolkata', 'Delhi']"
            ]
          },
          "metadata": {},
          "execution_count": 8
        }
      ]
    },
    {
      "cell_type": "code",
      "source": [
        "city = ['Delhi','Noida','Kolkata','Bangalore','Pune']"
      ],
      "metadata": {
        "id": "la3w9M5Gewfd"
      },
      "execution_count": null,
      "outputs": []
    },
    {
      "cell_type": "code",
      "source": [
        "city.insert(1,'Lucknow')\n",
        "print(city)"
      ],
      "metadata": {
        "colab": {
          "base_uri": "https://localhost:8080/"
        },
        "id": "93qu22ZqhKx7",
        "outputId": "c1d4eae2-5768-466f-ac3a-2c8a503172be"
      },
      "execution_count": null,
      "outputs": [
        {
          "output_type": "stream",
          "name": "stdout",
          "text": [
            "['Lucknow']\n"
          ]
        }
      ]
    },
    {
      "cell_type": "code",
      "source": [
        "city.reverse()\n",
        "print(city)"
      ],
      "metadata": {
        "colab": {
          "base_uri": "https://localhost:8080/"
        },
        "id": "ACB2dRb0iU0S",
        "outputId": "7ddac1ee-c205-4f9d-8757-d1f8d7418856"
      },
      "execution_count": null,
      "outputs": [
        {
          "output_type": "stream",
          "name": "stdout",
          "text": [
            "['Pune', 'Bangalore', 'Kolkata', 'Noida', 'Delhi']\n"
          ]
        }
      ]
    },
    {
      "cell_type": "code",
      "source": [
        "popped_value = city.pop()\n",
        "print(popped_value)\n",
        "print(city)"
      ],
      "metadata": {
        "colab": {
          "base_uri": "https://localhost:8080/",
          "height": 176
        },
        "id": "1-QFu5rSh9th",
        "outputId": "3998ff70-b8c1-4686-ab07-5eeeed04d5e8"
      },
      "execution_count": null,
      "outputs": [
        {
          "output_type": "error",
          "ename": "IndexError",
          "evalue": "pop from empty list",
          "traceback": [
            "\u001b[0;31m---------------------------------------------------------------------------\u001b[0m",
            "\u001b[0;31mIndexError\u001b[0m                                Traceback (most recent call last)",
            "\u001b[0;32m/tmp/ipython-input-54-2904979485.py\u001b[0m in \u001b[0;36m<cell line: 0>\u001b[0;34m()\u001b[0m\n\u001b[0;32m----> 1\u001b[0;31m \u001b[0mpopped_value\u001b[0m \u001b[0;34m=\u001b[0m \u001b[0mcity\u001b[0m\u001b[0;34m.\u001b[0m\u001b[0mpop\u001b[0m\u001b[0;34m(\u001b[0m\u001b[0;34m)\u001b[0m\u001b[0;34m\u001b[0m\u001b[0;34m\u001b[0m\u001b[0m\n\u001b[0m\u001b[1;32m      2\u001b[0m \u001b[0mprint\u001b[0m\u001b[0;34m(\u001b[0m\u001b[0mpopped_value\u001b[0m\u001b[0;34m)\u001b[0m\u001b[0;34m\u001b[0m\u001b[0;34m\u001b[0m\u001b[0m\n\u001b[1;32m      3\u001b[0m \u001b[0mprint\u001b[0m\u001b[0;34m(\u001b[0m\u001b[0mcity\u001b[0m\u001b[0;34m)\u001b[0m\u001b[0;34m\u001b[0m\u001b[0;34m\u001b[0m\u001b[0m\n",
            "\u001b[0;31mIndexError\u001b[0m: pop from empty list"
          ]
        }
      ]
    },
    {
      "cell_type": "code",
      "source": [
        "print(city)"
      ],
      "metadata": {
        "colab": {
          "base_uri": "https://localhost:8080/"
        },
        "id": "wZyuTFNKioBZ",
        "outputId": "c3a4c182-15ea-428c-d404-dfeb4a9431d4"
      },
      "execution_count": null,
      "outputs": [
        {
          "output_type": "stream",
          "name": "stdout",
          "text": [
            "['Pune', 'Bangalore', 'Kolkata', 'Noida', 'Delhi']\n"
          ]
        }
      ]
    },
    {
      "cell_type": "code",
      "source": [
        "city[::-1]"
      ],
      "metadata": {
        "colab": {
          "base_uri": "https://localhost:8080/"
        },
        "id": "LryROl11jQbc",
        "outputId": "3c051351-8f85-4a44-9f1e-3a80936503eb"
      },
      "execution_count": null,
      "outputs": [
        {
          "output_type": "execute_result",
          "data": {
            "text/plain": [
              "['Delhi', 'Noida', 'Kolkata', 'Bangalore', 'Pune']"
            ]
          },
          "metadata": {},
          "execution_count": 67
        }
      ]
    },
    {
      "cell_type": "code",
      "source": [
        "city[1:5:2]"
      ],
      "metadata": {
        "colab": {
          "base_uri": "https://localhost:8080/"
        },
        "id": "mknp-42diqun",
        "outputId": "103bd4ad-97b1-41c4-860c-d11b29fd781f"
      },
      "execution_count": null,
      "outputs": [
        {
          "output_type": "execute_result",
          "data": {
            "text/plain": [
              "['Bangalore', 'Noida']"
            ]
          },
          "metadata": {},
          "execution_count": 65
        }
      ]
    },
    {
      "cell_type": "code",
      "source": [
        "city[0:6:2]"
      ],
      "metadata": {
        "colab": {
          "base_uri": "https://localhost:8080/"
        },
        "id": "ZXhctNATixC0",
        "outputId": "1291f3ad-883b-49d0-96a9-f0bbab8b543b"
      },
      "execution_count": null,
      "outputs": [
        {
          "output_type": "execute_result",
          "data": {
            "text/plain": [
              "['Pune', 'Kolkata', 'Delhi']"
            ]
          },
          "metadata": {},
          "execution_count": 66
        }
      ]
    },
    {
      "cell_type": "markdown",
      "source": [
        "## List Comprehension"
      ],
      "metadata": {
        "id": "RzyQ_G1hjkb6"
      }
    },
    {
      "cell_type": "markdown",
      "source": [
        "* Basics Syantax [expression for item in iterable]\n",
        "\n",
        "* with conditional logic [expression for item in iterable if condition]\n",
        "\n",
        "* Nested List Comprehension [expression for item1 in iterable1 for item2 in iterable2]\n"
      ],
      "metadata": {
        "id": "QgsE6X-tjpzK"
      }
    },
    {
      "cell_type": "code",
      "source": [
        "lst = []\n",
        "\n",
        "for i in range(1,6):\n",
        "  lst.append(i**2)\n",
        "\n",
        "print(lst)"
      ],
      "metadata": {
        "colab": {
          "base_uri": "https://localhost:8080/"
        },
        "id": "VCG4Z1PZjMtT",
        "outputId": "e667c201-96f7-4989-9ed3-521a1db65407"
      },
      "execution_count": null,
      "outputs": [
        {
          "output_type": "stream",
          "name": "stdout",
          "text": [
            "[1, 4, 9, 16, 25]\n"
          ]
        }
      ]
    },
    {
      "cell_type": "code",
      "source": [
        "[i**2 for i in range(1,6)]"
      ],
      "metadata": {
        "colab": {
          "base_uri": "https://localhost:8080/"
        },
        "id": "wyd_EvZ8j5P6",
        "outputId": "314bb246-d225-471d-e745-16f2be1656c2"
      },
      "execution_count": null,
      "outputs": [
        {
          "output_type": "execute_result",
          "data": {
            "text/plain": [
              "[1, 4, 9, 16, 25]"
            ]
          },
          "metadata": {},
          "execution_count": 73
        }
      ]
    },
    {
      "cell_type": "code",
      "source": [
        "[i for i in range(1,11) if i % 2 == 0]"
      ],
      "metadata": {
        "colab": {
          "base_uri": "https://localhost:8080/"
        },
        "id": "RmRxyoE2_2my",
        "outputId": "6fd94581-69f9-4d5f-b6dc-5beb3c5e6631"
      },
      "execution_count": null,
      "outputs": [
        {
          "output_type": "execute_result",
          "data": {
            "text/plain": [
              "[2, 4, 6, 8, 10]"
            ]
          },
          "metadata": {},
          "execution_count": 9
        }
      ]
    },
    {
      "cell_type": "code",
      "source": [
        "lst = []\n",
        "\n",
        "for i in range(1,11):\n",
        "  if i % 2 == 0:\n",
        "    lst.append(i)\n",
        "\n",
        "print(lst)"
      ],
      "metadata": {
        "colab": {
          "base_uri": "https://localhost:8080/"
        },
        "id": "adiIoW8BkFrZ",
        "outputId": "3f1e0b7a-6636-44f4-f5be-a8484595c199"
      },
      "execution_count": null,
      "outputs": [
        {
          "output_type": "stream",
          "name": "stdout",
          "text": [
            "[2, 4, 6, 8, 10]\n"
          ]
        }
      ]
    },
    {
      "cell_type": "code",
      "source": [
        "[i for i in range(1,11) if i % 2 == 0]"
      ],
      "metadata": {
        "colab": {
          "base_uri": "https://localhost:8080/"
        },
        "id": "6M1v_nW0l1ml",
        "outputId": "adf210cd-d3dc-46d2-f710-8418a7d76d3b"
      },
      "execution_count": null,
      "outputs": [
        {
          "output_type": "execute_result",
          "data": {
            "text/plain": [
              "[2, 4, 6, 8, 10]"
            ]
          },
          "metadata": {},
          "execution_count": 75
        }
      ]
    },
    {
      "cell_type": "code",
      "source": [
        "lst = []\n",
        "\n",
        "for i in range(1,6):\n",
        "  for j in range(1,6):\n",
        "    lst.append((i,j))\n",
        "\n",
        "print(lst)"
      ],
      "metadata": {
        "colab": {
          "base_uri": "https://localhost:8080/"
        },
        "id": "kEpDOwyumCuk",
        "outputId": "5725cf93-87c2-44b4-ebce-9f93aa1d148c"
      },
      "execution_count": null,
      "outputs": [
        {
          "output_type": "stream",
          "name": "stdout",
          "text": [
            "[(1, 1), (1, 2), (1, 3), (1, 4), (1, 5), (2, 1), (2, 2), (2, 3), (2, 4), (2, 5), (3, 1), (3, 2), (3, 3), (3, 4), (3, 5), (4, 1), (4, 2), (4, 3), (4, 4), (4, 5), (5, 1), (5, 2), (5, 3), (5, 4), (5, 5)]\n"
          ]
        }
      ]
    },
    {
      "cell_type": "code",
      "source": [
        "name = [(i,j) for i in range(1,6) for j in range(1,6)]\n",
        "print(name)"
      ],
      "metadata": {
        "colab": {
          "base_uri": "https://localhost:8080/"
        },
        "id": "kWP1dv5cm68z",
        "outputId": "078a7674-00dd-4be6-b6c6-3758d96daeef"
      },
      "execution_count": null,
      "outputs": [
        {
          "output_type": "stream",
          "name": "stdout",
          "text": [
            "[(1, 1), (1, 2), (1, 3), (1, 4), (1, 5), (2, 1), (2, 2), (2, 3), (2, 4), (2, 5), (3, 1), (3, 2), (3, 3), (3, 4), (3, 5), (4, 1), (4, 2), (4, 3), (4, 4), (4, 5), (5, 1), (5, 2), (5, 3), (5, 4), (5, 5)]\n"
          ]
        }
      ]
    },
    {
      "cell_type": "markdown",
      "source": [
        "## Q) Find if a name is Palindrome or not"
      ],
      "metadata": {
        "id": "CgIqV-08BGa2"
      }
    },
    {
      "cell_type": "code",
      "source": [
        "st = input(\"GIve Name \").lower()\n",
        "\n",
        "if st == st[::-1]:\n",
        "  print('Palindrome')\n",
        "else:\n",
        "  print(\"Not\")"
      ],
      "metadata": {
        "colab": {
          "base_uri": "https://localhost:8080/"
        },
        "id": "goACOBb7BKab",
        "outputId": "e26ffc25-c3ab-41c2-e928-dc46d0ec2df2"
      },
      "execution_count": null,
      "outputs": [
        {
          "output_type": "stream",
          "name": "stdout",
          "text": [
            "GIve Name Naman\n",
            "Palindrome\n"
          ]
        }
      ]
    },
    {
      "cell_type": "markdown",
      "source": [
        "## Find prime numbers between 1 and 100"
      ],
      "metadata": {
        "id": "D14QLON_AIfm"
      }
    },
    {
      "cell_type": "code",
      "source": [
        "isprime = False\n",
        "for i in range(2,101):\n",
        "  isprime = True\n",
        "  for j in range(2,i):\n",
        "    if i % j == 0:\n",
        "      isprime = False\n",
        "      break\n",
        "\n",
        "  if isprime:\n",
        "    print(i)"
      ],
      "metadata": {
        "id": "1aP1eFwknEL3",
        "colab": {
          "base_uri": "https://localhost:8080/"
        },
        "outputId": "d56ebf75-baa2-4bdf-8be6-b370a48a8e2d"
      },
      "execution_count": null,
      "outputs": [
        {
          "output_type": "stream",
          "name": "stdout",
          "text": [
            "2\n",
            "3\n",
            "5\n",
            "7\n",
            "11\n",
            "13\n",
            "17\n",
            "19\n",
            "23\n",
            "29\n",
            "31\n",
            "37\n",
            "41\n",
            "43\n",
            "47\n",
            "53\n",
            "59\n",
            "61\n",
            "67\n",
            "71\n",
            "73\n",
            "79\n",
            "83\n",
            "89\n",
            "97\n"
          ]
        }
      ]
    },
    {
      "cell_type": "markdown",
      "source": [
        "## Find First 25 prime numbers between the values 1 and 100000"
      ],
      "metadata": {
        "id": "-Z58p88PJork"
      }
    },
    {
      "cell_type": "code",
      "source": [
        "counter = 0\n",
        "isprime = False\n",
        "for i in range(2,100001):\n",
        "  isprime = True\n",
        "  for j in range(2,i):\n",
        "    if i % j == 0:\n",
        "      isprime = False\n",
        "      break\n",
        "\n",
        "  if isprime:\n",
        "    print(i)\n",
        "    counter += 1\n",
        "    if counter == 26:\n",
        "      break"
      ],
      "metadata": {
        "colab": {
          "base_uri": "https://localhost:8080/"
        },
        "id": "XkcMmPj2IYrO",
        "outputId": "fa0b81f1-a821-4b29-a525-11191d3d8d94"
      },
      "execution_count": null,
      "outputs": [
        {
          "output_type": "stream",
          "name": "stdout",
          "text": [
            "2\n",
            "3\n",
            "5\n",
            "7\n",
            "11\n",
            "13\n",
            "17\n",
            "19\n",
            "23\n",
            "29\n",
            "31\n",
            "37\n",
            "41\n",
            "43\n",
            "47\n",
            "53\n",
            "59\n",
            "61\n",
            "67\n",
            "71\n",
            "73\n",
            "79\n",
            "83\n",
            "89\n",
            "97\n",
            "101\n"
          ]
        }
      ]
    },
    {
      "cell_type": "code",
      "source": [
        "lst = [1,2,3,4,5,6]"
      ],
      "metadata": {
        "id": "Zbh5ROb9NLL1"
      },
      "execution_count": null,
      "outputs": []
    },
    {
      "cell_type": "code",
      "source": [
        "print(lst)"
      ],
      "metadata": {
        "colab": {
          "base_uri": "https://localhost:8080/"
        },
        "id": "CbSKYEZaOYaL",
        "outputId": "86b88433-18e7-4528-ac0e-9a3bd415807a"
      },
      "execution_count": null,
      "outputs": [
        {
          "output_type": "stream",
          "name": "stdout",
          "text": [
            "[1, 2, 3, 4, 5, 6]\n"
          ]
        }
      ]
    },
    {
      "cell_type": "code",
      "source": [
        "print(lst[4])"
      ],
      "metadata": {
        "colab": {
          "base_uri": "https://localhost:8080/"
        },
        "id": "8VSc9tJbOZJ8",
        "outputId": "ce45147e-8338-447f-fd66-aa5611e1918d"
      },
      "execution_count": null,
      "outputs": [
        {
          "output_type": "stream",
          "name": "stdout",
          "text": [
            "5\n"
          ]
        }
      ]
    },
    {
      "cell_type": "code",
      "source": [
        "lst = [[1,2,3],\n",
        "       [4,5,6],\n",
        "       [7,8,9]]\n",
        "print(lst)"
      ],
      "metadata": {
        "colab": {
          "base_uri": "https://localhost:8080/"
        },
        "id": "W_GG63ixOcVz",
        "outputId": "05772ebc-f9b0-4e0a-b131-01b631a24d83"
      },
      "execution_count": null,
      "outputs": [
        {
          "output_type": "stream",
          "name": "stdout",
          "text": [
            "[[1, 2, 3], [4, 5, 6], [7, 8, 9]]\n"
          ]
        }
      ]
    },
    {
      "cell_type": "code",
      "source": [
        "lst[2][1]"
      ],
      "metadata": {
        "colab": {
          "base_uri": "https://localhost:8080/"
        },
        "id": "uBiYAz44OkxV",
        "outputId": "4e3ea555-ee4d-4053-a76f-c3fcec8b08f7"
      },
      "execution_count": null,
      "outputs": [
        {
          "output_type": "execute_result",
          "data": {
            "text/plain": [
              "8"
            ]
          },
          "metadata": {},
          "execution_count": 35
        }
      ]
    },
    {
      "cell_type": "code",
      "source": [
        "lst = [[1,[1,2]],[2,[2,3]],[4,[3,4]]]"
      ],
      "metadata": {
        "id": "IjIuhm7SOphj"
      },
      "execution_count": null,
      "outputs": []
    },
    {
      "cell_type": "code",
      "source": [
        "lst = [[2,3,4],[4,6,[[[7,8]]],9]]"
      ],
      "metadata": {
        "id": "N3Q6YjUcPKfj"
      },
      "execution_count": null,
      "outputs": []
    },
    {
      "cell_type": "code",
      "source": [
        "lst[1][2][0][0][1]"
      ],
      "metadata": {
        "colab": {
          "base_uri": "https://localhost:8080/"
        },
        "id": "OtCtXTLGPnsK",
        "outputId": "07f31755-4892-49f4-8774-dcad55da1146"
      },
      "execution_count": null,
      "outputs": [
        {
          "output_type": "execute_result",
          "data": {
            "text/plain": [
              "8"
            ]
          },
          "metadata": {},
          "execution_count": 46
        }
      ]
    },
    {
      "cell_type": "code",
      "source": [
        "lst = [[23,45,67,56,21],\n",
        "       [75,64,78,20,19],\n",
        "       [35,71,34,7,2],\n",
        "       [34,78,11,23,45],\n",
        "       [24,78,90,11,2]]"
      ],
      "metadata": {
        "id": "xaI5lqktPqcn"
      },
      "execution_count": null,
      "outputs": []
    },
    {
      "cell_type": "markdown",
      "source": [
        "## Q) Find Average marks by students"
      ],
      "metadata": {
        "id": "V9CW-grhSsJz"
      }
    },
    {
      "cell_type": "code",
      "source": [
        "marks = [23,45,67,23,68]"
      ],
      "metadata": {
        "id": "UgHTePEbQg-_"
      },
      "execution_count": null,
      "outputs": []
    },
    {
      "cell_type": "code",
      "source": [
        "sum = 0\n",
        "for i in range(0,len(marks)):\n",
        "  sum = sum + marks[i]\n",
        "avg = sum / len(marks)\n",
        "print(avg)"
      ],
      "metadata": {
        "colab": {
          "base_uri": "https://localhost:8080/"
        },
        "id": "YVQU7at3QjnH",
        "outputId": "e908f202-6c0c-4fcd-c255-4ee49735fd8b"
      },
      "execution_count": null,
      "outputs": [
        {
          "output_type": "stream",
          "name": "stdout",
          "text": [
            "45.2\n"
          ]
        }
      ]
    },
    {
      "cell_type": "markdown",
      "source": [
        "## Q) Print it in this manner"
      ],
      "metadata": {
        "id": "dnJBrzhhVGt6"
      }
    },
    {
      "cell_type": "code",
      "source": [
        "'''\n",
        "A 23 FAIL\n",
        "B 45 PASS\n",
        "'''"
      ],
      "metadata": {
        "id": "0bJAXchbVUps"
      },
      "execution_count": null,
      "outputs": []
    },
    {
      "cell_type": "code",
      "source": [
        "marks = [23,45,67,23,68]\n",
        "name = ['A','B','C','D','E']"
      ],
      "metadata": {
        "id": "P22gv4JEVGNa"
      },
      "execution_count": null,
      "outputs": []
    },
    {
      "cell_type": "code",
      "source": [
        "for i in range(len(marks)):\n",
        "  if marks[i] >= 40:\n",
        "    print(f\"{name[i]} {marks[i]} PASS\")\n",
        "  else:\n",
        "    print(f\"{name[i]} {marks[i]} FAIL\")"
      ],
      "metadata": {
        "colab": {
          "base_uri": "https://localhost:8080/"
        },
        "id": "zBPK7637UAD_",
        "outputId": "96ce7434-426e-4797-c9c5-7ec1462a9cd3"
      },
      "execution_count": null,
      "outputs": [
        {
          "output_type": "stream",
          "name": "stdout",
          "text": [
            "A 23 FAIL\n",
            "B 45 PASS\n",
            "C 67 PASS\n",
            "D 23 FAIL\n",
            "E 68 PASS\n"
          ]
        }
      ]
    },
    {
      "cell_type": "code",
      "source": [
        "'''\n",
        "90 - 100 -> A+\n",
        "80 - 90 -> B+\n",
        "70 - 80 -> C+\n",
        "60 - 79 -> D+\n",
        "50 - 60 -> E+\n",
        "else F-\n",
        "'''"
      ],
      "metadata": {
        "id": "hYfmKC7yYom2"
      },
      "execution_count": null,
      "outputs": []
    },
    {
      "cell_type": "code",
      "source": [
        "for i in range(len(marks)):\n",
        "  if marks[i] >= 90:\n",
        "    print(f\"{name[i]} {marks[i]} A+\")\n",
        "  elif marks[i] >= 80:\n",
        "    print(f\"{name[i]} {marks[i]} B+\")\n",
        "  elif marks[i] >= 70:\n",
        "    print(f\"{name[i]} {marks[i]} C+\")\n",
        "  elif marks[i] >= 60:\n",
        "    print(f\"{name[i]} {marks[i]} D+\")\n",
        "  elif marks[i] >= 50:\n",
        "    print(f\"{name[i]} {marks[i]} E+\")\n",
        "  else:\n",
        "    print(f\"{name[i]} {marks[i]} F-\")"
      ],
      "metadata": {
        "colab": {
          "base_uri": "https://localhost:8080/"
        },
        "id": "mM_Lky_hbDh3",
        "outputId": "5a83c37f-3cf0-4a3b-fd88-734216291485"
      },
      "execution_count": null,
      "outputs": [
        {
          "output_type": "stream",
          "name": "stdout",
          "text": [
            "A 23 F-\n",
            "B 45 F-\n",
            "C 67 D+\n",
            "D 23 F-\n",
            "E 68 D+\n"
          ]
        }
      ]
    },
    {
      "cell_type": "markdown",
      "source": [
        "## Q) Find the sum of Diagonals"
      ],
      "metadata": {
        "id": "PudQ7NWZbh91"
      }
    },
    {
      "cell_type": "code",
      "source": [
        "lst = [[23,45,67,56,21],\n",
        "       [75,64,78,20,19],\n",
        "       [35,71,34,7,2],\n",
        "       [34,78,11,23,45],\n",
        "       [24,78,90,11,2]]"
      ],
      "metadata": {
        "id": "wyiVb0jIbhBw"
      },
      "execution_count": null,
      "outputs": []
    },
    {
      "cell_type": "code",
      "source": [
        "diagonal_1_sum = 0\n",
        "diagonal_2_sum = 0\n",
        "\n",
        "for i in range(len(lst)):\n",
        "  diagonal_1_sum = diagonal_1_sum + lst[i][i]\n",
        "  diagonal_2_sum = diagonal_2_sum + lst[i][len(lst)-(i+1)]\n",
        "\n",
        "print(diagonal_1_sum)\n",
        "print(diagonal_2_sum)"
      ],
      "metadata": {
        "colab": {
          "base_uri": "https://localhost:8080/"
        },
        "id": "rcBDYw-SdIeT",
        "outputId": "e2b0480b-06ec-4752-c60b-a1bc74b96b29"
      },
      "execution_count": null,
      "outputs": [
        {
          "output_type": "stream",
          "name": "stdout",
          "text": [
            "146\n",
            "177\n"
          ]
        }
      ]
    },
    {
      "cell_type": "code",
      "source": [
        "lst = [[23,45,67,56,21],\n",
        "       [75,64,78,20,19],\n",
        "       [35,71,34,7,2],\n",
        "       [34,78,11,23,45],\n",
        "       [24,78,90,11,2]]"
      ],
      "metadata": {
        "id": "ieKObAjaKGzM"
      },
      "execution_count": null,
      "outputs": []
    },
    {
      "cell_type": "code",
      "source": [
        "diagonal_1_sum = 0\n",
        "diagonal_2_sum = 0\n",
        "\n",
        "for i in range(len(lst)):\n",
        "  for j in range(len(lst)):\n",
        "    if i == j:\n",
        "      diagonal_1_sum = diagonal_1_sum + lst[i][j]\n",
        "\n",
        "\n",
        "for i in range(len(lst)):\n",
        "  for j in range(len(lst)):\n",
        "    if i + j == (len(lst) - 1):\n",
        "      diagonal_2_sum = diagonal_2_sum + lst[i][j]\n",
        "\n",
        "\n",
        "print(diagonal_1_sum)\n",
        "print(diagonal_2_sum)"
      ],
      "metadata": {
        "colab": {
          "base_uri": "https://localhost:8080/"
        },
        "id": "P4bN3KAneZjK",
        "outputId": "41fd3aea-106d-4759-aca3-aa8e8ec703d7"
      },
      "execution_count": null,
      "outputs": [
        {
          "output_type": "stream",
          "name": "stdout",
          "text": [
            "146\n",
            "177\n"
          ]
        }
      ]
    },
    {
      "cell_type": "code",
      "source": [
        "'''\n",
        "Report Card\n",
        "\n",
        "A 23 B+\n",
        "B 23 C-\n",
        "\n",
        "'''"
      ],
      "metadata": {
        "id": "awtFADvcYcy0"
      },
      "execution_count": null,
      "outputs": []
    },
    {
      "cell_type": "markdown",
      "source": [
        "# Tuple"
      ],
      "metadata": {
        "id": "-NuuTKZ6J9VS"
      }
    },
    {
      "cell_type": "code",
      "source": [
        "lst = []\n",
        "lst = list()"
      ],
      "metadata": {
        "id": "tVL7IKa5LSy2"
      },
      "execution_count": null,
      "outputs": []
    },
    {
      "cell_type": "code",
      "source": [
        "tup = tuple()\n",
        "print(tup)\n",
        "print(type(tup))"
      ],
      "metadata": {
        "colab": {
          "base_uri": "https://localhost:8080/"
        },
        "id": "kBoBg_LZLLWb",
        "outputId": "8b146557-647e-4a5d-83a5-12f90fa5c36e"
      },
      "execution_count": null,
      "outputs": [
        {
          "output_type": "stream",
          "name": "stdout",
          "text": [
            "()\n",
            "<class 'tuple'>\n"
          ]
        }
      ]
    },
    {
      "cell_type": "code",
      "source": [
        "tup = ()\n",
        "print(tup)\n",
        "print(type(tup))"
      ],
      "metadata": {
        "id": "kaVgJyTwYZk7",
        "colab": {
          "base_uri": "https://localhost:8080/"
        },
        "outputId": "25fe197b-6af4-4c30-f0ec-ac10feca4973"
      },
      "execution_count": null,
      "outputs": [
        {
          "output_type": "stream",
          "name": "stdout",
          "text": [
            "()\n",
            "<class 'tuple'>\n"
          ]
        }
      ]
    },
    {
      "cell_type": "code",
      "source": [
        "tup = (1,2,3,\"Harsh\",True,23.34)\n",
        "print(tup)"
      ],
      "metadata": {
        "colab": {
          "base_uri": "https://localhost:8080/"
        },
        "id": "fSwuhIiYLE3r",
        "outputId": "f1a6d871-9257-496a-df46-a10ecd61769e"
      },
      "execution_count": null,
      "outputs": [
        {
          "output_type": "stream",
          "name": "stdout",
          "text": [
            "(1, 2, 3, 'Harsh', True, 23.34)\n"
          ]
        }
      ]
    },
    {
      "cell_type": "code",
      "source": [
        "tup[1:4]"
      ],
      "metadata": {
        "colab": {
          "base_uri": "https://localhost:8080/"
        },
        "id": "nBXPFQ4zLxin",
        "outputId": "952f5e95-6cb5-4c58-9f24-b13508bbe902"
      },
      "execution_count": null,
      "outputs": [
        {
          "output_type": "execute_result",
          "data": {
            "text/plain": [
              "(2, 3, 'Harsh')"
            ]
          },
          "metadata": {},
          "execution_count": 7
        }
      ]
    },
    {
      "cell_type": "code",
      "source": [
        "tup[3] = 'Vikas'"
      ],
      "metadata": {
        "colab": {
          "base_uri": "https://localhost:8080/",
          "height": 141
        },
        "id": "JH2Pw1MqL4yG",
        "outputId": "2b94a750-46c1-48f2-d7d7-2c6474837c29"
      },
      "execution_count": null,
      "outputs": [
        {
          "output_type": "error",
          "ename": "TypeError",
          "evalue": "'tuple' object does not support item assignment",
          "traceback": [
            "\u001b[0;31m---------------------------------------------------------------------------\u001b[0m",
            "\u001b[0;31mTypeError\u001b[0m                                 Traceback (most recent call last)",
            "\u001b[0;32m/tmp/ipython-input-8-1918670203.py\u001b[0m in \u001b[0;36m<cell line: 0>\u001b[0;34m()\u001b[0m\n\u001b[0;32m----> 1\u001b[0;31m \u001b[0mtup\u001b[0m\u001b[0;34m[\u001b[0m\u001b[0;36m3\u001b[0m\u001b[0;34m]\u001b[0m \u001b[0;34m=\u001b[0m \u001b[0;34m'Vikas'\u001b[0m\u001b[0;34m\u001b[0m\u001b[0;34m\u001b[0m\u001b[0m\n\u001b[0m",
            "\u001b[0;31mTypeError\u001b[0m: 'tuple' object does not support item assignment"
          ]
        }
      ]
    },
    {
      "cell_type": "code",
      "source": [
        "tup = list(tup)"
      ],
      "metadata": {
        "id": "i4aaOOf5MAEM"
      },
      "execution_count": null,
      "outputs": []
    },
    {
      "cell_type": "code",
      "source": [
        "tup"
      ],
      "metadata": {
        "colab": {
          "base_uri": "https://localhost:8080/"
        },
        "id": "eLRNVR3tMFj1",
        "outputId": "94a2d6d1-9f80-4edf-8b18-fc87f0570f51"
      },
      "execution_count": null,
      "outputs": [
        {
          "output_type": "execute_result",
          "data": {
            "text/plain": [
              "[1, 2, 3, 'Harsh', True, 23.34]"
            ]
          },
          "metadata": {},
          "execution_count": 11
        }
      ]
    },
    {
      "cell_type": "code",
      "source": [
        "tup[3] = 'Vikas'"
      ],
      "metadata": {
        "id": "IRPkB6pxMRRq"
      },
      "execution_count": null,
      "outputs": []
    },
    {
      "cell_type": "code",
      "source": [
        "tup"
      ],
      "metadata": {
        "colab": {
          "base_uri": "https://localhost:8080/"
        },
        "id": "C2fhFK8vMUm6",
        "outputId": "1113413e-3a05-49df-f62a-06fbb08ee49a"
      },
      "execution_count": null,
      "outputs": [
        {
          "output_type": "execute_result",
          "data": {
            "text/plain": [
              "[1, 2, 3, 'Vikas', True, 23.34]"
            ]
          },
          "metadata": {},
          "execution_count": 13
        }
      ]
    },
    {
      "cell_type": "code",
      "source": [
        "tup = tuple(tup)"
      ],
      "metadata": {
        "id": "IsRS7oIhMVhH"
      },
      "execution_count": null,
      "outputs": []
    },
    {
      "cell_type": "code",
      "source": [
        "tup"
      ],
      "metadata": {
        "colab": {
          "base_uri": "https://localhost:8080/"
        },
        "id": "QEtJE6WIMYGO",
        "outputId": "97bb74ed-e27e-4691-f8cf-1aac07c01063"
      },
      "execution_count": null,
      "outputs": [
        {
          "output_type": "execute_result",
          "data": {
            "text/plain": [
              "(1, 2, 3, 'Vikas', True, 23.34)"
            ]
          },
          "metadata": {},
          "execution_count": 15
        }
      ]
    },
    {
      "cell_type": "code",
      "source": [
        "tup = (1,2,3)"
      ],
      "metadata": {
        "id": "SpCY_ZZ-MYiT"
      },
      "execution_count": null,
      "outputs": []
    },
    {
      "cell_type": "code",
      "source": [
        "tup"
      ],
      "metadata": {
        "colab": {
          "base_uri": "https://localhost:8080/"
        },
        "id": "AgkdtVzlMq9Z",
        "outputId": "ba64724e-7d07-4cb5-a78d-3a1f30fed0c6"
      },
      "execution_count": null,
      "outputs": [
        {
          "output_type": "execute_result",
          "data": {
            "text/plain": [
              "(1, 2, 3)"
            ]
          },
          "metadata": {},
          "execution_count": 18
        }
      ]
    },
    {
      "cell_type": "code",
      "source": [
        "a,b,c = tup\n",
        "print(a)\n",
        "print(b)\n",
        "print(c)"
      ],
      "metadata": {
        "colab": {
          "base_uri": "https://localhost:8080/"
        },
        "id": "kPaHC2yBNEiR",
        "outputId": "d1d04015-85a5-4679-8d9e-f7644ff05c0d"
      },
      "execution_count": null,
      "outputs": [
        {
          "output_type": "stream",
          "name": "stdout",
          "text": [
            "1\n",
            "2\n",
            "3\n"
          ]
        }
      ]
    },
    {
      "cell_type": "code",
      "source": [
        "tup = (1,2,3,4,5,6,7,8,9,10)"
      ],
      "metadata": {
        "id": "_uY50sx8NJjw"
      },
      "execution_count": null,
      "outputs": []
    },
    {
      "cell_type": "code",
      "source": [
        "## Unpacking with a *\n",
        "\n",
        "a,*b,c = tup\n",
        "print(a)\n",
        "print(b)\n",
        "print(c)"
      ],
      "metadata": {
        "colab": {
          "base_uri": "https://localhost:8080/"
        },
        "id": "o9TEp3qRNWRH",
        "outputId": "0ff82f97-b75a-4259-d415-1b49e3850210"
      },
      "execution_count": null,
      "outputs": [
        {
          "output_type": "stream",
          "name": "stdout",
          "text": [
            "1\n",
            "[2, 3, 4, 5, 6, 7, 8, 9]\n",
            "10\n"
          ]
        }
      ]
    },
    {
      "cell_type": "code",
      "source": [
        "tup = (1,2,3,[4,5,6],(4,5,6))\n",
        "tup"
      ],
      "metadata": {
        "colab": {
          "base_uri": "https://localhost:8080/"
        },
        "id": "Rscbvi5lNkh6",
        "outputId": "f3d47ce3-c058-4340-ce0b-9abcd733a494"
      },
      "execution_count": null,
      "outputs": [
        {
          "output_type": "execute_result",
          "data": {
            "text/plain": [
              "(1, 2, 3, [4, 5, 6], (4, 5, 6))"
            ]
          },
          "metadata": {},
          "execution_count": 22
        }
      ]
    },
    {
      "cell_type": "code",
      "source": [
        "lst = [1,2,3,([2,3],[5,6])]\n",
        "lst"
      ],
      "metadata": {
        "colab": {
          "base_uri": "https://localhost:8080/"
        },
        "id": "xJOGoFEyPCfX",
        "outputId": "6d53056d-2b6f-4e6d-a489-8103e66fcc38"
      },
      "execution_count": null,
      "outputs": [
        {
          "output_type": "execute_result",
          "data": {
            "text/plain": [
              "[1, 2, 3, ([2, 3], [5, 6])]"
            ]
          },
          "metadata": {},
          "execution_count": 23
        }
      ]
    },
    {
      "cell_type": "markdown",
      "source": [
        "## Q) In a list store elements in tuple format of all possible combinations that you can get when you 2 dice at once"
      ],
      "metadata": {
        "id": "4Vl0hbb9PRxx"
      }
    },
    {
      "cell_type": "markdown",
      "source": [
        "#### Q) Solve this using List Comprehension"
      ],
      "metadata": {
        "id": "BBPpAQaBQMCb"
      }
    },
    {
      "cell_type": "code",
      "source": [
        "lst = []\n",
        "for i in range(1,7):\n",
        "  for j in range(1,7):\n",
        "    lst.append((i,j))\n",
        "\n",
        "print(lst)"
      ],
      "metadata": {
        "colab": {
          "base_uri": "https://localhost:8080/"
        },
        "id": "ny_Zhha_SA5a",
        "outputId": "f485a1f9-d88c-4259-cc38-04727dd0102d"
      },
      "execution_count": null,
      "outputs": [
        {
          "output_type": "stream",
          "name": "stdout",
          "text": [
            "[(1, 1), (1, 2), (1, 3), (1, 4), (1, 5), (1, 6), (2, 1), (2, 2), (2, 3), (2, 4), (2, 5), (2, 6), (3, 1), (3, 2), (3, 3), (3, 4), (3, 5), (3, 6), (4, 1), (4, 2), (4, 3), (4, 4), (4, 5), (4, 6), (5, 1), (5, 2), (5, 3), (5, 4), (5, 5), (5, 6), (6, 1), (6, 2), (6, 3), (6, 4), (6, 5), (6, 6)]\n"
          ]
        }
      ]
    },
    {
      "cell_type": "code",
      "source": [
        "[(i,j) for i in range(1,7) for j in range(1,7)]"
      ],
      "metadata": {
        "colab": {
          "base_uri": "https://localhost:8080/"
        },
        "id": "wZj4vH50SNZe",
        "outputId": "0575592e-3752-4c0d-a6ac-c231ba53f988"
      },
      "execution_count": null,
      "outputs": [
        {
          "output_type": "execute_result",
          "data": {
            "text/plain": [
              "[(1, 1),\n",
              " (1, 2),\n",
              " (1, 3),\n",
              " (1, 4),\n",
              " (1, 5),\n",
              " (1, 6),\n",
              " (2, 1),\n",
              " (2, 2),\n",
              " (2, 3),\n",
              " (2, 4),\n",
              " (2, 5),\n",
              " (2, 6),\n",
              " (3, 1),\n",
              " (3, 2),\n",
              " (3, 3),\n",
              " (3, 4),\n",
              " (3, 5),\n",
              " (3, 6),\n",
              " (4, 1),\n",
              " (4, 2),\n",
              " (4, 3),\n",
              " (4, 4),\n",
              " (4, 5),\n",
              " (4, 6),\n",
              " (5, 1),\n",
              " (5, 2),\n",
              " (5, 3),\n",
              " (5, 4),\n",
              " (5, 5),\n",
              " (5, 6),\n",
              " (6, 1),\n",
              " (6, 2),\n",
              " (6, 3),\n",
              " (6, 4),\n",
              " (6, 5),\n",
              " (6, 6)]"
            ]
          },
          "metadata": {},
          "execution_count": 25
        }
      ]
    },
    {
      "cell_type": "markdown",
      "source": [
        "# Set"
      ],
      "metadata": {
        "id": "JL_7r7ABSxSQ"
      }
    },
    {
      "cell_type": "code",
      "source": [
        "s = {1}\n",
        "print(type(s))"
      ],
      "metadata": {
        "colab": {
          "base_uri": "https://localhost:8080/"
        },
        "id": "WwG8evmfSzZ1",
        "outputId": "0b60300e-f406-4549-cfed-aa6bcb8559c7"
      },
      "execution_count": null,
      "outputs": [
        {
          "output_type": "stream",
          "name": "stdout",
          "text": [
            "<class 'set'>\n"
          ]
        }
      ]
    },
    {
      "cell_type": "code",
      "source": [
        "s = set()\n",
        "print(type(s))"
      ],
      "metadata": {
        "colab": {
          "base_uri": "https://localhost:8080/"
        },
        "id": "GbHhxM-9S6xi",
        "outputId": "53dc4a66-1a24-4c9a-8fff-8224a6bf8704"
      },
      "execution_count": null,
      "outputs": [
        {
          "output_type": "stream",
          "name": "stdout",
          "text": [
            "<class 'set'>\n"
          ]
        }
      ]
    },
    {
      "cell_type": "code",
      "source": [
        "s = {1,2,3,4,5,6}\n",
        "print(s)"
      ],
      "metadata": {
        "colab": {
          "base_uri": "https://localhost:8080/"
        },
        "id": "dI6fo-Y-TPmJ",
        "outputId": "3090ede4-6e20-478d-c214-1cdf9d5d2f69"
      },
      "execution_count": null,
      "outputs": [
        {
          "output_type": "stream",
          "name": "stdout",
          "text": [
            "{1, 2, 3, 4, 5, 6}\n"
          ]
        }
      ]
    },
    {
      "cell_type": "code",
      "source": [
        "s = {1,1,2,3,3,3,3,3,3,3,3,3}\n",
        "for i in s:\n",
        "  print(i)"
      ],
      "metadata": {
        "colab": {
          "base_uri": "https://localhost:8080/"
        },
        "id": "VaWffuv7TZJB",
        "outputId": "3330fc95-9705-4cef-fe9b-0d4a4bec1503"
      },
      "execution_count": null,
      "outputs": [
        {
          "output_type": "stream",
          "name": "stdout",
          "text": [
            "1\n",
            "2\n",
            "3\n"
          ]
        }
      ]
    },
    {
      "cell_type": "code",
      "source": [
        "s = {'Harsh','ABC',23,435,43.56,True,False}\n",
        "print(s)"
      ],
      "metadata": {
        "colab": {
          "base_uri": "https://localhost:8080/"
        },
        "id": "cOXKs5uKTekU",
        "outputId": "cc991c85-7b5d-498d-f01c-231f1577583c"
      },
      "execution_count": null,
      "outputs": [
        {
          "output_type": "stream",
          "name": "stdout",
          "text": [
            "{False, True, 'ABC', 435, 23, 'Harsh', 43.56}\n"
          ]
        }
      ]
    },
    {
      "cell_type": "code",
      "source": [
        "for i in s:\n",
        "  print(i)"
      ],
      "metadata": {
        "colab": {
          "base_uri": "https://localhost:8080/"
        },
        "id": "aLWPKBTqTzlq",
        "outputId": "4f62059a-8876-4cbb-f552-a2cc97dc3051"
      },
      "execution_count": null,
      "outputs": [
        {
          "output_type": "stream",
          "name": "stdout",
          "text": [
            "False\n",
            "True\n",
            "ABC\n",
            "435\n",
            "23\n",
            "Harsh\n",
            "43.56\n"
          ]
        }
      ]
    },
    {
      "cell_type": "code",
      "source": [
        "name = 'Harshvardhan Singh Sharma Verma'\n",
        "print(name.split())"
      ],
      "metadata": {
        "colab": {
          "base_uri": "https://localhost:8080/"
        },
        "id": "9ttSPWq8UbO7",
        "outputId": "80cf33fd-e68b-428d-ae41-2030609a6c89"
      },
      "execution_count": null,
      "outputs": [
        {
          "output_type": "stream",
          "name": "stdout",
          "text": [
            "['Harshvardhan', 'Singh', 'Sharma', 'Verma']\n"
          ]
        }
      ]
    },
    {
      "cell_type": "markdown",
      "source": [
        "## Q) In a given sentence tell me the unique words and tell me the count of them as well"
      ],
      "metadata": {
        "id": "5MJvi3LUU32r"
      }
    },
    {
      "cell_type": "code",
      "source": [
        "s = \"In this classroom we are studying Python and Python In classroom are we Studying\""
      ],
      "metadata": {
        "id": "q3T9Lx2_U3Kv"
      },
      "execution_count": null,
      "outputs": []
    },
    {
      "cell_type": "code",
      "source": [
        "a = s.split()\n",
        "print(a)\n",
        "a = set(a)\n",
        "print(a)\n",
        "count = len(a)\n",
        "print(count)"
      ],
      "metadata": {
        "colab": {
          "base_uri": "https://localhost:8080/"
        },
        "id": "2IhIgozvXmrb",
        "outputId": "d5708261-90d6-4a89-c8a4-546c28bdaa74"
      },
      "execution_count": null,
      "outputs": [
        {
          "output_type": "stream",
          "name": "stdout",
          "text": [
            "['In', 'this', 'classroom', 'we', 'are', 'studying', 'Python', 'and', 'Python', 'In', 'classroom', 'are', 'we', 'Studying']\n",
            "{'studying', 'Python', 'this', 'are', 'and', 'Studying', 'classroom', 'In', 'we'}\n",
            "9\n"
          ]
        }
      ]
    },
    {
      "cell_type": "markdown",
      "source": [
        "\n",
        "Question:\n",
        "\n",
        "You are given a list of integers representing the IDs of students who have signed up for an event, but some students have signed up multiple times by mistake. Your task is to:\n",
        "\n",
        "Remove duplicates to get the unique IDs of students who signed up. Identify students who have both signed up and attended the event (IDs are given in a separate list of attendees). Classify each student as: \"Attended\" if they signed up and attended. \"No-show\" if they signed up but did not attend. Finally, print a summary showing the count of \"Attended\" and \"No-show\" students. Input:\n",
        "\n",
        "A list of integers signups, where each element represents a student ID who signed up for the event. (It may contain duplicates.) A list of integers attendees, where each element represents a student ID who attended the event. Output: Print each unique student ID along with its status (\"Attended\" or \"No-show\") and a summary like the example below.\n"
      ],
      "metadata": {
        "id": "EjHbu4kNYGxj"
      }
    },
    {
      "cell_type": "code",
      "source": [
        "signups = [101, 102, 103, 104, 101, 105, 106, 102]\n",
        "attendees = [102, 104, 106, 107]"
      ],
      "metadata": {
        "id": "q_svl6rzXptS"
      },
      "execution_count": null,
      "outputs": []
    },
    {
      "cell_type": "code",
      "source": [
        "Expected Output\n",
        "\n",
        "101: No-show\n",
        "102: Attended\n",
        "103: No-show\n",
        "\n",
        "Summary:\n",
        "Attended: 3\n",
        "No-show: 3"
      ],
      "metadata": {
        "id": "69H2ibVCYL90"
      },
      "execution_count": null,
      "outputs": []
    },
    {
      "cell_type": "code",
      "source": [
        "unique_signups = set(signups)\n",
        "unique_attendees = set(attendees)\n",
        "attended = 0\n",
        "noshow = 0\n",
        "\n",
        "for i in unique_signups:\n",
        "  if i in unique_attendees:\n",
        "    print(f\"{i}: Attended\")\n",
        "    attended += 1\n",
        "  else:\n",
        "    print(f\"{i}: No Show\")\n",
        "    noshow += 1\n",
        "print()\n",
        "print('Summary')\n",
        "print(f\"Attended: {attended}\")\n",
        "print(f\"No-show: {noshow}\")"
      ],
      "metadata": {
        "colab": {
          "base_uri": "https://localhost:8080/"
        },
        "id": "NM7aT7W_eXyi",
        "outputId": "8640e7a6-0459-43bb-ff04-c3c7f825f842"
      },
      "execution_count": null,
      "outputs": [
        {
          "output_type": "stream",
          "name": "stdout",
          "text": [
            "101: No Show\n",
            "102: Attended\n",
            "103: No Show\n",
            "104: Attended\n",
            "105: No Show\n",
            "106: Attended\n",
            "\n",
            "Summary\n",
            "Attended: 3\n",
            "No-show: 3\n"
          ]
        }
      ]
    },
    {
      "cell_type": "markdown",
      "source": [
        "## Q) Check if the 3 digit number is an armstrong number or not"
      ],
      "metadata": {
        "id": "SOqkgcqmVhdy"
      }
    },
    {
      "cell_type": "code",
      "source": [
        "num = str(153)\n",
        "c = 153\n",
        "final = 153\n",
        "sum = 0\n",
        "for i in range(len(num)):\n",
        "  a = c % 10\n",
        "  sum = sum + a**len(num)\n",
        "  c = c // 10\n",
        "\n",
        "if final == sum:\n",
        "  print(\"Armstrong\")\n",
        "else:\n",
        "  print('Not')"
      ],
      "metadata": {
        "colab": {
          "base_uri": "https://localhost:8080/"
        },
        "id": "nHV5FLW5VZWJ",
        "outputId": "86257aaf-f02f-436f-ccb3-9ce9c51ece95"
      },
      "execution_count": 22,
      "outputs": [
        {
          "output_type": "stream",
          "name": "stdout",
          "text": [
            "Armstrong\n"
          ]
        }
      ]
    },
    {
      "cell_type": "code",
      "source": [
        "num = '153'\n",
        "length = len(num)\n",
        "sum = 0\n",
        "for i in num:\n",
        "  sum = sum + int(i)**length\n",
        "\n",
        "if sum == int(num):\n",
        "  print('A')"
      ],
      "metadata": {
        "colab": {
          "base_uri": "https://localhost:8080/"
        },
        "id": "pSz9rvpYcCBj",
        "outputId": "00c25995-b649-4767-95a9-c26cabd0ea8e"
      },
      "execution_count": 24,
      "outputs": [
        {
          "output_type": "stream",
          "name": "stdout",
          "text": [
            "A\n"
          ]
        }
      ]
    },
    {
      "cell_type": "markdown",
      "source": [
        "# Dictionary"
      ],
      "metadata": {
        "id": "0ayEiLrId_3D"
      }
    },
    {
      "cell_type": "code",
      "source": [
        "d = {1:\"Harsh\",2:'Vinit',3:\"Dhawal\"}"
      ],
      "metadata": {
        "id": "ErlwbRyTdQ3Y"
      },
      "execution_count": 57,
      "outputs": []
    },
    {
      "cell_type": "code",
      "source": [
        "print(d)"
      ],
      "metadata": {
        "colab": {
          "base_uri": "https://localhost:8080/"
        },
        "id": "TrpHhboneMhK",
        "outputId": "1b4a49f6-f1af-457d-9b6b-4528e970392f"
      },
      "execution_count": 26,
      "outputs": [
        {
          "output_type": "stream",
          "name": "stdout",
          "text": [
            "{1: 'Harsh', 2: 'Vinit', 3: 'Dhawal'}\n"
          ]
        }
      ]
    },
    {
      "cell_type": "code",
      "source": [
        "d[4] = 'Amit'"
      ],
      "metadata": {
        "id": "mAn1BVz2eNM_"
      },
      "execution_count": 58,
      "outputs": []
    },
    {
      "cell_type": "code",
      "source": [
        "d"
      ],
      "metadata": {
        "colab": {
          "base_uri": "https://localhost:8080/"
        },
        "id": "qgHsf6W2e4EM",
        "outputId": "82352d0b-54ab-4f81-bba0-2fc38b0505f1"
      },
      "execution_count": 28,
      "outputs": [
        {
          "output_type": "execute_result",
          "data": {
            "text/plain": [
              "{1: 'Harsh', 2: 'Vinit', 3: 'Dhawal', 4: 'Amit'}"
            ]
          },
          "metadata": {},
          "execution_count": 28
        }
      ]
    },
    {
      "cell_type": "code",
      "source": [
        "d['ABC'] = 12"
      ],
      "metadata": {
        "id": "PfXJdGXve4gV"
      },
      "execution_count": 29,
      "outputs": []
    },
    {
      "cell_type": "code",
      "source": [
        "d"
      ],
      "metadata": {
        "colab": {
          "base_uri": "https://localhost:8080/"
        },
        "id": "4uR2nfmPfF7m",
        "outputId": "a00b2183-b575-4c83-8237-8285905c3178"
      },
      "execution_count": 30,
      "outputs": [
        {
          "output_type": "execute_result",
          "data": {
            "text/plain": [
              "{1: 'Harsh', 2: 'Vinit', 3: 'Dhawal', 4: 'Amit', 'ABC': 12}"
            ]
          },
          "metadata": {},
          "execution_count": 30
        }
      ]
    },
    {
      "cell_type": "code",
      "source": [
        "d"
      ],
      "metadata": {
        "colab": {
          "base_uri": "https://localhost:8080/"
        },
        "id": "OYypYGbKfGLx",
        "outputId": "ed11db55-7f56-4da4-ce4b-aea73f8b1f68"
      },
      "execution_count": 31,
      "outputs": [
        {
          "output_type": "execute_result",
          "data": {
            "text/plain": [
              "{1: 'Harsh', 2: 'Vinit', 3: 'Dhawal', 4: 'Amit', 'ABC': 12}"
            ]
          },
          "metadata": {},
          "execution_count": 31
        }
      ]
    },
    {
      "cell_type": "code",
      "source": [
        "d[1] = 'ABC'"
      ],
      "metadata": {
        "id": "Odw9q0dofKgD"
      },
      "execution_count": 32,
      "outputs": []
    },
    {
      "cell_type": "code",
      "source": [
        "d"
      ],
      "metadata": {
        "colab": {
          "base_uri": "https://localhost:8080/"
        },
        "id": "I0jYw53NfOdt",
        "outputId": "19fd89eb-1343-4387-9088-47e0931b9d5b"
      },
      "execution_count": 34,
      "outputs": [
        {
          "output_type": "execute_result",
          "data": {
            "text/plain": [
              "{1: 'ABC', 2: 'Vinit', 3: 'Dhawal', 4: 'Amit', 'ABC': 12}"
            ]
          },
          "metadata": {},
          "execution_count": 34
        }
      ]
    },
    {
      "cell_type": "code",
      "source": [
        "d_copy = d\n",
        "print(d_copy)\n",
        "print(d)"
      ],
      "metadata": {
        "colab": {
          "base_uri": "https://localhost:8080/"
        },
        "id": "SPs_ZtoEfO_Z",
        "outputId": "60fd56da-231c-4a2e-ae3c-ff055b275eac"
      },
      "execution_count": 37,
      "outputs": [
        {
          "output_type": "stream",
          "name": "stdout",
          "text": [
            "{1: 'ABC', 2: 'Vinit', 3: 'Dhawal', 4: 'Amit', 'ABC': 12}\n",
            "{1: 'ABC', 2: 'Vinit', 3: 'Dhawal', 4: 'Amit', 'ABC': 12}\n"
          ]
        }
      ]
    },
    {
      "cell_type": "code",
      "source": [
        "d[1] = 'Harsh'"
      ],
      "metadata": {
        "id": "RwiaDjWLfeJ_"
      },
      "execution_count": 38,
      "outputs": []
    },
    {
      "cell_type": "code",
      "source": [
        "print(d)\n",
        "print(d_copy)"
      ],
      "metadata": {
        "colab": {
          "base_uri": "https://localhost:8080/"
        },
        "id": "xqpQV1t1frBw",
        "outputId": "46277531-1fb0-4345-b57c-8d064a1ae6f1"
      },
      "execution_count": 40,
      "outputs": [
        {
          "output_type": "stream",
          "name": "stdout",
          "text": [
            "{1: 'Harsh', 2: 'Vinit', 3: 'Dhawal', 4: 'Amit', 'ABC': 12}\n",
            "{1: 'Harsh', 2: 'Vinit', 3: 'Dhawal', 4: 'Amit', 'ABC': 12}\n"
          ]
        }
      ]
    },
    {
      "cell_type": "code",
      "source": [
        "d_copy = d.copy()"
      ],
      "metadata": {
        "id": "ccGd4ZGHftYa"
      },
      "execution_count": 41,
      "outputs": []
    },
    {
      "cell_type": "code",
      "source": [
        "print(d)\n",
        "print(d_copy)"
      ],
      "metadata": {
        "colab": {
          "base_uri": "https://localhost:8080/"
        },
        "id": "pijME-MDgBxP",
        "outputId": "a13e5938-f852-4d72-b4e2-7ce46cb4557d"
      },
      "execution_count": 42,
      "outputs": [
        {
          "output_type": "stream",
          "name": "stdout",
          "text": [
            "{1: 'Harsh', 2: 'Vinit', 3: 'Dhawal', 4: 'Amit', 'ABC': 12}\n",
            "{1: 'Harsh', 2: 'Vinit', 3: 'Dhawal', 4: 'Amit', 'ABC': 12}\n"
          ]
        }
      ]
    },
    {
      "cell_type": "code",
      "source": [
        "d[1] = '123'\n",
        "print(d)\n",
        "print(d_copy)"
      ],
      "metadata": {
        "colab": {
          "base_uri": "https://localhost:8080/"
        },
        "id": "kN_cDRIegFcV",
        "outputId": "9f71681c-3beb-4726-97b1-aea5164ec426"
      },
      "execution_count": 43,
      "outputs": [
        {
          "output_type": "stream",
          "name": "stdout",
          "text": [
            "{1: '123', 2: 'Vinit', 3: 'Dhawal', 4: 'Amit', 'ABC': 12}\n",
            "{1: 'Harsh', 2: 'Vinit', 3: 'Dhawal', 4: 'Amit', 'ABC': 12}\n"
          ]
        }
      ]
    },
    {
      "cell_type": "code",
      "source": [
        "del d[1]"
      ],
      "metadata": {
        "id": "ZWWK2Bm5hLFL"
      },
      "execution_count": 47,
      "outputs": []
    },
    {
      "cell_type": "code",
      "source": [
        "d"
      ],
      "metadata": {
        "colab": {
          "base_uri": "https://localhost:8080/"
        },
        "id": "vwo85co9hNu2",
        "outputId": "361594db-04b4-4acd-d161-11e6090d3b39"
      },
      "execution_count": 48,
      "outputs": [
        {
          "output_type": "execute_result",
          "data": {
            "text/plain": [
              "{2: 'Vinit', 3: 'Dhawal', 4: 'Amit', 'ABC': 12}"
            ]
          },
          "metadata": {},
          "execution_count": 48
        }
      ]
    },
    {
      "cell_type": "code",
      "source": [
        "## keys\n",
        "## values\n",
        "## items"
      ],
      "metadata": {
        "id": "96qokc_rgLgZ"
      },
      "execution_count": null,
      "outputs": []
    },
    {
      "cell_type": "code",
      "source": [
        "for i in d:\n",
        "  print(i)"
      ],
      "metadata": {
        "colab": {
          "base_uri": "https://localhost:8080/"
        },
        "id": "OxjyPHlsgoNQ",
        "outputId": "354d0f5a-bfe8-4310-b800-fee0750da734"
      },
      "execution_count": 46,
      "outputs": [
        {
          "output_type": "stream",
          "name": "stdout",
          "text": [
            "1\n",
            "2\n",
            "3\n",
            "4\n",
            "ABC\n"
          ]
        }
      ]
    },
    {
      "cell_type": "code",
      "source": [
        "d"
      ],
      "metadata": {
        "colab": {
          "base_uri": "https://localhost:8080/"
        },
        "id": "sx0dKVxrgrfA",
        "outputId": "4324c9ae-a3ee-409b-b500-88c18d4091d5"
      },
      "execution_count": 51,
      "outputs": [
        {
          "output_type": "execute_result",
          "data": {
            "text/plain": [
              "{1: 'Harsh', 2: 'Vinit', 3: 'Dhawal', 4: 'Amit'}"
            ]
          },
          "metadata": {},
          "execution_count": 51
        }
      ]
    },
    {
      "cell_type": "code",
      "source": [
        "del d"
      ],
      "metadata": {
        "id": "iXuiG84ihR9p"
      },
      "execution_count": 54,
      "outputs": []
    },
    {
      "cell_type": "code",
      "source": [
        "d"
      ],
      "metadata": {
        "colab": {
          "base_uri": "https://localhost:8080/",
          "height": 141
        },
        "id": "fuEgMHXKhXcA",
        "outputId": "6d855525-8d8d-4d3e-8539-fafaa0e44ac6"
      },
      "execution_count": 55,
      "outputs": [
        {
          "output_type": "error",
          "ename": "NameError",
          "evalue": "name 'd' is not defined",
          "traceback": [
            "\u001b[0;31m---------------------------------------------------------------------------\u001b[0m",
            "\u001b[0;31mNameError\u001b[0m                                 Traceback (most recent call last)",
            "\u001b[0;32m/tmp/ipython-input-55-3161387801.py\u001b[0m in \u001b[0;36m<cell line: 0>\u001b[0;34m()\u001b[0m\n\u001b[0;32m----> 1\u001b[0;31m \u001b[0md\u001b[0m\u001b[0;34m\u001b[0m\u001b[0;34m\u001b[0m\u001b[0m\n\u001b[0m",
            "\u001b[0;31mNameError\u001b[0m: name 'd' is not defined"
          ]
        }
      ]
    },
    {
      "cell_type": "code",
      "source": [
        "d"
      ],
      "metadata": {
        "colab": {
          "base_uri": "https://localhost:8080/",
          "height": 141
        },
        "id": "SHcVIlIuhXvv",
        "outputId": "2e42cf63-edbf-4d25-fca8-9d25635a0fe8"
      },
      "execution_count": 56,
      "outputs": [
        {
          "output_type": "error",
          "ename": "NameError",
          "evalue": "name 'd' is not defined",
          "traceback": [
            "\u001b[0;31m---------------------------------------------------------------------------\u001b[0m",
            "\u001b[0;31mNameError\u001b[0m                                 Traceback (most recent call last)",
            "\u001b[0;32m/tmp/ipython-input-56-3161387801.py\u001b[0m in \u001b[0;36m<cell line: 0>\u001b[0;34m()\u001b[0m\n\u001b[0;32m----> 1\u001b[0;31m \u001b[0md\u001b[0m\u001b[0;34m\u001b[0m\u001b[0;34m\u001b[0m\u001b[0m\n\u001b[0m",
            "\u001b[0;31mNameError\u001b[0m: name 'd' is not defined"
          ]
        }
      ]
    },
    {
      "cell_type": "code",
      "source": [
        "d"
      ],
      "metadata": {
        "colab": {
          "base_uri": "https://localhost:8080/"
        },
        "id": "7_LMKtAdhmBD",
        "outputId": "08231200-997c-4135-de02-0b2c16d23806"
      },
      "execution_count": 59,
      "outputs": [
        {
          "output_type": "execute_result",
          "data": {
            "text/plain": [
              "{1: 'Harsh', 2: 'Vinit', 3: 'Dhawal', 4: 'Amit'}"
            ]
          },
          "metadata": {},
          "execution_count": 59
        }
      ]
    },
    {
      "cell_type": "code",
      "source": [
        "for i in d:\n",
        "  print(d[i])"
      ],
      "metadata": {
        "colab": {
          "base_uri": "https://localhost:8080/"
        },
        "id": "-W4INaMZhoIf",
        "outputId": "62b03e16-9098-4b74-833e-b564d0574ef3"
      },
      "execution_count": 63,
      "outputs": [
        {
          "output_type": "stream",
          "name": "stdout",
          "text": [
            "Harsh\n",
            "Vinit\n",
            "Dhawal\n",
            "Amit\n"
          ]
        }
      ]
    },
    {
      "cell_type": "code",
      "source": [
        "print(d.keys())"
      ],
      "metadata": {
        "colab": {
          "base_uri": "https://localhost:8080/"
        },
        "id": "pTdv-J3Zhppb",
        "outputId": "44e4dd40-d48d-425e-c865-de602e12df98"
      },
      "execution_count": 64,
      "outputs": [
        {
          "output_type": "stream",
          "name": "stdout",
          "text": [
            "dict_keys([1, 2, 3, 4])\n"
          ]
        }
      ]
    },
    {
      "cell_type": "code",
      "source": [
        "print(d.values())"
      ],
      "metadata": {
        "colab": {
          "base_uri": "https://localhost:8080/"
        },
        "id": "aOlTMaWChxGX",
        "outputId": "3988f015-7bf4-47b6-a031-5dbe54c4e195"
      },
      "execution_count": 65,
      "outputs": [
        {
          "output_type": "stream",
          "name": "stdout",
          "text": [
            "dict_values(['Harsh', 'Vinit', 'Dhawal', 'Amit'])\n"
          ]
        }
      ]
    },
    {
      "cell_type": "code",
      "source": [
        "print(d.items())"
      ],
      "metadata": {
        "colab": {
          "base_uri": "https://localhost:8080/"
        },
        "id": "7rZMLexsh0fz",
        "outputId": "393a9a98-44e2-4ed8-e4af-9da7c2284a19"
      },
      "execution_count": 66,
      "outputs": [
        {
          "output_type": "stream",
          "name": "stdout",
          "text": [
            "dict_items([(1, 'Harsh'), (2, 'Vinit'), (3, 'Dhawal'), (4, 'Amit')])\n"
          ]
        }
      ]
    },
    {
      "cell_type": "code",
      "source": [
        "for i,j in d.items():\n",
        "  print(i,j)"
      ],
      "metadata": {
        "colab": {
          "base_uri": "https://localhost:8080/"
        },
        "id": "0PVwIxI2h2je",
        "outputId": "bad1046e-c52a-41a6-c784-1818fc6d390f"
      },
      "execution_count": 70,
      "outputs": [
        {
          "output_type": "stream",
          "name": "stdout",
          "text": [
            "1 Harsh\n",
            "2 Vinit\n",
            "3 Dhawal\n",
            "4 Amit\n"
          ]
        }
      ]
    },
    {
      "cell_type": "code",
      "source": [
        "d = {\n",
        "    'name':['Harsh','Amit','Dhawal','Vinit'],\n",
        "    'marks':[12,34,55,86,43]\n",
        "}"
      ],
      "metadata": {
        "id": "ZwW5u79vh7oL"
      },
      "execution_count": 72,
      "outputs": []
    },
    {
      "cell_type": "code",
      "source": [
        "d"
      ],
      "metadata": {
        "colab": {
          "base_uri": "https://localhost:8080/"
        },
        "id": "kUv11BT7jSGI",
        "outputId": "9b442000-2752-4e4f-a8a8-bbf2433a4057"
      },
      "execution_count": 73,
      "outputs": [
        {
          "output_type": "execute_result",
          "data": {
            "text/plain": [
              "{'name': ['Harsh', 'Amit', 'Dhawal', 'Vinit'], 'marks': [12, 34, 55, 86, 43]}"
            ]
          },
          "metadata": {},
          "execution_count": 73
        }
      ]
    },
    {
      "cell_type": "code",
      "source": [
        "students = {\n",
        "    \"101\": {\"name\": \"Aarav Sharma\", \"department\": \"Computer Science\", \"marks\": 87},\n",
        "    \"102\": {\"name\": \"Meera Verma\", \"department\": \"Electronics\", \"marks\": 91},\n",
        "    \"103\": {\"name\": \"Rohan Das\", \"department\": \"Mechanical\", \"marks\": 78},\n",
        "    \"104\": {\"name\": \"Sana Khan\", \"department\": \"Information Technology\", \"marks\": 85},\n",
        "    \"105\": {\"name\": \"Dev Patel\", \"department\": \"Civil\", \"marks\": 82}\n",
        "}\n"
      ],
      "metadata": {
        "id": "74I2UT64jS2U"
      },
      "execution_count": 81,
      "outputs": []
    },
    {
      "cell_type": "code",
      "source": [
        "for i,j in students.items():\n",
        "  for k,l in j.items():\n",
        "    print(f\"{k} : {l}\")\n",
        "  print(\"*\"*30)"
      ],
      "metadata": {
        "colab": {
          "base_uri": "https://localhost:8080/"
        },
        "id": "1Hey_Jv5p_lZ",
        "outputId": "93fd0e00-9256-41e9-d7a8-2d70c62c8a34"
      },
      "execution_count": 89,
      "outputs": [
        {
          "output_type": "stream",
          "name": "stdout",
          "text": [
            "name : Aarav Sharma\n",
            "department : Computer Science\n",
            "marks : 87\n",
            "******************************\n",
            "name : Meera Verma\n",
            "department : Electronics\n",
            "marks : 91\n",
            "******************************\n",
            "name : Rohan Das\n",
            "department : Mechanical\n",
            "marks : 78\n",
            "******************************\n",
            "name : Sana Khan\n",
            "department : Information Technology\n",
            "marks : 85\n",
            "******************************\n",
            "name : Dev Patel\n",
            "department : Civil\n",
            "marks : 82\n",
            "******************************\n"
          ]
        }
      ]
    },
    {
      "cell_type": "code",
      "source": [
        "for i,j in students.items():\n",
        "  print(f\"name: {j['name']}\")\n",
        "  print(f\"department: {j['department']}\")\n",
        "  print(f\"marks: {j['marks']}\")\n",
        "  print(\"*\"*30)"
      ],
      "metadata": {
        "colab": {
          "base_uri": "https://localhost:8080/"
        },
        "id": "7zl8ojGEpYHf",
        "outputId": "41e770fb-394b-4f82-e852-966f957937c8"
      },
      "execution_count": 85,
      "outputs": [
        {
          "output_type": "stream",
          "name": "stdout",
          "text": [
            "name: Aarav Sharma\n",
            "department: Computer Science\n",
            "marks: 87\n",
            "******************************\n",
            "name: Meera Verma\n",
            "department: Electronics\n",
            "marks: 91\n",
            "******************************\n",
            "name: Rohan Das\n",
            "department: Mechanical\n",
            "marks: 78\n",
            "******************************\n",
            "name: Sana Khan\n",
            "department: Information Technology\n",
            "marks: 85\n",
            "******************************\n",
            "name: Dev Patel\n",
            "department: Civil\n",
            "marks: 82\n",
            "******************************\n"
          ]
        }
      ]
    },
    {
      "cell_type": "code",
      "source": [
        "'''\n",
        "name: Aarav Sharma\n",
        "department: Computer Science\n",
        "marks: 87\n",
        "\n",
        "*****************************\n",
        "name: Meera Verma\n",
        "\n",
        "\n",
        "'''"
      ],
      "metadata": {
        "id": "bpDvBNhBkgJc"
      },
      "execution_count": null,
      "outputs": []
    },
    {
      "cell_type": "code",
      "source": [
        "students"
      ],
      "metadata": {
        "colab": {
          "base_uri": "https://localhost:8080/"
        },
        "id": "HpNQsv9XjX3a",
        "outputId": "f0b14022-0453-4f6c-d97e-64ca74132181"
      },
      "execution_count": 82,
      "outputs": [
        {
          "output_type": "execute_result",
          "data": {
            "text/plain": [
              "{'101': {'name': 'Aarav Sharma',\n",
              "  'department': 'Computer Science',\n",
              "  'marks': 87},\n",
              " '102': {'name': 'Meera Verma', 'department': 'Electronics', 'marks': 91},\n",
              " '103': {'name': 'Rohan Das', 'department': 'Mechanical', 'marks': 78},\n",
              " '104': {'name': 'Sana Khan',\n",
              "  'department': 'Information Technology',\n",
              "  'marks': 85},\n",
              " '105': {'name': 'Dev Patel', 'department': 'Civil', 'marks': 82}}"
            ]
          },
          "metadata": {},
          "execution_count": 82
        }
      ]
    },
    {
      "cell_type": "code",
      "source": [
        "import streamlit as st"
      ],
      "metadata": {
        "colab": {
          "base_uri": "https://localhost:8080/",
          "height": 314
        },
        "id": "t0T26Qsjkaju",
        "outputId": "ad0774ff-2580-4795-caa1-6471669add8a"
      },
      "execution_count": 90,
      "outputs": [
        {
          "output_type": "error",
          "ename": "ModuleNotFoundError",
          "evalue": "No module named 'streamlit'",
          "traceback": [
            "\u001b[0;31m---------------------------------------------------------------------------\u001b[0m",
            "\u001b[0;31mModuleNotFoundError\u001b[0m                       Traceback (most recent call last)",
            "\u001b[0;32m/tmp/ipython-input-90-942006150.py\u001b[0m in \u001b[0;36m<cell line: 0>\u001b[0;34m()\u001b[0m\n\u001b[0;32m----> 1\u001b[0;31m \u001b[0;32mimport\u001b[0m \u001b[0mstreamlit\u001b[0m \u001b[0;32mas\u001b[0m \u001b[0mst\u001b[0m\u001b[0;34m\u001b[0m\u001b[0;34m\u001b[0m\u001b[0m\n\u001b[0m",
            "\u001b[0;31mModuleNotFoundError\u001b[0m: No module named 'streamlit'",
            "",
            "\u001b[0;31m---------------------------------------------------------------------------\u001b[0;32m\nNOTE: If your import is failing due to a missing package, you can\nmanually install dependencies using either !pip or !apt.\n\nTo view examples of installing some common dependencies, click the\n\"Open Examples\" button below.\n\u001b[0;31m---------------------------------------------------------------------------\u001b[0m\n"
          ],
          "errorDetails": {
            "actions": [
              {
                "action": "open_url",
                "actionText": "Open Examples",
                "url": "/notebooks/snippets/importing_libraries.ipynb"
              }
            ]
          }
        }
      ]
    },
    {
      "cell_type": "code",
      "source": [
        "pip install streamlit"
      ],
      "metadata": {
        "colab": {
          "base_uri": "https://localhost:8080/"
        },
        "id": "A2uNvndkq5O_",
        "outputId": "43cf93e3-a26a-47a4-f13a-b0b141b6ac5f"
      },
      "execution_count": 91,
      "outputs": [
        {
          "output_type": "stream",
          "name": "stdout",
          "text": [
            "Collecting streamlit\n",
            "  Downloading streamlit-1.47.0-py3-none-any.whl.metadata (9.0 kB)\n",
            "Requirement already satisfied: altair<6,>=4.0 in /usr/local/lib/python3.11/dist-packages (from streamlit) (5.5.0)\n",
            "Requirement already satisfied: blinker<2,>=1.5.0 in /usr/local/lib/python3.11/dist-packages (from streamlit) (1.9.0)\n",
            "Requirement already satisfied: cachetools<7,>=4.0 in /usr/local/lib/python3.11/dist-packages (from streamlit) (5.5.2)\n",
            "Requirement already satisfied: click<9,>=7.0 in /usr/local/lib/python3.11/dist-packages (from streamlit) (8.2.1)\n",
            "Requirement already satisfied: numpy<3,>=1.23 in /usr/local/lib/python3.11/dist-packages (from streamlit) (2.0.2)\n",
            "Requirement already satisfied: packaging<26,>=20 in /usr/local/lib/python3.11/dist-packages (from streamlit) (25.0)\n",
            "Requirement already satisfied: pandas<3,>=1.4.0 in /usr/local/lib/python3.11/dist-packages (from streamlit) (2.2.2)\n",
            "Requirement already satisfied: pillow<12,>=7.1.0 in /usr/local/lib/python3.11/dist-packages (from streamlit) (11.3.0)\n",
            "Requirement already satisfied: protobuf<7,>=3.20 in /usr/local/lib/python3.11/dist-packages (from streamlit) (5.29.5)\n",
            "Requirement already satisfied: pyarrow>=7.0 in /usr/local/lib/python3.11/dist-packages (from streamlit) (18.1.0)\n",
            "Requirement already satisfied: requests<3,>=2.27 in /usr/local/lib/python3.11/dist-packages (from streamlit) (2.32.3)\n",
            "Requirement already satisfied: tenacity<10,>=8.1.0 in /usr/local/lib/python3.11/dist-packages (from streamlit) (8.5.0)\n",
            "Requirement already satisfied: toml<2,>=0.10.1 in /usr/local/lib/python3.11/dist-packages (from streamlit) (0.10.2)\n",
            "Requirement already satisfied: typing-extensions<5,>=4.4.0 in /usr/local/lib/python3.11/dist-packages (from streamlit) (4.14.1)\n",
            "Collecting watchdog<7,>=2.1.5 (from streamlit)\n",
            "  Downloading watchdog-6.0.0-py3-none-manylinux2014_x86_64.whl.metadata (44 kB)\n",
            "\u001b[2K     \u001b[90m━━━━━━━━━━━━━━━━━━━━━━━━━━━━━━━━━━━━━━━\u001b[0m \u001b[32m44.3/44.3 kB\u001b[0m \u001b[31m490.4 kB/s\u001b[0m eta \u001b[36m0:00:00\u001b[0m\n",
            "\u001b[?25hRequirement already satisfied: gitpython!=3.1.19,<4,>=3.0.7 in /usr/local/lib/python3.11/dist-packages (from streamlit) (3.1.44)\n",
            "Collecting pydeck<1,>=0.8.0b4 (from streamlit)\n",
            "  Downloading pydeck-0.9.1-py2.py3-none-any.whl.metadata (4.1 kB)\n",
            "Requirement already satisfied: tornado!=6.5.0,<7,>=6.0.3 in /usr/local/lib/python3.11/dist-packages (from streamlit) (6.4.2)\n",
            "Requirement already satisfied: jinja2 in /usr/local/lib/python3.11/dist-packages (from altair<6,>=4.0->streamlit) (3.1.6)\n",
            "Requirement already satisfied: jsonschema>=3.0 in /usr/local/lib/python3.11/dist-packages (from altair<6,>=4.0->streamlit) (4.25.0)\n",
            "Requirement already satisfied: narwhals>=1.14.2 in /usr/local/lib/python3.11/dist-packages (from altair<6,>=4.0->streamlit) (1.48.0)\n",
            "Requirement already satisfied: gitdb<5,>=4.0.1 in /usr/local/lib/python3.11/dist-packages (from gitpython!=3.1.19,<4,>=3.0.7->streamlit) (4.0.12)\n",
            "Requirement already satisfied: python-dateutil>=2.8.2 in /usr/local/lib/python3.11/dist-packages (from pandas<3,>=1.4.0->streamlit) (2.9.0.post0)\n",
            "Requirement already satisfied: pytz>=2020.1 in /usr/local/lib/python3.11/dist-packages (from pandas<3,>=1.4.0->streamlit) (2025.2)\n",
            "Requirement already satisfied: tzdata>=2022.7 in /usr/local/lib/python3.11/dist-packages (from pandas<3,>=1.4.0->streamlit) (2025.2)\n",
            "Requirement already satisfied: charset-normalizer<4,>=2 in /usr/local/lib/python3.11/dist-packages (from requests<3,>=2.27->streamlit) (3.4.2)\n",
            "Requirement already satisfied: idna<4,>=2.5 in /usr/local/lib/python3.11/dist-packages (from requests<3,>=2.27->streamlit) (3.10)\n",
            "Requirement already satisfied: urllib3<3,>=1.21.1 in /usr/local/lib/python3.11/dist-packages (from requests<3,>=2.27->streamlit) (2.5.0)\n",
            "Requirement already satisfied: certifi>=2017.4.17 in /usr/local/lib/python3.11/dist-packages (from requests<3,>=2.27->streamlit) (2025.7.14)\n",
            "Requirement already satisfied: smmap<6,>=3.0.1 in /usr/local/lib/python3.11/dist-packages (from gitdb<5,>=4.0.1->gitpython!=3.1.19,<4,>=3.0.7->streamlit) (5.0.2)\n",
            "Requirement already satisfied: MarkupSafe>=2.0 in /usr/local/lib/python3.11/dist-packages (from jinja2->altair<6,>=4.0->streamlit) (3.0.2)\n",
            "Requirement already satisfied: attrs>=22.2.0 in /usr/local/lib/python3.11/dist-packages (from jsonschema>=3.0->altair<6,>=4.0->streamlit) (25.3.0)\n",
            "Requirement already satisfied: jsonschema-specifications>=2023.03.6 in /usr/local/lib/python3.11/dist-packages (from jsonschema>=3.0->altair<6,>=4.0->streamlit) (2025.4.1)\n",
            "Requirement already satisfied: referencing>=0.28.4 in /usr/local/lib/python3.11/dist-packages (from jsonschema>=3.0->altair<6,>=4.0->streamlit) (0.36.2)\n",
            "Requirement already satisfied: rpds-py>=0.7.1 in /usr/local/lib/python3.11/dist-packages (from jsonschema>=3.0->altair<6,>=4.0->streamlit) (0.26.0)\n",
            "Requirement already satisfied: six>=1.5 in /usr/local/lib/python3.11/dist-packages (from python-dateutil>=2.8.2->pandas<3,>=1.4.0->streamlit) (1.17.0)\n",
            "Downloading streamlit-1.47.0-py3-none-any.whl (9.9 MB)\n",
            "\u001b[2K   \u001b[90m━━━━━━━━━━━━━━━━━━━━━━━━━━━━━━━━━━━━━━━━\u001b[0m \u001b[32m9.9/9.9 MB\u001b[0m \u001b[31m22.0 MB/s\u001b[0m eta \u001b[36m0:00:00\u001b[0m\n",
            "\u001b[?25hDownloading pydeck-0.9.1-py2.py3-none-any.whl (6.9 MB)\n",
            "\u001b[2K   \u001b[90m━━━━━━━━━━━━━━━━━━━━━━━━━━━━━━━━━━━━━━━━\u001b[0m \u001b[32m6.9/6.9 MB\u001b[0m \u001b[31m61.7 MB/s\u001b[0m eta \u001b[36m0:00:00\u001b[0m\n",
            "\u001b[?25hDownloading watchdog-6.0.0-py3-none-manylinux2014_x86_64.whl (79 kB)\n",
            "\u001b[2K   \u001b[90m━━━━━━━━━━━━━━━━━━━━━━━━━━━━━━━━━━━━━━━━\u001b[0m \u001b[32m79.1/79.1 kB\u001b[0m \u001b[31m6.4 MB/s\u001b[0m eta \u001b[36m0:00:00\u001b[0m\n",
            "\u001b[?25hInstalling collected packages: watchdog, pydeck, streamlit\n",
            "Successfully installed pydeck-0.9.1 streamlit-1.47.0 watchdog-6.0.0\n"
          ]
        }
      ]
    },
    {
      "cell_type": "code",
      "source": [
        "import streamlit as st"
      ],
      "metadata": {
        "id": "QjPnqIu9rBbs"
      },
      "execution_count": 92,
      "outputs": []
    },
    {
      "cell_type": "code",
      "source": [
        "!pip install streamlit"
      ],
      "metadata": {
        "colab": {
          "base_uri": "https://localhost:8080/"
        },
        "id": "qKXoMcknrGPE",
        "outputId": "93ce498e-11cb-44c0-bdff-599a572dc882"
      },
      "execution_count": 95,
      "outputs": [
        {
          "output_type": "stream",
          "name": "stdout",
          "text": [
            "Requirement already satisfied: streamlit in /usr/local/lib/python3.11/dist-packages (1.47.0)\n",
            "Requirement already satisfied: altair<6,>=4.0 in /usr/local/lib/python3.11/dist-packages (from streamlit) (5.5.0)\n",
            "Requirement already satisfied: blinker<2,>=1.5.0 in /usr/local/lib/python3.11/dist-packages (from streamlit) (1.9.0)\n",
            "Requirement already satisfied: cachetools<7,>=4.0 in /usr/local/lib/python3.11/dist-packages (from streamlit) (5.5.2)\n",
            "Requirement already satisfied: click<9,>=7.0 in /usr/local/lib/python3.11/dist-packages (from streamlit) (8.2.1)\n",
            "Requirement already satisfied: numpy<3,>=1.23 in /usr/local/lib/python3.11/dist-packages (from streamlit) (2.0.2)\n",
            "Requirement already satisfied: packaging<26,>=20 in /usr/local/lib/python3.11/dist-packages (from streamlit) (25.0)\n",
            "Requirement already satisfied: pandas<3,>=1.4.0 in /usr/local/lib/python3.11/dist-packages (from streamlit) (2.2.2)\n",
            "Requirement already satisfied: pillow<12,>=7.1.0 in /usr/local/lib/python3.11/dist-packages (from streamlit) (11.3.0)\n",
            "Requirement already satisfied: protobuf<7,>=3.20 in /usr/local/lib/python3.11/dist-packages (from streamlit) (5.29.5)\n",
            "Requirement already satisfied: pyarrow>=7.0 in /usr/local/lib/python3.11/dist-packages (from streamlit) (18.1.0)\n",
            "Requirement already satisfied: requests<3,>=2.27 in /usr/local/lib/python3.11/dist-packages (from streamlit) (2.32.3)\n",
            "Requirement already satisfied: tenacity<10,>=8.1.0 in /usr/local/lib/python3.11/dist-packages (from streamlit) (8.5.0)\n",
            "Requirement already satisfied: toml<2,>=0.10.1 in /usr/local/lib/python3.11/dist-packages (from streamlit) (0.10.2)\n",
            "Requirement already satisfied: typing-extensions<5,>=4.4.0 in /usr/local/lib/python3.11/dist-packages (from streamlit) (4.14.1)\n",
            "Requirement already satisfied: watchdog<7,>=2.1.5 in /usr/local/lib/python3.11/dist-packages (from streamlit) (6.0.0)\n",
            "Requirement already satisfied: gitpython!=3.1.19,<4,>=3.0.7 in /usr/local/lib/python3.11/dist-packages (from streamlit) (3.1.44)\n",
            "Requirement already satisfied: pydeck<1,>=0.8.0b4 in /usr/local/lib/python3.11/dist-packages (from streamlit) (0.9.1)\n",
            "Requirement already satisfied: tornado!=6.5.0,<7,>=6.0.3 in /usr/local/lib/python3.11/dist-packages (from streamlit) (6.4.2)\n",
            "Requirement already satisfied: jinja2 in /usr/local/lib/python3.11/dist-packages (from altair<6,>=4.0->streamlit) (3.1.6)\n",
            "Requirement already satisfied: jsonschema>=3.0 in /usr/local/lib/python3.11/dist-packages (from altair<6,>=4.0->streamlit) (4.25.0)\n",
            "Requirement already satisfied: narwhals>=1.14.2 in /usr/local/lib/python3.11/dist-packages (from altair<6,>=4.0->streamlit) (1.48.0)\n",
            "Requirement already satisfied: gitdb<5,>=4.0.1 in /usr/local/lib/python3.11/dist-packages (from gitpython!=3.1.19,<4,>=3.0.7->streamlit) (4.0.12)\n",
            "Requirement already satisfied: python-dateutil>=2.8.2 in /usr/local/lib/python3.11/dist-packages (from pandas<3,>=1.4.0->streamlit) (2.9.0.post0)\n",
            "Requirement already satisfied: pytz>=2020.1 in /usr/local/lib/python3.11/dist-packages (from pandas<3,>=1.4.0->streamlit) (2025.2)\n",
            "Requirement already satisfied: tzdata>=2022.7 in /usr/local/lib/python3.11/dist-packages (from pandas<3,>=1.4.0->streamlit) (2025.2)\n",
            "Requirement already satisfied: charset-normalizer<4,>=2 in /usr/local/lib/python3.11/dist-packages (from requests<3,>=2.27->streamlit) (3.4.2)\n",
            "Requirement already satisfied: idna<4,>=2.5 in /usr/local/lib/python3.11/dist-packages (from requests<3,>=2.27->streamlit) (3.10)\n",
            "Requirement already satisfied: urllib3<3,>=1.21.1 in /usr/local/lib/python3.11/dist-packages (from requests<3,>=2.27->streamlit) (2.5.0)\n",
            "Requirement already satisfied: certifi>=2017.4.17 in /usr/local/lib/python3.11/dist-packages (from requests<3,>=2.27->streamlit) (2025.7.14)\n",
            "Requirement already satisfied: smmap<6,>=3.0.1 in /usr/local/lib/python3.11/dist-packages (from gitdb<5,>=4.0.1->gitpython!=3.1.19,<4,>=3.0.7->streamlit) (5.0.2)\n",
            "Requirement already satisfied: MarkupSafe>=2.0 in /usr/local/lib/python3.11/dist-packages (from jinja2->altair<6,>=4.0->streamlit) (3.0.2)\n",
            "Requirement already satisfied: attrs>=22.2.0 in /usr/local/lib/python3.11/dist-packages (from jsonschema>=3.0->altair<6,>=4.0->streamlit) (25.3.0)\n",
            "Requirement already satisfied: jsonschema-specifications>=2023.03.6 in /usr/local/lib/python3.11/dist-packages (from jsonschema>=3.0->altair<6,>=4.0->streamlit) (2025.4.1)\n",
            "Requirement already satisfied: referencing>=0.28.4 in /usr/local/lib/python3.11/dist-packages (from jsonschema>=3.0->altair<6,>=4.0->streamlit) (0.36.2)\n",
            "Requirement already satisfied: rpds-py>=0.7.1 in /usr/local/lib/python3.11/dist-packages (from jsonschema>=3.0->altair<6,>=4.0->streamlit) (0.26.0)\n",
            "Requirement already satisfied: six>=1.5 in /usr/local/lib/python3.11/dist-packages (from python-dateutil>=2.8.2->pandas<3,>=1.4.0->streamlit) (1.17.0)\n"
          ]
        }
      ]
    },
    {
      "cell_type": "code",
      "source": [],
      "metadata": {
        "id": "Vztqd6-KrJ-u"
      },
      "execution_count": null,
      "outputs": []
    }
  ]
}