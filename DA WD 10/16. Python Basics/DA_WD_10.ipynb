{
  "nbformat": 4,
  "nbformat_minor": 0,
  "metadata": {
    "colab": {
      "provenance": []
    },
    "kernelspec": {
      "name": "python3",
      "display_name": "Python 3"
    },
    "language_info": {
      "name": "python"
    }
  },
  "cells": [
    {
      "cell_type": "code",
      "execution_count": null,
      "metadata": {
        "colab": {
          "base_uri": "https://localhost:8080/"
        },
        "id": "NYVCLsCWJgpL",
        "outputId": "d04b2b62-8160-4483-d3c0-7f270a8c06f7"
      },
      "outputs": [
        {
          "output_type": "stream",
          "name": "stdout",
          "text": [
            "Hello\n"
          ]
        }
      ],
      "source": [
        "print(\"Hello\")"
      ]
    },
    {
      "cell_type": "code",
      "source": [
        "print(123)"
      ],
      "metadata": {
        "colab": {
          "base_uri": "https://localhost:8080/"
        },
        "id": "f0acdOMuKlA4",
        "outputId": "b8869669-e362-450f-bb11-ac43e359fb7c"
      },
      "execution_count": null,
      "outputs": [
        {
          "output_type": "stream",
          "name": "stdout",
          "text": [
            "123\n"
          ]
        }
      ]
    },
    {
      "cell_type": "code",
      "source": [
        "print(type(True))"
      ],
      "metadata": {
        "colab": {
          "base_uri": "https://localhost:8080/"
        },
        "id": "HbnxC8A3KNQk",
        "outputId": "d9b0d5b7-7185-4275-9a9f-bfa9c5b8c21b"
      },
      "execution_count": null,
      "outputs": [
        {
          "output_type": "stream",
          "name": "stdout",
          "text": [
            "<class 'bool'>\n"
          ]
        }
      ]
    },
    {
      "cell_type": "markdown",
      "source": [
        "## Variables"
      ],
      "metadata": {
        "id": "xO6WEiz5K-4D"
      }
    },
    {
      "cell_type": "code",
      "source": [
        "a = 12"
      ],
      "metadata": {
        "id": "KOu5xX7tK3GZ"
      },
      "execution_count": null,
      "outputs": []
    },
    {
      "cell_type": "code",
      "source": [
        "print(type(a))"
      ],
      "metadata": {
        "colab": {
          "base_uri": "https://localhost:8080/"
        },
        "id": "bNVUFmWwLOo4",
        "outputId": "bda3cc6f-3a57-4293-8555-81f863a4e194"
      },
      "execution_count": null,
      "outputs": [
        {
          "output_type": "stream",
          "name": "stdout",
          "text": [
            "<class 'int'>\n"
          ]
        }
      ]
    },
    {
      "cell_type": "code",
      "source": [
        "_1 = 12\n",
        "print(_1)"
      ],
      "metadata": {
        "colab": {
          "base_uri": "https://localhost:8080/"
        },
        "id": "3J1NL7GwTVY-",
        "outputId": "f635f0b9-65a9-498b-d228-fa816af64531"
      },
      "execution_count": null,
      "outputs": [
        {
          "output_type": "stream",
          "name": "stdout",
          "text": [
            "12\n"
          ]
        }
      ]
    },
    {
      "cell_type": "code",
      "source": [
        "a = 'Harsh'"
      ],
      "metadata": {
        "id": "qj1JzcPrLSOh"
      },
      "execution_count": null,
      "outputs": []
    },
    {
      "cell_type": "code",
      "source": [
        "print(a)"
      ],
      "metadata": {
        "colab": {
          "base_uri": "https://localhost:8080/"
        },
        "id": "j4edanXnLmIz",
        "outputId": "3916abe4-0d7a-4eae-abe1-97f88b8984e4"
      },
      "execution_count": null,
      "outputs": [
        {
          "output_type": "stream",
          "name": "stdout",
          "text": [
            "Harsh\n"
          ]
        }
      ]
    },
    {
      "cell_type": "code",
      "source": [
        "_a_12 = \"harsh\""
      ],
      "metadata": {
        "id": "uaSTx7-5Lm49"
      },
      "execution_count": null,
      "outputs": []
    },
    {
      "cell_type": "code",
      "source": [
        "name = 'Vikas'\n",
        "age = 25\n",
        "\n",
        "# print('Hey',name,\"your age is\",age)\n",
        "print(f\"Hey {name} your age is {age}\")"
      ],
      "metadata": {
        "colab": {
          "base_uri": "https://localhost:8080/"
        },
        "id": "t3kgAFpaMLNx",
        "outputId": "733de365-ea7d-46d9-d20e-d7fcb266b1da"
      },
      "execution_count": null,
      "outputs": [
        {
          "output_type": "stream",
          "name": "stdout",
          "text": [
            "Hey Vikas your age is 25\n"
          ]
        }
      ]
    },
    {
      "cell_type": "code",
      "source": [
        "a = 'Hey'\n",
        "b = 23\n",
        "print(a, \"your age is\",b)\n",
        "print(f\"hi how are you {a} your age is {b}\")"
      ],
      "metadata": {
        "colab": {
          "base_uri": "https://localhost:8080/"
        },
        "id": "X5HTSTeWOf6X",
        "outputId": "14ef6086-9b19-4234-950e-2afc3847d587"
      },
      "execution_count": null,
      "outputs": [
        {
          "output_type": "stream",
          "name": "stdout",
          "text": [
            "Hey your age is 23\n",
            "hi how are you Hey your age is 23\n"
          ]
        }
      ]
    },
    {
      "cell_type": "code",
      "source": [
        "name = input(\"Hey, Give me your name ?\")\n",
        "age = input('Hey, Give me your age')\n",
        "\n",
        "print(f\"Hey {name} your age is {age}\")"
      ],
      "metadata": {
        "colab": {
          "base_uri": "https://localhost:8080/"
        },
        "id": "mU1JKajFNK-U",
        "outputId": "7f41e218-fa6a-444a-9b4c-509962858333"
      },
      "execution_count": null,
      "outputs": [
        {
          "output_type": "stream",
          "name": "stdout",
          "text": [
            "Hey, Give me your name ?hsaod\n",
            "Hey, Give me your age34\n",
            "Hey hsaod your age is 34\n"
          ]
        }
      ]
    },
    {
      "cell_type": "code",
      "source": [
        "## Type Casting\n",
        "\n",
        "a = 10\n",
        "print(type(a))\n",
        "a = str(a)\n",
        "print(type(a))"
      ],
      "metadata": {
        "colab": {
          "base_uri": "https://localhost:8080/"
        },
        "id": "YFD0tAIKORjL",
        "outputId": "1fcdcb4a-ad51-4cf0-fa21-ac30a4253305"
      },
      "execution_count": null,
      "outputs": [
        {
          "output_type": "stream",
          "name": "stdout",
          "text": [
            "<class 'int'>\n",
            "<class 'str'>\n"
          ]
        }
      ]
    },
    {
      "cell_type": "code",
      "source": [
        "a = 'harsh'\n",
        "a = int(a)\n",
        "print(type(a))"
      ],
      "metadata": {
        "colab": {
          "base_uri": "https://localhost:8080/",
          "height": 176
        },
        "id": "Q1oArIQEPnEE",
        "outputId": "3aaa3fbd-8b0e-4331-c0fe-b736b97f37cd"
      },
      "execution_count": null,
      "outputs": [
        {
          "output_type": "error",
          "ename": "ValueError",
          "evalue": "invalid literal for int() with base 10: 'harsh'",
          "traceback": [
            "\u001b[0;31m---------------------------------------------------------------------------\u001b[0m",
            "\u001b[0;31mValueError\u001b[0m                                Traceback (most recent call last)",
            "\u001b[0;32m/tmp/ipython-input-29-3575584774.py\u001b[0m in \u001b[0;36m<cell line: 0>\u001b[0;34m()\u001b[0m\n\u001b[1;32m      1\u001b[0m \u001b[0ma\u001b[0m \u001b[0;34m=\u001b[0m \u001b[0;34m'harsh'\u001b[0m\u001b[0;34m\u001b[0m\u001b[0;34m\u001b[0m\u001b[0m\n\u001b[0;32m----> 2\u001b[0;31m \u001b[0ma\u001b[0m \u001b[0;34m=\u001b[0m \u001b[0mint\u001b[0m\u001b[0;34m(\u001b[0m\u001b[0ma\u001b[0m\u001b[0;34m)\u001b[0m\u001b[0;34m\u001b[0m\u001b[0;34m\u001b[0m\u001b[0m\n\u001b[0m\u001b[1;32m      3\u001b[0m \u001b[0mprint\u001b[0m\u001b[0;34m(\u001b[0m\u001b[0mtype\u001b[0m\u001b[0;34m(\u001b[0m\u001b[0ma\u001b[0m\u001b[0;34m)\u001b[0m\u001b[0;34m)\u001b[0m\u001b[0;34m\u001b[0m\u001b[0;34m\u001b[0m\u001b[0m\n",
            "\u001b[0;31mValueError\u001b[0m: invalid literal for int() with base 10: 'harsh'"
          ]
        }
      ]
    },
    {
      "cell_type": "code",
      "source": [
        "## Find Simple Interest\n",
        "\n",
        "name = input('GIve name ')\n",
        "p = int(input('Give p '))\n",
        "r = int(input('Give r '))\n",
        "t = int(input('Give t '))\n",
        "\n",
        "SI = (p*r*t)/100\n",
        "\n",
        "\n",
        "print(f\"Hi {name} your SI is {SI}\")"
      ],
      "metadata": {
        "colab": {
          "base_uri": "https://localhost:8080/"
        },
        "id": "QDJfX98QQWMa",
        "outputId": "43640908-54ca-42f5-96a4-e50daaed5397"
      },
      "execution_count": null,
      "outputs": [
        {
          "output_type": "stream",
          "name": "stdout",
          "text": [
            "GIve name iasd\n",
            "Give p 2356\n",
            "Give r 3\n",
            "Give t 5\n",
            "Hi iasd your SI is 353.4\n"
          ]
        }
      ]
    },
    {
      "cell_type": "code",
      "source": [
        "## Find Volume of Cylinder\n"
      ],
      "metadata": {
        "id": "_-08cLLETSm8"
      },
      "execution_count": null,
      "outputs": []
    },
    {
      "cell_type": "code",
      "source": [
        "## Find Compound Interest\n",
        "\n",
        "p = int(input('Give p '))\n",
        "r = int(input('Give r '))\n",
        "n = int(input('Give n'))\n",
        "t = int(input('Give t '))\n",
        "\n",
        "CI = p*((1+r/n))**(n*t)\n",
        "\n",
        "print(CI)"
      ],
      "metadata": {
        "colab": {
          "base_uri": "https://localhost:8080/"
        },
        "id": "aTkqIAhJU-Gr",
        "outputId": "691ee90f-8743-4658-e887-1aa3c21a3c63"
      },
      "execution_count": null,
      "outputs": [
        {
          "output_type": "stream",
          "name": "stdout",
          "text": [
            "Give p 34\n",
            "Give r 3\n",
            "Give n4\n",
            "Give t 5\n",
            "2467401.876964512\n"
          ]
        }
      ]
    },
    {
      "cell_type": "code",
      "source": [
        "print('Harsh'+str(5))"
      ],
      "metadata": {
        "colab": {
          "base_uri": "https://localhost:8080/"
        },
        "id": "RT7kUeTwY0WH",
        "outputId": "7012373f-4b24-446d-cfc0-fdfdfb30c6be"
      },
      "execution_count": null,
      "outputs": [
        {
          "output_type": "stream",
          "name": "stdout",
          "text": [
            "Harsh5\n"
          ]
        }
      ]
    },
    {
      "cell_type": "markdown",
      "source": [
        "# Conditional Statements"
      ],
      "metadata": {
        "id": "9crSYnVKZPhM"
      }
    },
    {
      "cell_type": "code",
      "source": [
        "age = 12\n",
        "\n",
        "if age>=18:\n",
        "  print('Eligible')\n",
        "else:\n",
        "  print('NE')"
      ],
      "metadata": {
        "colab": {
          "base_uri": "https://localhost:8080/"
        },
        "id": "KXWYDNIJZRag",
        "outputId": "25407c0e-d257-48f3-91a6-c1820c846619"
      },
      "execution_count": null,
      "outputs": [
        {
          "output_type": "stream",
          "name": "stdout",
          "text": [
            "NE\n"
          ]
        }
      ]
    },
    {
      "cell_type": "code",
      "source": [
        "if True:\n",
        "  print('Hey')"
      ],
      "metadata": {
        "colab": {
          "base_uri": "https://localhost:8080/"
        },
        "id": "xRLKoxn9Zstc",
        "outputId": "cc6aec99-9537-467f-8c36-033139c3bd23"
      },
      "execution_count": null,
      "outputs": [
        {
          "output_type": "stream",
          "name": "stdout",
          "text": [
            "Hey\n"
          ]
        }
      ]
    },
    {
      "cell_type": "code",
      "source": [
        "if True and False:\n",
        "  print('Hey')\n",
        "else:\n",
        "  print('Hi')"
      ],
      "metadata": {
        "id": "YpuRlKtcaKsT"
      },
      "execution_count": null,
      "outputs": []
    },
    {
      "cell_type": "code",
      "source": [
        "if False:\n",
        "  print('Hi')"
      ],
      "metadata": {
        "id": "JzRzdtoYbU5X"
      },
      "execution_count": null,
      "outputs": []
    },
    {
      "cell_type": "code",
      "source": [
        "if True and True:\n",
        "  print('Hi')\n",
        "  if True and (True or False):\n",
        "    print('Hello')\n",
        "    if True:\n",
        "      print(\"Yo\")\n",
        "    else:\n",
        "      print('H')\n",
        "  else:\n",
        "    print('1')"
      ],
      "metadata": {
        "colab": {
          "base_uri": "https://localhost:8080/"
        },
        "id": "2ssr9oQAamQu",
        "outputId": "dff459e9-df4c-4e9f-88b9-a1857c01400f"
      },
      "execution_count": null,
      "outputs": [
        {
          "output_type": "stream",
          "name": "stdout",
          "text": [
            "Hi\n",
            "Hello\n",
            "Yo\n"
          ]
        }
      ]
    },
    {
      "cell_type": "code",
      "source": [
        "age = 20\n",
        "\n",
        "if age >= 18:\n",
        "  print('El')\n",
        "elif age < 18 and age > 0:\n",
        "  print('minor')\n",
        "else:\n",
        "  print('invalid')"
      ],
      "metadata": {
        "colab": {
          "base_uri": "https://localhost:8080/"
        },
        "id": "luOYkYh1cb39",
        "outputId": "65e1941a-7eab-4988-9111-4c75e1d8e4fc"
      },
      "execution_count": null,
      "outputs": [
        {
          "output_type": "stream",
          "name": "stdout",
          "text": [
            "El\n"
          ]
        }
      ]
    },
    {
      "cell_type": "code",
      "source": [
        "# [18 to 100] -> Eligible\n",
        "# [13 - 17] -> Minor\n",
        "# [1 - 12] -> Child\n",
        "# else -> Invalid age"
      ],
      "metadata": {
        "id": "QqHJyAQwdMN5"
      },
      "execution_count": null,
      "outputs": []
    },
    {
      "cell_type": "code",
      "source": [
        "age = 11\n",
        "\n",
        "if age >= 18 and age < 100:\n",
        "  print('El')\n",
        "elif age >= 13 and age <= 17:\n",
        "  print('Minor')\n",
        "elif age > 1 and age <= 12:\n",
        "  print('Child')\n",
        "else:\n",
        "  print(\"invalid \")"
      ],
      "metadata": {
        "colab": {
          "base_uri": "https://localhost:8080/"
        },
        "id": "VDce9q28f6Ti",
        "outputId": "40f74d80-4ac8-40f4-b898-d51d59dfdbfa"
      },
      "execution_count": null,
      "outputs": [
        {
          "output_type": "stream",
          "name": "stdout",
          "text": [
            "Child\n"
          ]
        }
      ]
    },
    {
      "cell_type": "code",
      "source": [
        "age = -1\n",
        "\n",
        "if age < 0:\n",
        "  print('Invalid')\n",
        "\n",
        "elif age < 100:\n",
        "  if age >= 18:\n",
        "    print('El')\n",
        "  elif age >= 13:\n",
        "    print('Minor')\n",
        "  elif age >= 0:\n",
        "    print('Child')\n",
        "\n",
        "else:\n",
        "  print('Invalid')"
      ],
      "metadata": {
        "id": "cL-keHw2Zj4K"
      },
      "execution_count": null,
      "outputs": []
    },
    {
      "cell_type": "markdown",
      "source": [
        "## Find if the number taken from user is odd or even"
      ],
      "metadata": {
        "id": "cYvM8VDNUxO4"
      }
    },
    {
      "cell_type": "code",
      "source": [
        "num = 12\n",
        "\n",
        "if num % 2 == 0:\n",
        "  print('Even')\n",
        "else:\n",
        "  print('Odd')"
      ],
      "metadata": {
        "id": "C5K0ocv7gLxi",
        "colab": {
          "base_uri": "https://localhost:8080/"
        },
        "outputId": "1af5ceb9-ddda-41f7-9b67-f023d43c0b9c"
      },
      "execution_count": null,
      "outputs": [
        {
          "output_type": "stream",
          "name": "stdout",
          "text": [
            "Even\n"
          ]
        }
      ]
    },
    {
      "cell_type": "markdown",
      "source": [
        "## FInd if a number is +ve or -ve, if it is +ve then tell me if it is odd or even"
      ],
      "metadata": {
        "id": "3EzkA4x3XnOS"
      }
    },
    {
      "cell_type": "code",
      "source": [
        "num = 45\n",
        "\n",
        "if num >= 0:\n",
        "  print('Number is +ve')\n",
        "  if num % 2 == 0:\n",
        "    print('Even')\n",
        "  else:\n",
        "    print('Odd')\n",
        "else:\n",
        "  print('-ve')"
      ],
      "metadata": {
        "colab": {
          "base_uri": "https://localhost:8080/"
        },
        "id": "uN62MG-yXIwp",
        "outputId": "837e46a4-9470-4a64-f4e4-72a9f2a71a03"
      },
      "execution_count": null,
      "outputs": [
        {
          "output_type": "stream",
          "name": "stdout",
          "text": [
            "Number is +ve\n",
            "Odd\n"
          ]
        }
      ]
    },
    {
      "cell_type": "markdown",
      "source": [
        "## Login System"
      ],
      "metadata": {
        "id": "ngInwR53b2xz"
      }
    },
    {
      "cell_type": "code",
      "source": [
        "stored_user = 'Admin12'\n",
        "stored_pass = 'abc@123#'\n",
        "\n",
        "us = input('Give username')\n",
        "pas = input('Give Pass')\n",
        "\n",
        "if us == stored_user:\n",
        "  if pas == stored_pass:\n",
        "    print('Login Successful')\n",
        "  else:\n",
        "    print(\"Incorrect Passward\")\n",
        "else:\n",
        "  print('Incorrect User')"
      ],
      "metadata": {
        "colab": {
          "base_uri": "https://localhost:8080/"
        },
        "id": "3TBYtHaiZSNN",
        "outputId": "e532cb0d-22f7-4f81-b22b-e3ea9e775d90"
      },
      "execution_count": null,
      "outputs": [
        {
          "output_type": "stream",
          "name": "stdout",
          "text": [
            "Give usernamef4\n",
            "Give Passfd\n",
            "Incorrect User\n"
          ]
        }
      ]
    },
    {
      "cell_type": "markdown",
      "source": [
        "## Find if the number is divisible by 3 and 5"
      ],
      "metadata": {
        "id": "EQLjmc1nhkjH"
      }
    },
    {
      "cell_type": "code",
      "source": [],
      "metadata": {
        "id": "5v_tFBjCgFwe"
      },
      "execution_count": null,
      "outputs": []
    },
    {
      "cell_type": "markdown",
      "source": [
        "## Create Simple Calculator"
      ],
      "metadata": {
        "id": "O1_oyNFxi47h"
      }
    },
    {
      "cell_type": "code",
      "source": [
        "num1 = int(input('Give n1 '))\n",
        "num2 = int(input('Give n2 '))\n",
        "o = input(\"Give +,-,/,*\")\n",
        "\n",
        "if o == \"+\":\n",
        "  print(num1 + num2)\n",
        "elif o == '-':\n",
        "  print(num1 - num2)\n",
        "elif o == '*':\n",
        "  print(num1 * num2)\n",
        "elif o == '/':\n",
        "  if num2 == 0:\n",
        "    print(\"Invalid\")\n",
        "  else:\n",
        "    print(num1/num2)\n",
        "else:\n",
        "  print('Invalid Operator')"
      ],
      "metadata": {
        "colab": {
          "base_uri": "https://localhost:8080/"
        },
        "id": "waTUAdTWi7ms",
        "outputId": "aa126d8f-128c-442b-eb69-3d2027d46229"
      },
      "execution_count": null,
      "outputs": [
        {
          "output_type": "stream",
          "name": "stdout",
          "text": [
            "Give n1 456\n",
            "Give n2 0\n",
            "Give +,-,/,*/\n",
            "Invalid\n"
          ]
        }
      ]
    },
    {
      "cell_type": "markdown",
      "source": [
        "## Report Card Generator"
      ],
      "metadata": {
        "id": "cTVa2wDkptI7"
      }
    },
    {
      "cell_type": "code",
      "source": [
        "'''\n",
        "100 - 90 -> a\n",
        "80 - 89 -> b\n",
        "70 - 79 -> c\n",
        "d\n",
        "fail\n",
        "\n",
        "'''"
      ],
      "metadata": {
        "id": "bKaZZmfBpACx"
      },
      "execution_count": null,
      "outputs": []
    },
    {
      "cell_type": "code",
      "source": [
        "number = int(input(\"enter the marks\"))\n",
        "if(number<100 and number>=90):\n",
        "  print(\"you have secured a grade A\")\n",
        "elif(number<90 and number>=80):\n",
        "  print(\"you have secured a grade B\")\n",
        "elif(number<80 and number>=70):\n",
        "  print(\"you have secured a grade C\")\n",
        "elif(number<70 and number>=60):\n",
        "  print(\"you have secured a grade D\")\n",
        "else:\n",
        "  print('Fail')"
      ],
      "metadata": {
        "colab": {
          "base_uri": "https://localhost:8080/"
        },
        "id": "lRaKCnSrr78f",
        "outputId": "85e06ea2-c114-4968-98b3-81cfc5457487"
      },
      "execution_count": null,
      "outputs": [
        {
          "output_type": "stream",
          "name": "stdout",
          "text": [
            "enter the marks33\n",
            "Fail\n"
          ]
        }
      ]
    },
    {
      "cell_type": "code",
      "source": [
        "'''\n",
        "Employee Bonus Calculator\n",
        "\n",
        "(salary)\n",
        "(rating)\n",
        "(yrs of exp)\n",
        "\n",
        "(5 - 4) ->\n",
        "# Years of Experince ->\n",
        "-> > 10 yrs -> 30% Bonus\n",
        "-> (5 to 10) -> 20% Bonus\n",
        "-> Less than 5 -> 10% Bonus\n",
        "\n",
        "(less than 4) ->\n",
        "# Years of Experince ->\n",
        "-> > 10 yrs -> 20% Bonus\n",
        "-> (5 to 10) -> 10% Bonus\n",
        "-> Less than 5 -> 5% Bonus\n",
        "\n",
        "\n",
        "(old salary, bonus % and new salary)\n",
        "\n",
        "'''"
      ],
      "metadata": {
        "id": "4FFY6--MsYOh"
      },
      "execution_count": null,
      "outputs": []
    },
    {
      "cell_type": "code",
      "source": [
        "salary = 20000\n",
        "yrs = 7\n",
        "rating = 4.2\n",
        "\n",
        "if rating > 4:\n",
        "  if yrs > 10:\n",
        "    b = 30\n",
        "  elif yrs > 5 and yrs < 10:\n",
        "    b = 20\n",
        "  elif yrs < 5:\n",
        "    b = 10\n",
        "\n",
        "elif rating < 4:\n",
        "  if yrs > 10:\n",
        "    b = 20\n",
        "  elif yrs > 5 and yrs < 10:\n",
        "    b = 10\n",
        "  elif yrs < 5:\n",
        "    b = 5\n",
        "\n",
        "new_salary = salary + (b*salary)/100\n",
        "\n",
        "print(f\"Hi your salary was {salary} bonus is {b} new salary is {new_salary}\")"
      ],
      "metadata": {
        "colab": {
          "base_uri": "https://localhost:8080/"
        },
        "id": "C0KRrZUUIOM4",
        "outputId": "88a054bd-15f9-41e8-cb2c-295c3c70c705"
      },
      "execution_count": null,
      "outputs": [
        {
          "output_type": "stream",
          "name": "stdout",
          "text": [
            "Hi your salary was 20000 bonus is 20 new salary is 24000.0\n"
          ]
        }
      ]
    },
    {
      "cell_type": "markdown",
      "source": [
        "# Loops"
      ],
      "metadata": {
        "id": "VP_jF7o7JLPA"
      }
    },
    {
      "cell_type": "code",
      "source": [
        "range(5)"
      ],
      "metadata": {
        "colab": {
          "base_uri": "https://localhost:8080/"
        },
        "id": "grUOID7RIUSQ",
        "outputId": "44ef1fad-8489-411b-e9ed-13f05dc658c8"
      },
      "execution_count": null,
      "outputs": [
        {
          "output_type": "execute_result",
          "data": {
            "text/plain": [
              "range(0, 5)"
            ]
          },
          "metadata": {},
          "execution_count": 3
        }
      ]
    },
    {
      "cell_type": "code",
      "source": [
        "range(20)"
      ],
      "metadata": {
        "colab": {
          "base_uri": "https://localhost:8080/"
        },
        "id": "HAEIObpSJq0d",
        "outputId": "7bbb3ae2-63f3-4ef7-9e5e-0a08e61804a6"
      },
      "execution_count": null,
      "outputs": [
        {
          "output_type": "execute_result",
          "data": {
            "text/plain": [
              "range(0, 20)"
            ]
          },
          "metadata": {},
          "execution_count": 4
        }
      ]
    },
    {
      "cell_type": "code",
      "source": [
        "for i in range(5):\n",
        "  print(i)"
      ],
      "metadata": {
        "colab": {
          "base_uri": "https://localhost:8080/"
        },
        "id": "b2e6ZN2aJsVw",
        "outputId": "db621ad2-51ee-4dab-b1bf-e99d23255fe0"
      },
      "execution_count": null,
      "outputs": [
        {
          "output_type": "stream",
          "name": "stdout",
          "text": [
            "0\n",
            "1\n",
            "2\n",
            "3\n",
            "4\n"
          ]
        }
      ]
    },
    {
      "cell_type": "code",
      "source": [
        "for i in range(1,6):\n",
        "  print(i)"
      ],
      "metadata": {
        "colab": {
          "base_uri": "https://localhost:8080/"
        },
        "id": "qi7A5YTGKZGB",
        "outputId": "c39c1652-a3dd-4129-d3ef-c4e4ba5ad856"
      },
      "execution_count": null,
      "outputs": [
        {
          "output_type": "stream",
          "name": "stdout",
          "text": [
            "1\n",
            "2\n",
            "3\n",
            "4\n",
            "5\n"
          ]
        }
      ]
    },
    {
      "cell_type": "code",
      "source": [
        "for i in range(1,10,2):\n",
        "  print(i)"
      ],
      "metadata": {
        "colab": {
          "base_uri": "https://localhost:8080/"
        },
        "id": "XAYg_UZ8KrO9",
        "outputId": "5b680cef-5b4c-4f0d-c87e-0598f997c49e"
      },
      "execution_count": null,
      "outputs": [
        {
          "output_type": "stream",
          "name": "stdout",
          "text": [
            "1\n",
            "3\n",
            "5\n",
            "7\n",
            "9\n"
          ]
        }
      ]
    },
    {
      "cell_type": "code",
      "source": [
        "for i in range(2,12,3):\n",
        "  print(i)"
      ],
      "metadata": {
        "colab": {
          "base_uri": "https://localhost:8080/"
        },
        "id": "u5lHqFAdKyle",
        "outputId": "3f18e615-414a-4972-9a1d-443570310779"
      },
      "execution_count": null,
      "outputs": [
        {
          "output_type": "stream",
          "name": "stdout",
          "text": [
            "2\n",
            "5\n",
            "8\n",
            "11\n"
          ]
        }
      ]
    },
    {
      "cell_type": "code",
      "source": [
        "for i in range(5,55,5):\n",
        "  print(i)"
      ],
      "metadata": {
        "colab": {
          "base_uri": "https://localhost:8080/"
        },
        "id": "0PQIP9tkK_7e",
        "outputId": "eaeec322-570a-4303-8395-19a7c6c95f03"
      },
      "execution_count": null,
      "outputs": [
        {
          "output_type": "stream",
          "name": "stdout",
          "text": [
            "5\n",
            "10\n",
            "15\n",
            "20\n",
            "25\n",
            "30\n",
            "35\n",
            "40\n",
            "45\n",
            "50\n"
          ]
        }
      ]
    },
    {
      "cell_type": "code",
      "source": [
        "for i in range(10,0,-1):\n",
        "  print(i)"
      ],
      "metadata": {
        "colab": {
          "base_uri": "https://localhost:8080/"
        },
        "id": "bibNIbWmLVxh",
        "outputId": "d34f4666-5e32-4391-a5ea-45b09f9ce50d"
      },
      "execution_count": null,
      "outputs": [
        {
          "output_type": "stream",
          "name": "stdout",
          "text": [
            "10\n",
            "9\n",
            "8\n",
            "7\n",
            "6\n",
            "5\n",
            "4\n",
            "3\n",
            "2\n",
            "1\n"
          ]
        }
      ]
    },
    {
      "cell_type": "code",
      "source": [
        "## Q)\n",
        "\n",
        "num ->\n",
        "\n"
      ],
      "metadata": {
        "id": "ZhvlnF3zL-eP"
      },
      "execution_count": null,
      "outputs": []
    },
    {
      "cell_type": "code",
      "source": [
        "num = int(input(\"GIve number\"))\n",
        "\n",
        "for i in range(10,0,-1):\n",
        "  print(f\"{num} x {i} = {num*i}\")"
      ],
      "metadata": {
        "colab": {
          "base_uri": "https://localhost:8080/"
        },
        "id": "IZulE2bSMVko",
        "outputId": "d8aff238-1e56-45bf-d8f7-c46bb5f8ebbf"
      },
      "execution_count": null,
      "outputs": [
        {
          "output_type": "stream",
          "name": "stdout",
          "text": [
            "GIve number5\n",
            "5 x 10 = 50\n",
            "5 x 9 = 45\n",
            "5 x 8 = 40\n",
            "5 x 7 = 35\n",
            "5 x 6 = 30\n",
            "5 x 5 = 25\n",
            "5 x 4 = 20\n",
            "5 x 3 = 15\n",
            "5 x 2 = 10\n",
            "5 x 1 = 5\n"
          ]
        }
      ]
    },
    {
      "cell_type": "markdown",
      "source": [
        "#### Q) Find the numbers between 1 and 200 that are divisible by 3 and 5"
      ],
      "metadata": {
        "id": "clqENKhMOcNG"
      }
    },
    {
      "cell_type": "code",
      "source": [
        "for i in range(1,201):\n",
        "  if (i % 3 == 0) and (i % 5 == 0):\n",
        "    print(i)"
      ],
      "metadata": {
        "colab": {
          "base_uri": "https://localhost:8080/"
        },
        "id": "YwkqUxCkON_U",
        "outputId": "8d52b337-f3cf-473a-d529-765120f42e04"
      },
      "execution_count": null,
      "outputs": [
        {
          "output_type": "stream",
          "name": "stdout",
          "text": [
            "15\n",
            "30\n",
            "45\n",
            "60\n",
            "75\n",
            "90\n",
            "105\n",
            "120\n",
            "135\n",
            "150\n",
            "165\n",
            "180\n",
            "195\n"
          ]
        }
      ]
    },
    {
      "cell_type": "markdown",
      "source": [
        "#### Q) Count the number of values between 1 and 10000 that are divisible by 3, 5 and 7"
      ],
      "metadata": {
        "id": "C4tDKGJvQCKq"
      }
    },
    {
      "cell_type": "code",
      "source": [
        "count = 0\n",
        "\n",
        "for i in range(1,10001):\n",
        "  if (i % 3 == 0) and (i % 5 == 0) and (i % 7 == 0):\n",
        "    count = count + 1\n",
        "    # count += 1\n",
        "print(count)"
      ],
      "metadata": {
        "colab": {
          "base_uri": "https://localhost:8080/"
        },
        "id": "DLgZcuejP6rq",
        "outputId": "385079d1-9006-4a64-8527-7da80e014c18"
      },
      "execution_count": null,
      "outputs": [
        {
          "output_type": "stream",
          "name": "stdout",
          "text": [
            "95\n"
          ]
        }
      ]
    },
    {
      "cell_type": "markdown",
      "source": [
        "#### Q) FInd the sum of first n natural numbers"
      ],
      "metadata": {
        "id": "bJF6KRgQSxRC"
      }
    },
    {
      "cell_type": "code",
      "source": [
        "n = 10\n",
        "sum = 0\n",
        "\n",
        "for i in range(1,n+1):\n",
        "  sum = sum + i\n",
        "\n",
        "print(sum)"
      ],
      "metadata": {
        "colab": {
          "base_uri": "https://localhost:8080/"
        },
        "id": "TjZMbagUShFk",
        "outputId": "f4cb8fbf-367c-488b-d409-f5ce189d0ddb"
      },
      "execution_count": null,
      "outputs": [
        {
          "output_type": "stream",
          "name": "stdout",
          "text": [
            "55\n"
          ]
        }
      ]
    },
    {
      "cell_type": "markdown",
      "source": [
        "#### Q) Find the first 10 numbers between 1 and 10000 that are divisible by 3,5 and 7"
      ],
      "metadata": {
        "id": "bT4TWoZFV9Jf"
      }
    },
    {
      "cell_type": "code",
      "source": [
        "count = 0\n",
        "for i in range(1,10001):\n",
        "  if (i % 3 == 0) and (i % 5 == 0) and (i % 7 == 0):\n",
        "    print(i)\n",
        "    count = count + 1\n",
        "    if count == 10:\n",
        "      break"
      ],
      "metadata": {
        "colab": {
          "base_uri": "https://localhost:8080/"
        },
        "id": "R5pGYzOGU8kS",
        "outputId": "1ebe4f0d-fcd2-4ebf-f426-f1eae35256aa"
      },
      "execution_count": null,
      "outputs": [
        {
          "output_type": "stream",
          "name": "stdout",
          "text": [
            "105\n",
            "210\n",
            "315\n",
            "420\n",
            "525\n",
            "630\n",
            "735\n",
            "840\n",
            "945\n",
            "1050\n"
          ]
        }
      ]
    },
    {
      "cell_type": "code",
      "source": [
        "name = 'Harshvardhan SIngh'\n",
        "\n",
        "for i in name:\n",
        "  print(i, end= \"-\")"
      ],
      "metadata": {
        "colab": {
          "base_uri": "https://localhost:8080/"
        },
        "id": "n8SBGmPjV2fF",
        "outputId": "811ac21e-2b2b-4ec1-a8f6-562f392f95ad"
      },
      "execution_count": null,
      "outputs": [
        {
          "output_type": "stream",
          "name": "stdout",
          "text": [
            "H-a-r-s-h-v-a-r-d-h-a-n- -S-I-n-g-h-"
          ]
        }
      ]
    },
    {
      "cell_type": "markdown",
      "source": [
        "#### From a given string tell me the count of vowels used"
      ],
      "metadata": {
        "id": "lOYSyGlyY_kI"
      }
    },
    {
      "cell_type": "code",
      "source": [
        "s = input(\"Give sometihing \")\n",
        "count = 0\n",
        "for i in s:\n",
        "  if (i == \"a\") or (i == 'e') or (i == 'i') or (i == 'o') or (i == 'u'):\n",
        "    print(i)\n",
        "    count = count + 1\n",
        "\n",
        "print(count)"
      ],
      "metadata": {
        "colab": {
          "base_uri": "https://localhost:8080/"
        },
        "id": "jZx0rz2ZYzDx",
        "outputId": "3142a317-c3da-4d56-f665-4228c634f586"
      },
      "execution_count": null,
      "outputs": [
        {
          "output_type": "stream",
          "name": "stdout",
          "text": [
            "Give sometihing adfsga\n",
            "a\n",
            "a\n",
            "2\n"
          ]
        }
      ]
    },
    {
      "cell_type": "code",
      "source": [
        "count = 0\n",
        "s = input(\"Give sometihing \")\n",
        "v = 'aeiouAEIOU'\n",
        "\n",
        "for i in s:\n",
        "  if i in v:\n",
        "    count = count + 1\n",
        "\n",
        "print(count)"
      ],
      "metadata": {
        "colab": {
          "base_uri": "https://localhost:8080/"
        },
        "id": "hBkdLtG9cBvU",
        "outputId": "c918965a-20b8-4a53-8f17-d599e99134c4"
      },
      "execution_count": null,
      "outputs": [
        {
          "output_type": "stream",
          "name": "stdout",
          "text": [
            "Give sometihing fbbbb\n",
            "0\n"
          ]
        }
      ]
    },
    {
      "cell_type": "code",
      "source": [],
      "metadata": {
        "id": "9AsammmBcb1_"
      },
      "execution_count": null,
      "outputs": []
    }
  ]
}